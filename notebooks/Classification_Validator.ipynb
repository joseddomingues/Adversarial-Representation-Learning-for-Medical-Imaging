{
 "cells": [
  {
   "cell_type": "markdown",
   "metadata": {
    "collapsed": false,
    "pycharm": {
     "name": "#%% md\n"
    }
   },
   "source": [
    "# Train Classifier"
   ]
  },
  {
   "cell_type": "code",
   "execution_count": null,
   "metadata": {
    "collapsed": false,
    "pycharm": {
     "name": "#%%\n"
    }
   },
   "outputs": [],
   "source": [
    "# Change to correct directory\n",
    "%cd ../MedClassifier"
   ]
  },
  {
   "cell_type": "code",
   "execution_count": null,
   "metadata": {
    "collapsed": false,
    "pycharm": {
     "name": "#%%\n"
    }
   },
   "outputs": [],
   "source": [
    "# Train the classifier with the given split data\n",
    "! python main_train.py --train_folder ../notebooks/CN_data/train --iter 300 --optim adam"
   ]
  },
  {
   "cell_type": "code",
   "execution_count": null,
   "metadata": {
    "collapsed": false,
    "pycharm": {
     "name": "#%%\n"
    }
   },
   "outputs": [],
   "source": [
    "# Evaluate images from the test folder\n",
    "! python evaluate_classifier.py --test_folder ../notebooks/CN_data/train --model_pth current_classifier.pth"
   ]
  },
  {
   "cell_type": "markdown",
   "metadata": {
    "collapsed": false,
    "pycharm": {
     "name": "#%% md\n"
    }
   },
   "source": [
    "# Evaluate Test Results"
   ]
  },
  {
   "cell_type": "code",
   "execution_count": null,
   "metadata": {
    "collapsed": false,
    "pycharm": {
     "name": "#%%\n"
    }
   },
   "outputs": [],
   "source": [
    "# Evaluate images from the test folder\n",
    "! python evaluate_classifier.py --test_folder ../notebooks/CN_data/test --model_pth current_classifier.pth"
   ]
  },
  {
   "cell_type": "markdown",
   "metadata": {
    "collapsed": false,
    "pycharm": {
     "name": "#%% md\n"
    }
   },
   "source": [
    "# Evaluate Pipeline Results"
   ]
  },
  {
   "cell_type": "code",
   "execution_count": null,
   "metadata": {
    "collapsed": false,
    "pycharm": {
     "name": "#%%\n"
    }
   },
   "outputs": [],
   "source": [
    "# Evaluate images from the test folder\n",
    "! python evaluate_classifier.py --test_folder ~/Desktop/pipe_results_latest --model_pth current_classifier.pth"
   ]
  },
  {
   "cell_type": "markdown",
   "metadata": {
    "collapsed": false,
    "pycharm": {
     "name": "#%% md\n"
    }
   },
   "source": [
    "# Save Results"
   ]
  },
  {
   "cell_type": "code",
   "execution_count": null,
   "metadata": {
    "collapsed": false,
    "pycharm": {
     "name": "#%%\n"
    }
   },
   "outputs": [],
   "source": [
    "! zip -r last_model.zip tensorboard_train_logs/ current_classifier.pth"
   ]
  },
  {
   "cell_type": "markdown",
   "metadata": {
    "collapsed": false,
    "pycharm": {
     "name": "#%% md\n"
    }
   },
   "source": [
    "# Remove Contents"
   ]
  },
  {
   "cell_type": "code",
   "execution_count": null,
   "metadata": {
    "collapsed": false,
    "pycharm": {
     "name": "#%%\n"
    }
   },
   "outputs": [],
   "source": [
    "! rm -r tensorboard_train_logs\n",
    "! rm current_classifier.pth latest_model.zip"
   ]
  },
  {
   "cell_type": "markdown",
   "metadata": {
    "collapsed": false,
    "pycharm": {
     "name": "#%% md\n"
    }
   },
   "source": [
    "# Helper For Pipeline"
   ]
  },
  {
   "cell_type": "code",
   "execution_count": null,
   "metadata": {
    "collapsed": false,
    "pycharm": {
     "name": "#%%\n"
    }
   },
   "outputs": [],
   "source": [
    "import os\n",
    "import shutil\n",
    "\n",
    "normal = \"normal\"\n",
    "benign = \"benign\"\n",
    "malign = \"malign\"\n",
    "train = \"pipe_train\"\n",
    "test = \"pipe_test\"\n",
    "base_results = \"pipe_results_latest\"\n",
    "base_path = \"~/Desktop\"\n",
    "\n",
    "os.mkdir(os.path.join(base_path, train))\n",
    "os.mkdir(os.path.join(base_path, train, normal))\n",
    "os.mkdir(os.path.join(base_path, train, benign))\n",
    "os.mkdir(os.path.join(base_path, train, malign))\n",
    "\n",
    "os.mkdir(os.path.join(base_path, test))\n",
    "os.mkdir(os.path.join(base_path, test, normal))\n",
    "os.mkdir(os.path.join(base_path, test, benign))\n",
    "os.mkdir(os.path.join(base_path, test, malign))\n",
    "\n",
    "# 75% of 500 samples each\n",
    "samples_train = 375\n",
    "\n",
    "def copy_images_to_folder(source, dest, sample_size, train):\n",
    "    if train:\n",
    "        samples = os.listdir(source)[:sample_size]\n",
    "    else:\n",
    "        samples = os.listdir(source)[sample_size:]\n",
    "    for sample in samples:\n",
    "        shutil.copy(os.path.join(source, sample), dest)\n",
    "\n",
    "copy_images_to_folder(os.path.join(base_path, base_results, normal), os.path.join(base_path, train, normal), samples_train, True)\n",
    "copy_images_to_folder(os.path.join(base_path, base_results, benign), os.path.join(base_path, train, benign), samples_train, True)\n",
    "copy_images_to_folder(os.path.join(base_path, base_results, malign), os.path.join(base_path, train, malign), samples_train, True)\n",
    "\n",
    "copy_images_to_folder(os.path.join(base_path, base_results, normal), os.path.join(base_path, test, normal), samples_train, False)\n",
    "copy_images_to_folder(os.path.join(base_path, base_results, benign), os.path.join(base_path, test, benign), samples_train, False)\n",
    "copy_images_to_folder(os.path.join(base_path, base_results, malign), os.path.join(base_path, test, malign), samples_train, False)"
   ]
  }
 ],
 "metadata": {
  "kernelspec": {
   "display_name": "Python 3",
   "language": "python",
   "name": "python3"
  },
  "language_info": {
   "codemirror_mode": {
    "name": "ipython",
    "version": 2
   },
   "file_extension": ".py",
   "mimetype": "text/x-python",
   "name": "python",
   "nbconvert_exporter": "python",
   "pygments_lexer": "ipython2",
   "version": "2.7.6"
  }
 },
 "nbformat": 4,
 "nbformat_minor": 0
}
