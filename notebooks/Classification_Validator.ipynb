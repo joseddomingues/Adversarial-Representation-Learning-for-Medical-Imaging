{
 "cells": [
  {
   "cell_type": "markdown",
   "source": [
    "# Imports"
   ],
   "metadata": {
    "collapsed": false
   }
  },
  {
   "cell_type": "code",
   "execution_count": 1,
   "metadata": {
    "collapsed": true
   },
   "outputs": [],
   "source": [
    "import os\n",
    "import shutil\n",
    "import random"
   ]
  },
  {
   "cell_type": "markdown",
   "source": [
    "# Utils"
   ],
   "metadata": {
    "collapsed": false
   }
  },
  {
   "cell_type": "code",
   "execution_count": 2,
   "outputs": [],
   "source": [
    "def get_views_images(images):\n",
    "    \"\"\"\n",
    "\n",
    "    @param images:\n",
    "    @return:\n",
    "    \"\"\"\n",
    "    lmlo = [im for im in images if \"lmlo\" in im]\n",
    "    rmlo = [im for im in images if \"rmlo\" in im]\n",
    "    lcc = [im for im in images if \"lcc\" in im]\n",
    "    rcc = [im for im in images if \"rcc\" in im]\n",
    "    return lmlo, rmlo, lcc, rcc"
   ],
   "metadata": {
    "collapsed": false,
    "pycharm": {
     "name": "#%%\n"
    }
   }
  },
  {
   "cell_type": "code",
   "execution_count": 3,
   "outputs": [],
   "source": [
    "def get_individuals_per_view_type(lmlos, rmlos, lccs, rccs):\n",
    "    \"\"\"\n",
    "\n",
    "    @param lmlos:\n",
    "    @param rmlos:\n",
    "    @param lccs:\n",
    "    @param rccs:\n",
    "    @return:\n",
    "    \"\"\"\n",
    "    lmlo_individuals = []\n",
    "    rmlo_individuals = []\n",
    "    lcc_individuals = []\n",
    "    rcc_individuals = []\n",
    "\n",
    "    for elem in lmlos:\n",
    "        curr = \"_\".join(elem.split(\"_\")[:-1])\n",
    "        if curr not in lmlo_individuals:\n",
    "            lmlo_individuals.append(curr)\n",
    "\n",
    "    for elem in rmlos:\n",
    "        curr = \"_\".join(elem.split(\"_\")[:-1])\n",
    "        if curr not in rmlo_individuals:\n",
    "            rmlo_individuals.append(curr)\n",
    "\n",
    "    for elem in lccs:\n",
    "        curr = \"_\".join(elem.split(\"_\")[:-1])\n",
    "        if curr not in lcc_individuals:\n",
    "            lcc_individuals.append(curr)\n",
    "\n",
    "    for elem in rccs:\n",
    "        curr = \"_\".join(elem.split(\"_\")[:-1])\n",
    "        if curr not in rcc_individuals:\n",
    "            rcc_individuals.append(curr)\n",
    "\n",
    "    return lmlo_individuals, rmlo_individuals, lcc_individuals, rcc_individuals"
   ],
   "metadata": {
    "collapsed": false,
    "pycharm": {
     "name": "#%%\n"
    }
   }
  },
  {
   "cell_type": "code",
   "execution_count": 4,
   "outputs": [],
   "source": [
    "def get_individuals(images):\n",
    "    \"\"\"\n",
    "\n",
    "    @param images:\n",
    "    @return:\n",
    "    \"\"\"\n",
    "    individuals = []\n",
    "\n",
    "    for elem in images:\n",
    "        curr = elem.split(\"_\")[0]\n",
    "        if curr not in individuals:\n",
    "            individuals.append(curr)\n",
    "\n",
    "    return individuals"
   ],
   "metadata": {
    "collapsed": false,
    "pycharm": {
     "name": "#%%\n"
    }
   }
  },
  {
   "cell_type": "markdown",
   "source": [
    "# Benign Images Analysis"
   ],
   "metadata": {
    "collapsed": false
   }
  },
  {
   "cell_type": "markdown",
   "source": [
    "First, let's just get how many benign images we have globally"
   ],
   "metadata": {
    "collapsed": false
   }
  },
  {
   "cell_type": "code",
   "execution_count": null,
   "outputs": [],
   "source": [
    "benign_images = [im for im in os.listdir(\"/Users/josedaviddomingues/Desktop/Datasets/segmentation_dataset/CN_images/CN_benign_images\") if \"_mask\" not in im if not im.startswith(\".\")]\n",
    "print(f\"We have {len(benign_images)} GT benign images\")"
   ],
   "metadata": {
    "collapsed": false,
    "pycharm": {
     "name": "#%%\n"
    }
   }
  },
  {
   "cell_type": "markdown",
   "source": [
    "Now let's see how many images type we have for these normal images. We have four different types, so when feeding the classifier these should be taken into consideration too"
   ],
   "metadata": {
    "collapsed": false
   }
  },
  {
   "cell_type": "code",
   "execution_count": null,
   "outputs": [],
   "source": [
    "lmlo_benign, rmlo_benign, lcc_benign, rcc_benign = get_views_images(benign_images)\n",
    "\n",
    "print(\"Benign Images per View Type\")\n",
    "print(f\"LMLO: {len(lmlo_benign)} Images\")\n",
    "print(f\"RMLO: {len(rmlo_benign)} Images\")\n",
    "print(f\"LCC: {len(lcc_benign)} Images\")\n",
    "print(f\"RCC: {len(rcc_benign)} Images\")"
   ],
   "metadata": {
    "collapsed": false,
    "pycharm": {
     "name": "#%%\n"
    }
   }
  },
  {
   "cell_type": "markdown",
   "source": [
    "We also want to see, per view type, how many \"individuals\" we have. Because we have a lot of mammographies that are the same varying just contrast, detail or colours. We want to make sure the division includes at least one sample of each individual"
   ],
   "metadata": {
    "collapsed": false
   }
  },
  {
   "cell_type": "code",
   "execution_count": null,
   "outputs": [],
   "source": [
    "lmlo_benign_individuals, rmlo_benign_individuals, lcc_benign_individuals, rcc_benign_individuals = get_individuals_per_view_type(lmlo_benign, rmlo_benign, lcc_benign, rcc_benign)\n",
    "\n",
    "print(\"Benign Images Individuals per View Type\")\n",
    "print(f\"LMLO: {len(lmlo_benign_individuals)} Individuals\")\n",
    "print(f\"RMLO: {len(rmlo_benign_individuals)} Individuals\")\n",
    "print(f\"LCC: {len(lcc_benign_individuals)} Individuals\")\n",
    "print(f\"RCC: {len(rcc_benign_individuals)} Individuals\")"
   ],
   "metadata": {
    "collapsed": false,
    "pycharm": {
     "name": "#%%\n"
    }
   }
  },
  {
   "cell_type": "markdown",
   "source": [
    "Okay so we have very few individuals, let's see how many we actually have"
   ],
   "metadata": {
    "collapsed": false
   }
  },
  {
   "cell_type": "code",
   "execution_count": null,
   "outputs": [],
   "source": [
    "benign_individuals = get_individuals(benign_images)\n",
    "print(f\"Number of Benign Individuals: {len(benign_individuals)}\")"
   ],
   "metadata": {
    "collapsed": false,
    "pycharm": {
     "name": "#%%\n"
    }
   }
  },
  {
   "cell_type": "markdown",
   "source": [
    "# Malign Images Analysis"
   ],
   "metadata": {
    "collapsed": false
   }
  },
  {
   "cell_type": "code",
   "execution_count": null,
   "outputs": [],
   "source": [
    "malign_images = [im for im in os.listdir(\"/Users/josedaviddomingues/Desktop/Datasets/segmentation_dataset/CN_images/CN_malign_images\") if \"_mask\" not in im if not im.startswith(\".\")]\n",
    "print(f\"We have {len(malign_images)} GT malign images\")"
   ],
   "metadata": {
    "collapsed": false,
    "pycharm": {
     "name": "#%%\n"
    }
   }
  },
  {
   "cell_type": "code",
   "execution_count": null,
   "outputs": [],
   "source": [
    "lmlo_malign, rmlo_malign, lcc_malign, rcc_malign = get_views_images(malign_images)\n",
    "\n",
    "print(\"Malign Images per View Type\")\n",
    "print(f\"LMLO: {len(lmlo_malign)} Images\")\n",
    "print(f\"RMLO: {len(rmlo_malign)} Images\")\n",
    "print(f\"LCC: {len(lcc_malign)} Images\")\n",
    "print(f\"RCC: {len(rcc_malign)} Images\")"
   ],
   "metadata": {
    "collapsed": false,
    "pycharm": {
     "name": "#%%\n"
    }
   }
  },
  {
   "cell_type": "code",
   "execution_count": null,
   "outputs": [],
   "source": [
    "lmlo_malign_individuals, rmlo_malign_individuals, lcc_malign_individuals, rcc_malign_individuals = get_individuals_per_view_type(lmlo_malign, rmlo_malign, lcc_malign, rcc_malign)\n",
    "\n",
    "print(\"Malign Images Individuals per View Type\")\n",
    "print(f\"LMLO: {len(lmlo_malign_individuals)} Individuals\")\n",
    "print(f\"RMLO: {len(rmlo_malign_individuals)} Individuals\")\n",
    "print(f\"LCC: {len(lcc_malign_individuals)} Individuals\")\n",
    "print(f\"RCC: {len(rcc_malign_individuals)} Individuals\")"
   ],
   "metadata": {
    "collapsed": false,
    "pycharm": {
     "name": "#%%\n"
    }
   }
  },
  {
   "cell_type": "code",
   "execution_count": null,
   "outputs": [],
   "source": [
    "malign_individuals = get_individuals(malign_images)\n",
    "print(f\"Number of Malign Individuals: {len(malign_individuals)}\")"
   ],
   "metadata": {
    "collapsed": false,
    "pycharm": {
     "name": "#%%\n"
    }
   }
  },
  {
   "cell_type": "markdown",
   "source": [
    "# Normal Images Analysis"
   ],
   "metadata": {
    "collapsed": false
   }
  },
  {
   "cell_type": "code",
   "execution_count": null,
   "outputs": [],
   "source": [
    "normal_images = [im for im in os.listdir(\"/Users/josedaviddomingues/Desktop/Datasets/segmentation_dataset/CN_images/CN_normal_images\") if \"_mask\" not in im if not im.startswith(\".\")]\n",
    "print(f\"We have {len(normal_images)} GT normal images\")"
   ],
   "metadata": {
    "collapsed": false,
    "pycharm": {
     "name": "#%%\n"
    }
   }
  },
  {
   "cell_type": "code",
   "execution_count": null,
   "outputs": [],
   "source": [
    "lmlo_normal, rmlo_normal, lcc_normal, rcc_normal = get_views_images(normal_images)\n",
    "\n",
    "print(\"Normal Images per View Type\")\n",
    "print(f\"LMLO: {len(lmlo_normal)} Images\")\n",
    "print(f\"RMLO: {len(rmlo_normal)} Images\")\n",
    "print(f\"LCC: {len(lcc_normal)} Images\")\n",
    "print(f\"RCC: {len(rcc_normal)} Images\")"
   ],
   "metadata": {
    "collapsed": false,
    "pycharm": {
     "name": "#%%\n"
    }
   }
  },
  {
   "cell_type": "code",
   "execution_count": null,
   "outputs": [],
   "source": [
    "lmlo_normal_individuals, rmlo_normal_individuals, lcc_normal_individuals, rcc_normal_individuals = get_individuals_per_view_type(lmlo_normal, rmlo_normal, lcc_normal, rcc_normal)\n",
    "\n",
    "print(\"Normal Images Individuals per View Type\")\n",
    "print(f\"LMLO: {len(lmlo_normal_individuals)} Individuals\")\n",
    "print(f\"RMLO: {len(rmlo_normal_individuals)} Individuals\")\n",
    "print(f\"LCC: {len(lcc_normal_individuals)} Individuals\")\n",
    "print(f\"RCC: {len(rcc_normal_individuals)} Individuals\")"
   ],
   "metadata": {
    "collapsed": false,
    "pycharm": {
     "name": "#%%\n"
    }
   }
  },
  {
   "cell_type": "code",
   "execution_count": null,
   "outputs": [],
   "source": [
    "normal_individuals = get_individuals(normal_images)\n",
    "print(f\"Number of Normal Individuals: {len(normal_individuals)}\")"
   ],
   "metadata": {
    "collapsed": false,
    "pycharm": {
     "name": "#%%\n"
    }
   }
  },
  {
   "cell_type": "code",
   "execution_count": null,
   "outputs": [],
   "source": [
    "normal_individuals"
   ],
   "metadata": {
    "collapsed": false,
    "pycharm": {
     "name": "#%%\n"
    }
   }
  },
  {
   "cell_type": "markdown",
   "source": [
    "# Split Dataset for Training and Test"
   ],
   "metadata": {
    "collapsed": false
   }
  },
  {
   "cell_type": "code",
   "execution_count": 5,
   "outputs": [],
   "source": [
    "def extract_given(train_samples, images, individuals, train_folder, test_folder, root_folder):\n",
    "    for individual in individuals:\n",
    "        curr_n_samples = int(train_samples/len(individuals))\n",
    "        curr_target = [elem for elem in images if individual in elem]\n",
    "        random.shuffle(curr_target)\n",
    "        train_one = curr_target[:curr_n_samples]\n",
    "        test_one = curr_target[curr_n_samples:]\n",
    "        for to in train_one:\n",
    "            shutil.copy(os.path.join(root_folder, to), os.path.join(train_folder, to))\n",
    "        for tto in test_one:\n",
    "            shutil.copy(os.path.join(root_folder, tto), os.path.join(test_folder, tto))"
   ],
   "metadata": {
    "collapsed": false,
    "pycharm": {
     "name": "#%%\n"
    }
   }
  },
  {
   "cell_type": "code",
   "execution_count": 6,
   "outputs": [],
   "source": [
    "def split_dataset(train_percentage, base_path):\n",
    "    ##########################################\n",
    "    # GET THE IMAGES INFO\n",
    "    ##########################################\n",
    "    normal_images = [im for im in os.listdir(os.path.join(base_path, \"CN_normal_images\")) if \"_mask\" not in im if not im.startswith(\".\")]\n",
    "    lmlo_normal, rmlo_normal, lcc_normal, rcc_normal = get_views_images(normal_images)\n",
    "    lmlo_normal_individuals, rmlo_normal_individuals, lcc_normal_individuals, rcc_normal_individuals = get_individuals_per_view_type(lmlo_normal, rmlo_normal, lcc_normal, rcc_normal)\n",
    "\n",
    "    malign_images = [im for im in os.listdir(os.path.join(base_path, \"CN_malign_images\")) if \"_mask\" not in im if not im.startswith(\".\")]\n",
    "    lmlo_malign, rmlo_malign, lcc_malign, rcc_malign = get_views_images(malign_images)\n",
    "    lmlo_malign_individuals, rmlo_malign_individuals, lcc_malign_individuals, rcc_malign_individuals = get_individuals_per_view_type(lmlo_malign, rmlo_malign, lcc_malign, rcc_malign)\n",
    "\n",
    "    # Benign\n",
    "    benign_images = [im for im in os.listdir(os.path.join(base_path, \"CN_benign_images\")) if \"_mask\" not in im if not im.startswith(\".\")]\n",
    "    lmlo_benign, rmlo_benign, lcc_benign, rcc_benign = get_views_images(benign_images)\n",
    "    lmlo_benign_individuals, rmlo_benign_individuals, lcc_benign_individuals, rcc_benign_individuals = get_individuals_per_view_type(lmlo_benign, rmlo_benign, lcc_benign, rcc_benign)\n",
    "\n",
    "    ##########################################\n",
    "    # CALCULATES PERCENTAGES\n",
    "    ##########################################\n",
    "    # Get samples and percentage of general\n",
    "    total_samples = len(benign_images) + len(malign_images) + len(normal_images)\n",
    "    benign_percent = int((len(benign_images)/total_samples)*100)\n",
    "    malign_percent = int((len(malign_images)/total_samples)*100)\n",
    "    normal_percent = int((len(normal_images)/total_samples)*100)\n",
    "\n",
    "    # Get percentages for each view for image type\n",
    "    # Benign\n",
    "    rcc_benign_percentage = int((len(rcc_benign)/len(benign_images))*100)\n",
    "    lcc_benign_percentage = int((len(lcc_benign)/len(benign_images))*100)\n",
    "    rmlo_benign_percentage = int((len(rmlo_benign)/len(benign_images))*100)\n",
    "    lmlo_benign_percentage = int((len(lmlo_benign)/len(benign_images))*100)\n",
    "\n",
    "    # Malign\n",
    "    rcc_malign_percentage = int((len(rcc_malign)/len(malign_images))*100)\n",
    "    lcc_malign_percentage = int((len(lcc_malign)/len(malign_images))*100)\n",
    "    rmlo_malign_percentage = int((len(rmlo_malign)/len(malign_images))*100)\n",
    "    lmlo_malign_percentage = int((len(lmlo_malign)/len(malign_images))*100)\n",
    "\n",
    "    # Normal\n",
    "    rcc_normal_percentage = int((len(rcc_normal)/len(normal_images))*100)\n",
    "    lcc_normal_percentage = int((len(lcc_normal)/len(normal_images))*100)\n",
    "    rmlo_normal_percentage = int((len(rmlo_normal)/len(normal_images))*100)\n",
    "    lmlo_normal_percentage = int((len(lmlo_normal)/len(normal_images))*100)\n",
    "\n",
    "\n",
    "    ##########################################\n",
    "    # CREATES FOLDERS\n",
    "    ##########################################\n",
    "    base_folder = \"CN_data\"\n",
    "    train_folder = \"train\"\n",
    "    test_folder = \"test\"\n",
    "    malign_folder = \"malign\"\n",
    "    benign_folder = \"benign\"\n",
    "    normal_folder = \"normal\"\n",
    "\n",
    "    os.mkdir(base_folder)\n",
    "    os.mkdir(os.path.join(base_folder, train_folder))\n",
    "    os.mkdir(os.path.join(base_folder, test_folder))\n",
    "\n",
    "    os.mkdir(os.path.join(base_folder, train_folder, malign_folder))\n",
    "    os.mkdir(os.path.join(base_folder, train_folder, benign_folder))\n",
    "    os.mkdir(os.path.join(base_folder, train_folder, normal_folder))\n",
    "\n",
    "    os.mkdir(os.path.join(base_folder, test_folder, malign_folder))\n",
    "    os.mkdir(os.path.join(base_folder, test_folder, benign_folder))\n",
    "    os.mkdir(os.path.join(base_folder, test_folder, normal_folder))\n",
    "\n",
    "\n",
    "    ##########################################\n",
    "    # SPLIT SAMPLES ACCORDING TO RATE\n",
    "    ##########################################\n",
    "    train_samples = int(train_percentage*total_samples)\n",
    "\n",
    "    # Benign\n",
    "    benign_train_samples = int(benign_percent/100*train_samples)\n",
    "    rcc_benign_train_samples = int(rcc_benign_percentage/100*benign_train_samples)\n",
    "    lcc_benign_train_samples = int(lcc_benign_percentage/100*benign_train_samples)\n",
    "    lmlo_benign_train_samples = int(lmlo_benign_percentage/100*benign_train_samples)\n",
    "    rmlo_benign_train_samples = int(rmlo_benign_percentage/100*benign_train_samples)\n",
    "\n",
    "    extract_given(rcc_benign_train_samples, rcc_benign, rcc_benign_individuals, os.path.join(base_folder, train_folder, benign_folder), os.path.join(base_folder, test_folder, benign_folder), os.path.join(base_path, \"CN_benign_images\"))\n",
    "    extract_given(lcc_benign_train_samples, lcc_benign, lcc_benign_individuals, os.path.join(base_folder, train_folder, benign_folder), os.path.join(base_folder, test_folder, benign_folder), os.path.join(base_path, \"CN_benign_images\"))\n",
    "    extract_given(lmlo_benign_train_samples, lmlo_benign, lmlo_benign_individuals, os.path.join(base_folder, train_folder, benign_folder), os.path.join(base_folder, test_folder, benign_folder), os.path.join(base_path, \"CN_benign_images\"))\n",
    "    extract_given(rmlo_benign_train_samples, rmlo_benign, rmlo_benign_individuals, os.path.join(base_folder, train_folder, benign_folder), os.path.join(base_folder, test_folder, benign_folder), os.path.join(base_path, \"CN_benign_images\"))\n",
    "\n",
    "    # Malign\n",
    "    malign_train_samples = int(malign_percent/100*train_samples)\n",
    "    rcc_malign_train_samples = int(rcc_malign_percentage/100*malign_train_samples)\n",
    "    lcc_malign_train_samples = int(lcc_malign_percentage/100*malign_train_samples)\n",
    "    lmlo_malign_train_samples = int(lmlo_malign_percentage/100*malign_train_samples)\n",
    "    rmlo_malign_train_samples = int(rmlo_malign_percentage/100*malign_train_samples)\n",
    "\n",
    "    extract_given(rcc_malign_train_samples, rcc_malign, rcc_malign_individuals, os.path.join(base_folder, train_folder, malign_folder), os.path.join(base_folder, test_folder, malign_folder), os.path.join(base_path, \"CN_malign_images\"))\n",
    "    extract_given(lcc_malign_train_samples, lcc_malign, lcc_malign_individuals, os.path.join(base_folder, train_folder, malign_folder), os.path.join(base_folder, test_folder, malign_folder), os.path.join(base_path, \"CN_malign_images\"))\n",
    "    extract_given(lmlo_malign_train_samples, lmlo_malign, lmlo_malign_individuals, os.path.join(base_folder, train_folder, malign_folder), os.path.join(base_folder, test_folder, malign_folder), os.path.join(base_path, \"CN_malign_images\"))\n",
    "    extract_given(rmlo_malign_train_samples, rmlo_malign, rmlo_malign_individuals, os.path.join(base_folder, train_folder, malign_folder), os.path.join(base_folder, test_folder, malign_folder), os.path.join(base_path, \"CN_malign_images\"))\n",
    "\n",
    "    # Normal\n",
    "    normal_train_samples = int(normal_percent/100*train_samples)\n",
    "    rcc_normal_train_samples = int(rcc_normal_percentage/100*normal_train_samples)\n",
    "    lcc_normal_train_samples = int(lcc_normal_percentage/100*normal_train_samples)\n",
    "    lmlo_normal_train_samples = int(lmlo_normal_percentage/100*normal_train_samples)\n",
    "    rmlo_normal_train_samples = int(rmlo_normal_percentage/100*normal_train_samples)\n",
    "\n",
    "    extract_given(rcc_normal_train_samples, rcc_normal, rcc_normal_individuals, os.path.join(base_folder, train_folder, normal_folder), os.path.join(base_folder, test_folder, normal_folder), os.path.join(base_path, \"CN_normal_images\"))\n",
    "    extract_given(lcc_normal_train_samples, lcc_normal, lcc_normal_individuals, os.path.join(base_folder, train_folder, normal_folder), os.path.join(base_folder, test_folder, normal_folder), os.path.join(base_path, \"CN_normal_images\"))\n",
    "    extract_given(lmlo_normal_train_samples, lmlo_normal, lmlo_normal_individuals, os.path.join(base_folder, train_folder, normal_folder), os.path.join(base_folder, test_folder, normal_folder), os.path.join(base_path, \"CN_normal_images\"))\n",
    "    extract_given(rmlo_normal_train_samples, rmlo_normal, rmlo_normal_individuals, os.path.join(base_folder, train_folder, normal_folder), os.path.join(base_folder, test_folder, normal_folder), os.path.join(base_path, \"CN_normal_images\"))"
   ],
   "metadata": {
    "collapsed": false,
    "pycharm": {
     "name": "#%%\n"
    }
   }
  },
  {
   "cell_type": "code",
   "execution_count": 7,
   "outputs": [],
   "source": [
    "split_dataset(0.7, \"/Users/josedaviddomingues/Desktop/Datasets/segmentation_dataset/CN_images\")"
   ],
   "metadata": {
    "collapsed": false,
    "pycharm": {
     "name": "#%%\n"
    }
   }
  },
  {
   "cell_type": "markdown",
   "source": [
    "# File For Tableau Analysis"
   ],
   "metadata": {
    "collapsed": false
   }
  },
  {
   "cell_type": "code",
   "execution_count": null,
   "outputs": [],
   "source": [
    "# Export to file for analysing in Tableau\n",
    "with open(\"images.txt\", \"a\") as file:\n",
    "\n",
    "    for elem in benign_images:\n",
    "        file.write(elem + \"_benign\\n\")\n",
    "\n",
    "    for elem in malign_images:\n",
    "        file.write(elem + \"_malign\\n\")\n",
    "\n",
    "    for elem in normal_images:\n",
    "        file.write(elem + \"_normal\\n\")"
   ],
   "metadata": {
    "collapsed": false,
    "pycharm": {
     "name": "#%%\n"
    }
   }
  }
 ],
 "metadata": {
  "kernelspec": {
   "display_name": "Python 3",
   "language": "python",
   "name": "python3"
  },
  "language_info": {
   "codemirror_mode": {
    "name": "ipython",
    "version": 2
   },
   "file_extension": ".py",
   "mimetype": "text/x-python",
   "name": "python",
   "nbconvert_exporter": "python",
   "pygments_lexer": "ipython2",
   "version": "2.7.6"
  }
 },
 "nbformat": 4,
 "nbformat_minor": 0
}