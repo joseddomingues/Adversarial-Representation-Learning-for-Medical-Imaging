{
 "cells": [
  {
   "cell_type": "markdown",
   "source": [
    "# Train Classifier"
   ],
   "metadata": {
    "collapsed": false,
    "pycharm": {
     "name": "#%% md\n"
    }
   }
  },
  {
   "cell_type": "code",
   "execution_count": null,
   "outputs": [],
   "source": [
    "# Change to correct directory\n",
    "%cd ../MedClassifier"
   ],
   "metadata": {
    "collapsed": false,
    "pycharm": {
     "name": "#%%\n"
    }
   }
  },
  {
   "cell_type": "code",
   "execution_count": null,
   "outputs": [],
   "source": [
    "# Train the classifier with the given split data\n",
    "! python main_train.py --train_folder ../notebooks/CN_data/train --iter 300 --optim adam"
   ],
   "metadata": {
    "collapsed": false,
    "pycharm": {
     "name": "#%%\n"
    }
   }
  },
  {
   "cell_type": "code",
   "execution_count": null,
   "outputs": [],
   "source": [
    "# Evaluate images from the test folder\n",
    "! python evaluate_classifier.py --test_folder ../notebooks/CN_data/train --model_pth current_classifier.pth"
   ],
   "metadata": {
    "collapsed": false,
    "pycharm": {
     "name": "#%%\n"
    }
   }
  },
  {
   "cell_type": "markdown",
   "source": [
    "# Evaluate Test Results"
   ],
   "metadata": {
    "collapsed": false,
    "pycharm": {
     "name": "#%% md\n"
    }
   }
  },
  {
   "cell_type": "code",
   "execution_count": null,
   "outputs": [],
   "source": [
    "# Evaluate images from the test folder\n",
    "! python evaluate_classifier.py --test_folder ../notebooks/CN_data/test --model_pth current_classifier.pth"
   ],
   "metadata": {
    "collapsed": false,
    "pycharm": {
     "name": "#%%\n"
    }
   }
  },
  {
   "cell_type": "markdown",
   "source": [
    "# Evaluate Pipeline Results"
   ],
   "metadata": {
    "collapsed": false,
    "pycharm": {
     "name": "#%% md\n"
    }
   }
  },
  {
   "cell_type": "code",
   "execution_count": null,
   "outputs": [],
   "source": [
    "# Evaluate images from the test folder\n",
    "! python evaluate_classifier.py --test_folder /home/jose/Desktop/pipe_results_latest --model_pth current_classifier.pth --transform_test"
   ],
   "metadata": {
    "collapsed": false,
    "pycharm": {
     "name": "#%%\n"
    }
   }
  },
  {
   "cell_type": "markdown",
   "source": [
    "# Save Results"
   ],
   "metadata": {
    "collapsed": false,
    "pycharm": {
     "name": "#%% md\n"
    }
   }
  },
  {
   "cell_type": "code",
   "execution_count": null,
   "outputs": [],
   "source": [
    "! zip -r last_model.zip tensorboard_train_logs/ current_classifier.pth"
   ],
   "metadata": {
    "collapsed": false,
    "pycharm": {
     "name": "#%%\n"
    }
   }
  },
  {
   "cell_type": "markdown",
   "source": [
    "# Remove Contents"
   ],
   "metadata": {
    "collapsed": false,
    "pycharm": {
     "name": "#%% md\n"
    }
   }
  },
  {
   "cell_type": "code",
   "execution_count": null,
   "outputs": [],
   "source": [
    "! rm -r tensorboard_train_logs\n",
    "! rm current_classifier.pth latest_model.zip"
   ],
   "metadata": {
    "collapsed": false,
    "pycharm": {
     "name": "#%%\n"
    }
   }
  },
  {
   "cell_type": "markdown",
   "source": [
    "# Helper For Pipeline"
   ],
   "metadata": {
    "collapsed": false,
    "pycharm": {
     "name": "#%% md\n"
    }
   }
  },
  {
   "cell_type": "code",
   "execution_count": null,
   "outputs": [],
   "source": [
    "import os\n",
    "import random\n",
    "import shutil\n",
    "\n",
    "normal = \"normal\"\n",
    "benign = \"benign\"\n",
    "malign = \"malign\"\n",
    "train = \"pipe_train\"\n",
    "test = \"pipe_test\"\n",
    "base_results = \"pipe_results_latest\"\n",
    "base_path = \"/home/jose/Desktp\"\n",
    "\n",
    "os.mkdir(os.path.join(base_path, train))\n",
    "os.mkdir(os.path.join(base_path, train, normal))\n",
    "os.mkdir(os.path.join(base_path, train, benign))\n",
    "os.mkdir(os.path.join(base_path, train, malign))\n",
    "\n",
    "os.mkdir(os.path.join(base_path, test))\n",
    "os.mkdir(os.path.join(base_path, test, normal))\n",
    "os.mkdir(os.path.join(base_path, test, benign))\n",
    "os.mkdir(os.path.join(base_path, test, malign))\n",
    "\n",
    "# 75% of 500 samples each\n",
    "samples_train = 375\n",
    "\n",
    "def copy_images_to_folder(source, dest, sample_size, train):\n",
    "    if train:\n",
    "        samples = os.listdir(source)[:sample_size]\n",
    "    else:\n",
    "        samples = os.listdir(source)[sample_size:]\n",
    "    for sample in samples:\n",
    "        shutil.copy(os.path.join(source, sample), dest)\n",
    "\n",
    "copy_images_to_folder(os.path.join(base_path, base_results, normal), os.path.join(base_path, train, normal), samples_train, True)\n",
    "copy_images_to_folder(os.path.join(base_path, base_results, benign), os.path.join(base_path, train, benign), samples_train, True)\n",
    "copy_images_to_folder(os.path.join(base_path, base_results, malign), os.path.join(base_path, train, malign), samples_train, True)\n",
    "\n",
    "copy_images_to_folder(os.path.join(base_path, base_results, normal), os.path.join(base_path, test, normal), samples_train, False)\n",
    "copy_images_to_folder(os.path.join(base_path, base_results, benign), os.path.join(base_path, test, benign), samples_train, False)\n",
    "copy_images_to_folder(os.path.join(base_path, base_results, malign), os.path.join(base_path, test, malign), samples_train, False)"
   ],
   "metadata": {
    "collapsed": false,
    "pycharm": {
     "name": "#%%\n"
    }
   }
  }
 ],
 "metadata": {
  "kernelspec": {
   "display_name": "Python 3",
   "language": "python",
   "name": "python3"
  },
  "language_info": {
   "codemirror_mode": {
    "name": "ipython",
    "version": 2
   },
   "file_extension": ".py",
   "mimetype": "text/x-python",
   "name": "python",
   "nbconvert_exporter": "python",
   "pygments_lexer": "ipython2",
   "version": "2.7.6"
  }
 },
 "nbformat": 4,
 "nbformat_minor": 0
}