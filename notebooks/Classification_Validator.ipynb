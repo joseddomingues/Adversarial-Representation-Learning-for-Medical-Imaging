{
 "cells": [
  {
   "cell_type": "markdown",
   "source": [
    "# Imports"
   ],
   "metadata": {
    "collapsed": false
   }
  },
  {
   "cell_type": "code",
   "execution_count": null,
   "outputs": [],
   "source": [
    "import os\n",
    "import random\n",
    "import torchvision.transforms as tvt\n",
    "from PIL import Image\n",
    "from MedClassifier.mammogram_classifier import MammogramClassifier\n",
    "import torch"
   ],
   "metadata": {
    "collapsed": false,
    "pycharm": {
     "name": "#%%\n"
    }
   }
  },
  {
   "cell_type": "markdown",
   "source": [
    "# Train Classifier"
   ],
   "metadata": {
    "collapsed": false
   }
  },
  {
   "cell_type": "code",
   "execution_count": null,
   "outputs": [],
   "source": [
    "# Change to correct directory\n",
    "%cd ../MedClassifier"
   ],
   "metadata": {
    "collapsed": false,
    "pycharm": {
     "name": "#%%\n"
    }
   }
  },
  {
   "cell_type": "code",
   "execution_count": null,
   "outputs": [],
   "source": [
    "# Train the classifier with the given split data\n",
    "! python main_train.py --train_folder ../notebooks/CN_data/train --iter 500"
   ],
   "metadata": {
    "collapsed": false,
    "pycharm": {
     "name": "#%%\n"
    }
   }
  },
  {
   "cell_type": "markdown",
   "source": [
    "# Evaluate Test Results"
   ],
   "metadata": {
    "collapsed": false
   }
  },
  {
   "cell_type": "code",
   "execution_count": null,
   "outputs": [],
   "source": [
    "# Evaluate images from the test folder\n",
    "! python evaluate_classifier.py --test_folder ../notebooks/CN_data/test --model_pth current_classifier.pth"
   ],
   "metadata": {
    "collapsed": false,
    "pycharm": {
     "name": "#%%\n"
    }
   }
  },
  {
   "cell_type": "code",
   "execution_count": null,
   "outputs": [],
   "source": [
    "classes = [\"benign\", \"malign\", \"normal\"]\n",
    "\n",
    "benign_sample = random.choice(os.listdir(\"../notebooks/CN_data/test/benign\"))\n",
    "malign_sample = random.choice(os.listdir(\"../notebooks/CN_data/test/malign\"))\n",
    "normal_sample = random.choice(os.listdir(\"../notebooks/CN_data/test/normal\"))"
   ],
   "metadata": {
    "collapsed": false,
    "pycharm": {
     "name": "#%%\n"
    }
   }
  },
  {
   "cell_type": "code",
   "execution_count": null,
   "outputs": [],
   "source": [
    "# Dimensions of the 25% size image\n",
    "reduced_images_size = (614, 499)\n",
    "\n",
    "# Initialize the dataset with the processing for the ResNet approach\n",
    "print(\"Dataset Preparations...\", end=\" \")\n",
    "transformations = tvt.Compose([\n",
    "    tvt.Resize(reduced_images_size),\n",
    "    tvt.ToTensor(),\n",
    "    tvt.Normalize(mean=[0.485, 0.456, 0.406], std=[0.229, 0.224, 0.225])\n",
    "])"
   ],
   "metadata": {
    "collapsed": false,
    "pycharm": {
     "name": "#%%\n"
    }
   }
  },
  {
   "cell_type": "code",
   "execution_count": null,
   "outputs": [],
   "source": [
    "benign_sample = transformations(Image.open(benign_sample))\n",
    "malign_sample = transformations(Image.open(malign_sample))\n",
    "normal_sample = transformations(Image.open(normal_sample))"
   ],
   "metadata": {
    "collapsed": false,
    "pycharm": {
     "name": "#%%\n"
    }
   }
  },
  {
   "cell_type": "code",
   "execution_count": null,
   "outputs": [],
   "source": [
    "nnet = MammogramClassifier(n_classes=3)\n",
    "nnet.load_state_dict(torch.load(\"current_classifier.pth\"))\n",
    "nnet.to(\"cuda\")"
   ],
   "metadata": {
    "collapsed": false,
    "pycharm": {
     "name": "#%%\n"
    }
   }
  },
  {
   "cell_type": "code",
   "execution_count": null,
   "outputs": [],
   "source": [
    "with torch.no_grad():\n",
    "\n",
    "    # Images to cuda\n",
    "    benign_sample.to(\"cuda\")\n",
    "    malign_sample.to(\"cuda\")\n",
    "    normal_sample.to(\"cuda\")\n",
    "\n",
    "    # Predict\n",
    "    benign_pred = torch.max(nnet(benign_sample).data, 1)\n",
    "    malign_pred = torch.max(nnet(malign_sample).data,1)\n",
    "    normal_pred = torch.max(nnet(normal_sample).data, 1)\n",
    "\n",
    "    # Output results\n",
    "    print(f\"Predicted benign image as {classes[benign_pred]}\")\n",
    "    print(f\"Predicted malign image as {classes[malign_pred]}\")\n",
    "    print(f\"Predicted normal image as {classes[normal_pred]}\")"
   ],
   "metadata": {
    "collapsed": false,
    "pycharm": {
     "name": "#%%\n"
    }
   }
  },
  {
   "cell_type": "markdown",
   "source": [
    "# Evaluate Pipeline Results"
   ],
   "metadata": {
    "collapsed": false
   }
  },
  {
   "cell_type": "code",
   "execution_count": null,
   "outputs": [],
   "source": [
    "benign_sample = random.choice(os.listdir(\"../\"))\n",
    "malign_sample = random.choice(os.listdir(\"../\"))\n",
    "normal_sample = random.choice(os.listdir(\"../\"))"
   ],
   "metadata": {
    "collapsed": false,
    "pycharm": {
     "name": "#%%\n"
    }
   }
  },
  {
   "cell_type": "code",
   "execution_count": null,
   "outputs": [],
   "source": [
    "benign_sample = transformations(Image.open(benign_sample))\n",
    "malign_sample = transformations(Image.open(malign_sample))\n",
    "normal_sample = transformations(Image.open(normal_sample))"
   ],
   "metadata": {
    "collapsed": false,
    "pycharm": {
     "name": "#%%\n"
    }
   }
  },
  {
   "cell_type": "code",
   "execution_count": null,
   "outputs": [],
   "source": [
    "with torch.no_grad():\n",
    "\n",
    "    # Images to cuda\n",
    "    benign_sample.to(\"cuda\")\n",
    "    malign_sample.to(\"cuda\")\n",
    "    normal_sample.to(\"cuda\")\n",
    "\n",
    "    # Predict\n",
    "    benign_pred = torch.max(nnet(benign_sample).data, 1)\n",
    "    malign_pred = torch.max(nnet(malign_sample).data,1)\n",
    "    normal_pred = torch.max(nnet(normal_sample).data, 1)\n",
    "\n",
    "    # Output results\n",
    "    print(f\"Predicted benign image as {classes[benign_pred]}\")\n",
    "    print(f\"Predicted malign image as {classes[malign_pred]}\")\n",
    "    print(f\"Predicted normal image as {classes[normal_pred]}\")"
   ],
   "metadata": {
    "collapsed": false,
    "pycharm": {
     "name": "#%%\n"
    }
   }
  }
 ],
 "metadata": {
  "kernelspec": {
   "display_name": "Python 3",
   "language": "python",
   "name": "python3"
  },
  "language_info": {
   "codemirror_mode": {
    "name": "ipython",
    "version": 2
   },
   "file_extension": ".py",
   "mimetype": "text/x-python",
   "name": "python",
   "nbconvert_exporter": "python",
   "pygments_lexer": "ipython2",
   "version": "2.7.6"
  }
 },
 "nbformat": 4,
 "nbformat_minor": 0
}