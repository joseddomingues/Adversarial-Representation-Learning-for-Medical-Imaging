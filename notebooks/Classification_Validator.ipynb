{
 "cells": [
  {
   "cell_type": "markdown",
   "source": [
    "# Imports"
   ],
   "metadata": {
    "collapsed": false
   }
  },
  {
   "cell_type": "code",
   "execution_count": 2,
   "metadata": {
    "collapsed": true
   },
   "outputs": [],
   "source": [
    "import os"
   ]
  },
  {
   "cell_type": "markdown",
   "source": [
    "# Utils"
   ],
   "metadata": {
    "collapsed": false
   }
  },
  {
   "cell_type": "code",
   "execution_count": 3,
   "outputs": [],
   "source": [
    "def get_views_images(images):\n",
    "    \"\"\"\n",
    "\n",
    "    @param images:\n",
    "    @return:\n",
    "    \"\"\"\n",
    "    lmlo = [im for im in images if \"lmlo\" in im]\n",
    "    rmlo = [im for im in images if \"rmlo\" in im]\n",
    "    lcc = [im for im in images if \"lcc\" in im]\n",
    "    rcc = [im for im in images if \"rcc\" in im]\n",
    "    return lmlo, rmlo, lcc, rcc"
   ],
   "metadata": {
    "collapsed": false,
    "pycharm": {
     "name": "#%%\n"
    }
   }
  },
  {
   "cell_type": "code",
   "execution_count": 4,
   "outputs": [],
   "source": [
    "def get_individuals_per_view_type(lmlos, rmlos, lccs, rccs):\n",
    "    \"\"\"\n",
    "\n",
    "    @param lmlos:\n",
    "    @param rmlos:\n",
    "    @param lccs:\n",
    "    @param rccs:\n",
    "    @return:\n",
    "    \"\"\"\n",
    "    lmlo_individuals = []\n",
    "    rmlo_individuals = []\n",
    "    lcc_individuals = []\n",
    "    rcc_individuals = []\n",
    "\n",
    "    for elem in lmlos:\n",
    "        curr = \"_\".join(elem.split(\"_\")[:-1])\n",
    "        if curr not in lmlo_individuals:\n",
    "            lmlo_individuals.append(curr)\n",
    "\n",
    "    for elem in rmlos:\n",
    "        curr = \"_\".join(elem.split(\"_\")[:-1])\n",
    "        if curr not in rmlo_individuals:\n",
    "            rmlo_individuals.append(curr)\n",
    "\n",
    "    for elem in lccs:\n",
    "        curr = \"_\".join(elem.split(\"_\")[:-1])\n",
    "        if curr not in lcc_individuals:\n",
    "            lcc_individuals.append(curr)\n",
    "\n",
    "    for elem in rccs:\n",
    "        curr = \"_\".join(elem.split(\"_\")[:-1])\n",
    "        if curr not in rcc_individuals:\n",
    "            rcc_individuals.append(curr)\n",
    "\n",
    "    return lmlo_individuals, rmlo_individuals, lcc_individuals, rcc_individuals"
   ],
   "metadata": {
    "collapsed": false,
    "pycharm": {
     "name": "#%%\n"
    }
   }
  },
  {
   "cell_type": "code",
   "execution_count": 5,
   "outputs": [],
   "source": [
    "def get_individuals(images):\n",
    "    \"\"\"\n",
    "\n",
    "    @param images:\n",
    "    @return:\n",
    "    \"\"\"\n",
    "    individuals = []\n",
    "\n",
    "    for elem in images:\n",
    "        curr = elem.split(\"_\")[0]\n",
    "        if curr not in individuals:\n",
    "            individuals.append(curr)\n",
    "\n",
    "    return individuals"
   ],
   "metadata": {
    "collapsed": false,
    "pycharm": {
     "name": "#%%\n"
    }
   }
  },
  {
   "cell_type": "markdown",
   "source": [
    "# Benign Images Analysis"
   ],
   "metadata": {
    "collapsed": false
   }
  },
  {
   "cell_type": "markdown",
   "source": [
    "First, let's just get how many benign images we have globally"
   ],
   "metadata": {
    "collapsed": false
   }
  },
  {
   "cell_type": "code",
   "execution_count": 6,
   "outputs": [
    {
     "name": "stdout",
     "output_type": "stream",
     "text": [
      "We have 449 GT benign images\n"
     ]
    }
   ],
   "source": [
    "benign_images = [im for im in os.listdir(\"/Users/josedaviddomingues/Desktop/Datasets/segmentation_dataset/CN_images/CN_benign_images\") if \"_mask\" not in im if not im.startswith(\".\")]\n",
    "print(f\"We have {len(benign_images)} GT benign images\")"
   ],
   "metadata": {
    "collapsed": false,
    "pycharm": {
     "name": "#%%\n"
    }
   }
  },
  {
   "cell_type": "markdown",
   "source": [
    "Now let's see how many images type we have for these normal images. We have four different types, so when feeding the classifier these should be taken into consideration too"
   ],
   "metadata": {
    "collapsed": false
   }
  },
  {
   "cell_type": "code",
   "execution_count": 7,
   "outputs": [
    {
     "name": "stdout",
     "output_type": "stream",
     "text": [
      "Benign Images per View Type\n",
      "LMLO: 176 Images\n",
      "RMLO: 49 Images\n",
      "LCC: 159 Images\n",
      "RCC: 65 Images\n"
     ]
    }
   ],
   "source": [
    "lmlo_benign, rmlo_benign, lcc_benign, rcc_benign = get_views_images(benign_images)\n",
    "\n",
    "print(\"Benign Images per View Type\")\n",
    "print(f\"LMLO: {len(lmlo_benign)} Images\")\n",
    "print(f\"RMLO: {len(rmlo_benign)} Images\")\n",
    "print(f\"LCC: {len(lcc_benign)} Images\")\n",
    "print(f\"RCC: {len(rcc_benign)} Images\")"
   ],
   "metadata": {
    "collapsed": false,
    "pycharm": {
     "name": "#%%\n"
    }
   }
  },
  {
   "cell_type": "markdown",
   "source": [
    "We also want to see, per view type, how many \"individuals\" we have. Because we have a lot of mammographies that are the same varying just contrast, detail or colours. We want to make sure the division includes at least one sample of each individual"
   ],
   "metadata": {
    "collapsed": false
   }
  },
  {
   "cell_type": "code",
   "execution_count": 8,
   "outputs": [
    {
     "name": "stdout",
     "output_type": "stream",
     "text": [
      "Benign Images Individuals per View Type\n",
      "LMLO: 2 Individuals\n",
      "RMLO: 1 Individuals\n",
      "LCC: 2 Individuals\n",
      "RCC: 1 Individuals\n"
     ]
    }
   ],
   "source": [
    "lmlo_benign_individuals, rmlo_benign_individuals, lcc_benign_individuals, rcc_benign_individuals = get_individuals_per_view_type(lmlo_benign, rmlo_benign, lcc_benign, rcc_benign)\n",
    "\n",
    "print(\"Benign Images Individuals per View Type\")\n",
    "print(f\"LMLO: {len(lmlo_benign_individuals)} Individuals\")\n",
    "print(f\"RMLO: {len(rmlo_benign_individuals)} Individuals\")\n",
    "print(f\"LCC: {len(lcc_benign_individuals)} Individuals\")\n",
    "print(f\"RCC: {len(rcc_benign_individuals)} Individuals\")"
   ],
   "metadata": {
    "collapsed": false,
    "pycharm": {
     "name": "#%%\n"
    }
   }
  },
  {
   "cell_type": "markdown",
   "source": [
    "Okay so we have very few individuals, let's see how many we actually have"
   ],
   "metadata": {
    "collapsed": false
   }
  },
  {
   "cell_type": "code",
   "execution_count": 9,
   "outputs": [
    {
     "name": "stdout",
     "output_type": "stream",
     "text": [
      "Number of Benign Individuals: 4\n"
     ]
    }
   ],
   "source": [
    "benign_individuals = get_individuals(benign_images)\n",
    "print(f\"Number of Benign Individuals: {len(benign_individuals)}\")"
   ],
   "metadata": {
    "collapsed": false,
    "pycharm": {
     "name": "#%%\n"
    }
   }
  },
  {
   "cell_type": "markdown",
   "source": [
    "# Malign Images Analysis"
   ],
   "metadata": {
    "collapsed": false
   }
  },
  {
   "cell_type": "code",
   "execution_count": 10,
   "outputs": [
    {
     "name": "stdout",
     "output_type": "stream",
     "text": [
      "We have 616 GT malign images\n"
     ]
    }
   ],
   "source": [
    "malign_images = [im for im in os.listdir(\"/Users/josedaviddomingues/Desktop/Datasets/segmentation_dataset/CN_images/CN_malign_images\") if \"_mask\" not in im if not im.startswith(\".\")]\n",
    "print(f\"We have {len(malign_images)} GT malign images\")"
   ],
   "metadata": {
    "collapsed": false,
    "pycharm": {
     "name": "#%%\n"
    }
   }
  },
  {
   "cell_type": "code",
   "execution_count": 11,
   "outputs": [
    {
     "name": "stdout",
     "output_type": "stream",
     "text": [
      "Malign Images per View Type\n",
      "LMLO: 142 Images\n",
      "RMLO: 214 Images\n",
      "LCC: 136 Images\n",
      "RCC: 124 Images\n"
     ]
    }
   ],
   "source": [
    "lmlo_malign, rmlo_malign, lcc_malign, rcc_malign = get_views_images(malign_images)\n",
    "\n",
    "print(\"Malign Images per View Type\")\n",
    "print(f\"LMLO: {len(lmlo_malign)} Images\")\n",
    "print(f\"RMLO: {len(rmlo_malign)} Images\")\n",
    "print(f\"LCC: {len(lcc_malign)} Images\")\n",
    "print(f\"RCC: {len(rcc_malign)} Images\")"
   ],
   "metadata": {
    "collapsed": false,
    "pycharm": {
     "name": "#%%\n"
    }
   }
  },
  {
   "cell_type": "code",
   "execution_count": 12,
   "outputs": [
    {
     "name": "stdout",
     "output_type": "stream",
     "text": [
      "Malign Images Individuals per View Type\n",
      "LMLO: 2 Individuals\n",
      "RMLO: 3 Individuals\n",
      "LCC: 2 Individuals\n",
      "RCC: 2 Individuals\n"
     ]
    }
   ],
   "source": [
    "lmlo_malign_individuals, rmlo_malign_individuals, lcc_malign_individuals, rcc_malign_individuals = get_individuals_per_view_type(lmlo_malign, rmlo_malign, lcc_malign, rcc_malign)\n",
    "\n",
    "print(\"Malign Images Individuals per View Type\")\n",
    "print(f\"LMLO: {len(lmlo_malign_individuals)} Individuals\")\n",
    "print(f\"RMLO: {len(rmlo_malign_individuals)} Individuals\")\n",
    "print(f\"LCC: {len(lcc_malign_individuals)} Individuals\")\n",
    "print(f\"RCC: {len(rcc_malign_individuals)} Individuals\")"
   ],
   "metadata": {
    "collapsed": false,
    "pycharm": {
     "name": "#%%\n"
    }
   }
  },
  {
   "cell_type": "code",
   "execution_count": 13,
   "outputs": [
    {
     "name": "stdout",
     "output_type": "stream",
     "text": [
      "Number of Malign Individuals: 4\n"
     ]
    }
   ],
   "source": [
    "malign_individuals = get_individuals(malign_images)\n",
    "print(f\"Number of Malign Individuals: {len(malign_individuals)}\")"
   ],
   "metadata": {
    "collapsed": false,
    "pycharm": {
     "name": "#%%\n"
    }
   }
  },
  {
   "cell_type": "markdown",
   "source": [
    "# Normal Images Analysis"
   ],
   "metadata": {
    "collapsed": false
   }
  },
  {
   "cell_type": "code",
   "execution_count": 14,
   "outputs": [
    {
     "name": "stdout",
     "output_type": "stream",
     "text": [
      "We have 978 GT normal images\n"
     ]
    }
   ],
   "source": [
    "normal_images = [im for im in os.listdir(\"/Users/josedaviddomingues/Desktop/Datasets/segmentation_dataset/CN_images/CN_normal_images\") if \"_mask\" not in im if not im.startswith(\".\")]\n",
    "print(f\"We have {len(normal_images)} GT normal images\")"
   ],
   "metadata": {
    "collapsed": false,
    "pycharm": {
     "name": "#%%\n"
    }
   }
  },
  {
   "cell_type": "code",
   "execution_count": 15,
   "outputs": [
    {
     "name": "stdout",
     "output_type": "stream",
     "text": [
      "Normal Images per View Type\n",
      "LMLO: 256 Images\n",
      "RMLO: 265 Images\n",
      "LCC: 230 Images\n",
      "RCC: 227 Images\n"
     ]
    }
   ],
   "source": [
    "lmlo_normal, rmlo_normal, lcc_normal, rcc_normal = get_views_images(normal_images)\n",
    "\n",
    "print(\"Normal Images per View Type\")\n",
    "print(f\"LMLO: {len(lmlo_normal)} Images\")\n",
    "print(f\"RMLO: {len(rmlo_normal)} Images\")\n",
    "print(f\"LCC: {len(lcc_normal)} Images\")\n",
    "print(f\"RCC: {len(rcc_normal)} Images\")"
   ],
   "metadata": {
    "collapsed": false,
    "pycharm": {
     "name": "#%%\n"
    }
   }
  },
  {
   "cell_type": "code",
   "execution_count": 16,
   "outputs": [
    {
     "name": "stdout",
     "output_type": "stream",
     "text": [
      "Normal Images Individuals per View Type\n",
      "LMLO: 4 Individuals\n",
      "RMLO: 4 Individuals\n",
      "LCC: 4 Individuals\n",
      "RCC: 4 Individuals\n"
     ]
    }
   ],
   "source": [
    "lmlo_normal_individuals, rmlo_normal_individuals, lcc_normal_individuals, rcc_normal_individuals = get_individuals_per_view_type(lmlo_normal, rmlo_normal, lcc_normal, rcc_normal)\n",
    "\n",
    "print(\"Normal Images Individuals per View Type\")\n",
    "print(f\"LMLO: {len(lmlo_normal_individuals)} Individuals\")\n",
    "print(f\"RMLO: {len(rmlo_normal_individuals)} Individuals\")\n",
    "print(f\"LCC: {len(lcc_normal_individuals)} Individuals\")\n",
    "print(f\"RCC: {len(rcc_normal_individuals)} Individuals\")"
   ],
   "metadata": {
    "collapsed": false,
    "pycharm": {
     "name": "#%%\n"
    }
   }
  },
  {
   "cell_type": "code",
   "execution_count": 17,
   "outputs": [
    {
     "name": "stdout",
     "output_type": "stream",
     "text": [
      "Number of Normal Individuals: 4\n"
     ]
    }
   ],
   "source": [
    "normal_individuals = get_individuals(normal_images)\n",
    "print(f\"Number of Normal Individuals: {len(normal_individuals)}\")"
   ],
   "metadata": {
    "collapsed": false,
    "pycharm": {
     "name": "#%%\n"
    }
   }
  },
  {
   "cell_type": "markdown",
   "source": [
    "# Split Dataset for Training and Test"
   ],
   "metadata": {
    "collapsed": false
   }
  },
  {
   "cell_type": "code",
   "execution_count": 18,
   "outputs": [
    {
     "name": "stdout",
     "output_type": "stream",
     "text": [
      "Total Samples: 2043\n"
     ]
    }
   ],
   "source": [
    "# Total number of samples\n",
    "print(f\"Total Samples: {len(benign_images) + len(malign_images) + len(normal_images)}\")"
   ],
   "metadata": {
    "collapsed": false,
    "pycharm": {
     "name": "#%%\n"
    }
   }
  },
  {
   "cell_type": "code",
   "execution_count": null,
   "outputs": [],
   "source": [
    "def split_dataset(train_percentage, base_path):\n",
    "    normal_images = [im for im in os.listdir(os.path.join(base_path, \"CN_normal_images\")) if \"_mask\" not in im if not im.startswith(\".\")]\n",
    "    malign_images = [im for im in os.listdir(os.path.join(base_path, \"CN_malign_images\")) if \"_mask\" not in im if not im.startswith(\".\")]\n",
    "    benign_images = [im for im in os.listdir(os.path.join(base_path, \"CN_benign_images\")) if \"_mask\" not in im if not im.startswith(\".\")]\n",
    "\n",
    "    total_samples = len(benign_images) + len(malign_images) + len(normal_images)\n",
    "    train_samples = int(train_percentage*total_samples)"
   ],
   "metadata": {
    "collapsed": false,
    "pycharm": {
     "name": "#%%\n"
    }
   }
  },
  {
   "cell_type": "code",
   "execution_count": null,
   "outputs": [],
   "source": [
    "split_dataset(0.7)"
   ],
   "metadata": {
    "collapsed": false,
    "pycharm": {
     "name": "#%%\n"
    }
   }
  },
  {
   "cell_type": "markdown",
   "source": [
    "# File For Tableau Analysis"
   ],
   "metadata": {
    "collapsed": false
   }
  },
  {
   "cell_type": "code",
   "execution_count": 38,
   "outputs": [],
   "source": [
    "# Export to file for analysing in Tableau\n",
    "with open(\"images.txt\", \"a\") as file:\n",
    "\n",
    "    for elem in benign_images:\n",
    "        file.write(elem + \"_benign\\n\")\n",
    "\n",
    "    for elem in malign_images:\n",
    "        file.write(elem + \"_malign\\n\")\n",
    "\n",
    "    for elem in normal_images:\n",
    "        file.write(elem + \"_normal\\n\")"
   ],
   "metadata": {
    "collapsed": false,
    "pycharm": {
     "name": "#%%\n"
    }
   }
  }
 ],
 "metadata": {
  "kernelspec": {
   "display_name": "Python 3",
   "language": "python",
   "name": "python3"
  },
  "language_info": {
   "codemirror_mode": {
    "name": "ipython",
    "version": 2
   },
   "file_extension": ".py",
   "mimetype": "text/x-python",
   "name": "python",
   "nbconvert_exporter": "python",
   "pygments_lexer": "ipython2",
   "version": "2.7.6"
  }
 },
 "nbformat": 4,
 "nbformat_minor": 0
}