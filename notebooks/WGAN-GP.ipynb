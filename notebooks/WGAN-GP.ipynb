{
 "cells": [
  {
   "cell_type": "code",
   "execution_count": null,
   "metadata": {
    "collapsed": true,
    "pycharm": {
     "name": "#%%\n"
    }
   },
   "outputs": [],
   "source": [
    "%cd ../WGAN-GP"
   ]
  },
  {
   "cell_type": "code",
   "execution_count": null,
   "outputs": [],
   "source": [
    "!python train.py --train_folder ../optimisation_images/  --batch_size 2 --n_epochs 500"
   ],
   "metadata": {
    "collapsed": false,
    "pycharm": {
     "name": "#%%\n"
    }
   }
  },
  {
   "cell_type": "code",
   "execution_count": null,
   "outputs": [],
   "source": [
    "import torch\n",
    "torch.cuda.empty_cache()"
   ],
   "metadata": {
    "collapsed": false,
    "pycharm": {
     "name": "#%%\n"
    }
   }
  },
  {
   "cell_type": "code",
   "execution_count": null,
   "outputs": [],
   "source": [
    "!rm -r /content/Adversarial-Representation-Learning-for-Medical-Imaging/WGAN-GP/images\n",
    "!rm -r /content/Adversarial-Representation-Learning-for-Medical-Imaging/WGAN-GP/tensorboard_wgan_gp_logs/"
   ],
   "metadata": {
    "collapsed": false,
    "pycharm": {
     "name": "#%%\n"
    }
   }
  },
  {
   "cell_type": "code",
   "execution_count": null,
   "outputs": [],
   "source": [
    "print(\"614/1.25=\", int(614/1.1))\n",
    "print(\"499/1.25=\", int(499/1.1))"
   ],
   "metadata": {
    "collapsed": false,
    "pycharm": {
     "name": "#%%\n"
    }
   }
  },
  {
   "cell_type": "code",
   "execution_count": null,
   "outputs": [],
   "source": [
    "import cv2\n",
    "a = cv2.imread(\"/content/drive/MyDrive/Thesis/Final_Pipeline/harmonised_images/malign_images/malign_collage_3_harmonised.png\", cv2.IMREAD_UNCHANGED)\n",
    "b = cv2.imread(\"/content/drive/MyDrive/Thesis/Final_Pipeline/harmonised_images/malign_images/malign_collage_6_harmonised.png\", cv2.IMREAD_UNCHANGED)\n",
    "\n",
    "print('Original Dimensions : ',a.shape)"
   ],
   "metadata": {
    "collapsed": false,
    "pycharm": {
     "name": "#%%\n"
    }
   }
  },
  {
   "cell_type": "code",
   "execution_count": null,
   "outputs": [],
   "source": [
    "a = cv2.resize(a, (453, 558), interpolation = cv2.INTER_AREA)\n",
    "b = cv2.resize(b, (453, 558), interpolation = cv2.INTER_AREA)"
   ],
   "metadata": {
    "collapsed": false,
    "pycharm": {
     "name": "#%%\n"
    }
   }
  },
  {
   "cell_type": "code",
   "execution_count": null,
   "outputs": [],
   "source": [
    "cv2.imwrite(\"/content/drive/MyDrive/Thesis/2ndGan/malign3resize.png\", a)\n",
    "cv2.imwrite(\"/content/drive/MyDrive/Thesis/2ndGan/malign6resize.png\", b)"
   ],
   "metadata": {
    "collapsed": false,
    "pycharm": {
     "name": "#%%\n"
    }
   }
  }
 ],
 "metadata": {
  "kernelspec": {
   "display_name": "Python 3",
   "language": "python",
   "name": "python3"
  },
  "language_info": {
   "codemirror_mode": {
    "name": "ipython",
    "version": 2
   },
   "file_extension": ".py",
   "mimetype": "text/x-python",
   "name": "python",
   "nbconvert_exporter": "python",
   "pygments_lexer": "ipython2",
   "version": "2.7.6"
  }
 },
 "nbformat": 4,
 "nbformat_minor": 0
}