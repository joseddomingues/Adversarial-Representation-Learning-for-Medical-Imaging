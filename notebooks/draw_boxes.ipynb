{
 "cells": [
  {
   "cell_type": "markdown",
   "id": "9ad8322a-47a9-4668-abe6-acfa70fcab95",
   "metadata": {
    "tags": []
   },
   "source": [
    "## Imports"
   ]
  },
  {
   "cell_type": "code",
   "execution_count": 1,
   "id": "c6ec2b95-5f15-4757-b546-9962941da45f",
   "metadata": {},
   "outputs": [],
   "source": [
    "import os\n",
    "import pandas as pd\n",
    "import cv2\n",
    "import numpy as np\n",
    "from pydicom import dcmread\n",
    "from skimage.exposure import rescale_intensity"
   ]
  },
  {
   "cell_type": "code",
   "execution_count": 2,
   "id": "94781ef9",
   "metadata": {},
   "outputs": [],
   "source": [
    "# Weights the values of the image edges and return the one that has the biggest value\n",
    "# Required to flip images when necessary\n",
    "def _get_image_laterality(image):\n",
    "    left_edge = np.sum(image[:, 0])  \n",
    "    right_edge = np.sum(image[:, -1])\n",
    "    return \"R\" if left_edge < right_edge else \"L\"\n",
    "\n",
    "# get image window center\n",
    "def _get_window_center(ds):\n",
    "    return np.float32(ds[0x5200, 0x9229][0][0x0028, 0x9132][0][0x0028, 0x1050].value)\n",
    "\n",
    "# Get imahe window width\n",
    "def _get_window_width(ds):\n",
    "    return np.float32(ds[0x5200, 0x9229][0][0x0028, 0x9132][0][0x0028, 0x1051].value)\n",
    "\n",
    "# Save image to rgb grayscale for 3 channels\n",
    "def saveToRGBGrayScale(image, output_name):\n",
    "    backtorgb = cv2.cvtColor(image, cv2.COLOR_GRAY2RGB)\n",
    "    cv2.imwrite(output_name, backtorgb)"
   ]
  },
  {
   "cell_type": "markdown",
   "id": "a4eab7a9",
   "metadata": {},
   "source": [
    "## Read Metadata"
   ]
  },
  {
   "cell_type": "code",
   "execution_count": 3,
   "id": "191c1b1f",
   "metadata": {},
   "outputs": [],
   "source": [
    "# Read metadata files\n",
    "train_boxes = pd.read_csv('boxes.csv', delimiter=';')\n",
    "files_path_train = pd.read_csv('paths.csv', delimiter=';')\n",
    "labels = pd.read_csv('labels.csv', delimiter=';')\n",
    "meta = pd.read_csv('metadata.csv')"
   ]
  },
  {
   "cell_type": "code",
   "execution_count": 4,
   "id": "4c0e0a78",
   "metadata": {},
   "outputs": [],
   "source": [
    "# Folder for cancer images\n",
    "MALIGN_FOLDER='malign_images'\n",
    "\n",
    "# Folder for benign images\n",
    "BENIGN_FOLDER='benign_images'\n",
    "\n",
    "# Folder for actionable images\n",
    "ACTIONABLE_FOLDER='actionable_images'\n",
    "\n",
    "# Folder for normal images\n",
    "NORMAL_FOLDER='normal_images'\n",
    "\n",
    "# Create folder for maskless images\n",
    "MASKLESS_IMAGES = 'maskless_images'\n",
    "os.mkdir(MASKLESS_IMAGES)\n",
    "os.mkdir(os.path.join(MASKLESS_IMAGES, MALIGN_FOLDER))\n",
    "os.mkdir(os.path.join(MASKLESS_IMAGES, BENIGN_FOLDER))\n",
    "os.mkdir(os.path.join(MASKLESS_IMAGES, ACTIONABLE_FOLDER))\n",
    "os.mkdir(os.path.join(MASKLESS_IMAGES, NORMAL_FOLDER))\n",
    "\n",
    "\n",
    "# Create folder for segmentations\n",
    "MASK_IMAGES = 'mask_images'\n",
    "os.mkdir(MASK_IMAGES)\n",
    "os.mkdir(os.path.join(MASK_IMAGES, MALIGN_FOLDER))\n",
    "os.mkdir(os.path.join(MASK_IMAGES, BENIGN_FOLDER))\n",
    "os.mkdir(os.path.join(MASK_IMAGES, ACTIONABLE_FOLDER))\n",
    "os.mkdir(os.path.join(MASK_IMAGES, NORMAL_FOLDER))"
   ]
  },
  {
   "cell_type": "code",
   "execution_count": null,
   "id": "7c65f095",
   "metadata": {
    "pycharm": {
     "is_executing": true
    }
   },
   "outputs": [],
   "source": [
    "aux = pd.merge(left=files_path_train, right=train_boxes, how='outer', on=['PatientID', 'StudyUID', 'View'])\n",
    "aux.head()"
   ]
  },
  {
   "cell_type": "code",
   "execution_count": null,
   "id": "853384e0",
   "metadata": {
    "pycharm": {
     "is_executing": true
    }
   },
   "outputs": [],
   "source": [
    "all_data = pd.merge(left=aux, right=labels, how='outer', on=['PatientID', 'StudyUID', 'View'])\n",
    "all_data.head()"
   ]
  },
  {
   "cell_type": "code",
   "execution_count": null,
   "id": "63f1b4ad",
   "metadata": {
    "pycharm": {
     "is_executing": true
    }
   },
   "outputs": [],
   "source": [
    "# Create column for series UID\n",
    "all_data['Series UID'] = all_data['classic_path'].apply(lambda x: x.split('/')[-2])\n",
    "all_data.head()"
   ]
  },
  {
   "cell_type": "code",
   "execution_count": null,
   "id": "fccb9138",
   "metadata": {
    "pycharm": {
     "is_executing": true
    }
   },
   "outputs": [],
   "source": [
    "all_data = all_data.rename(columns={'PatientID': 'Subject ID'})\n",
    "all_data = pd.merge(left=all_data, right=meta, how='outer', on=['Subject ID', 'Series UID'])\n",
    "all_data.head()"
   ]
  },
  {
   "cell_type": "markdown",
   "id": "166f6685",
   "metadata": {},
   "source": [
    "## Construct Masks"
   ]
  },
  {
   "cell_type": "code",
   "execution_count": null,
   "id": "1f044aae",
   "metadata": {
    "pycharm": {
     "is_executing": true
    }
   },
   "outputs": [],
   "source": [
    "# Remove all rows for which we don't the dicom file location\n",
    "all_data = all_data.dropna(subset=['File Location'])\n",
    "all_data.head()"
   ]
  },
  {
   "cell_type": "code",
   "execution_count": 10,
   "id": "ef603f14",
   "metadata": {
    "pycharm": {
     "name": "#%%\n"
    }
   },
   "outputs": [],
   "source": [
    "# Iterate over the train boxes to generate the mask\n",
    "for index, elem in all_data.iterrows():\n",
    "\n",
    "    # Read and prepare image\n",
    "    ds = dcmread(elem['File Location'] + '/1-1.dcm')\n",
    "    arr = ds.pixel_array\n",
    "\n",
    "    window_center = _get_window_center(ds)\n",
    "    window_width = _get_window_width(ds)\n",
    "    low = (2 * window_center - window_width) / 2\n",
    "    high = (2 * window_center + window_width) / 2\n",
    "    arr = rescale_intensity(\n",
    "        arr, in_range=(low, high), out_range=\"dtype\"\n",
    "    )\n",
    "\n",
    "    # Grabs path where to insert image and possible mask\n",
    "    if np.isnan(elem['X']):\n",
    "        path = MASKLESS_IMAGES\n",
    "    else:\n",
    "        path = MASK_IMAGES\n",
    "\n",
    "    if elem['Normal'] == 1:\n",
    "        path = os.path.join(path, NORMAL_FOLDER)\n",
    "    elif elem['Actionable'] == 1:\n",
    "        path = os.path.join(path, ACTIONABLE_FOLDER)\n",
    "    elif elem['Benign'] == 1:\n",
    "        path = os.path.join(path, BENIGN_FOLDER)\n",
    "    else:\n",
    "        path = os.path.join(path, MALIGN_FOLDER)\n",
    "\n",
    "    if not np.isnan(elem['X']):\n",
    "\n",
    "        # Read slice pretended\n",
    "        #c_image = arr[int(elem['Slice'])-1]*255\n",
    "        c_image = arr[int(elem['Slice'])-1]\n",
    "\n",
    "        view_laterality = elem['View'][0].upper()\n",
    "        image_laterality = _get_image_laterality(c_image)\n",
    "\n",
    "        if not image_laterality == view_laterality:\n",
    "            c_image = np.flip(c_image, axis=(-1, -2))\n",
    "\n",
    "        image_save_path = os.path.join(path, elem['Subject ID'] + '_' + elem['View'] + '_' + str(elem['Series UID']) + '.png')\n",
    "        saveToRGBGrayScale(image=c_image, output_name=image_save_path)\n",
    "        #cv2.imwrite(image_save_path, c_image)\n",
    "\n",
    "        # Create mask\n",
    "        mask = np.zeros((c_image.shape[0], c_image.shape[1]))\n",
    "        segmented_mask = cv2.rectangle(mask, (int(elem['X']), int(elem['Y'])), (int(elem['X']) + int(elem['Width']), int(elem['Y']) + int(elem['Height'])), (255), -1)\n",
    "\n",
    "        # Save mask\n",
    "        mask_save_path = os.path.join(path, elem['Subject ID'] + '_' + elem['View'] + '_' + str(elem['Series UID']) + '_mask.png')\n",
    "        cv2.imwrite(mask_save_path, segmented_mask)\n",
    "    \n",
    "    else:\n",
    "        for i in range(arr.shape[0]):\n",
    "            #c_image = arr[i]*255\n",
    "            c_image = arr[i]\n",
    "            image_save_path = os.path.join(path, elem['Subject ID'] + '_' + elem['View'] + '_' + str(elem['Series UID']) + '_' + str(i) + '.png')\n",
    "            #cv2.imwrite(image_save_path, c_image)\n",
    "            saveToRGBGrayScale(image=c_image, output_name=image_save_path)\n",
    "    \n"
   ]
  }
 ],
 "metadata": {
  "kernelspec": {
   "display_name": "Python 3 (ipykernel)",
   "language": "python",
   "name": "python3"
  },
  "language_info": {
   "codemirror_mode": {
    "name": "ipython",
    "version": 3
   },
   "file_extension": ".py",
   "mimetype": "text/x-python",
   "name": "python",
   "nbconvert_exporter": "python",
   "pygments_lexer": "ipython3",
   "version": "3.8.12"
  }
 },
 "nbformat": 4,
 "nbformat_minor": 5
}