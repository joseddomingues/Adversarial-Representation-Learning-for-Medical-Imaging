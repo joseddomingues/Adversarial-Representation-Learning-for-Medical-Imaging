{
 "cells": [
  {
   "cell_type": "markdown",
   "metadata": {
    "id": "BM-VsA1dNNiB"
   },
   "source": [
    "## Basic Segmentation Training"
   ]
  },
  {
   "cell_type": "code",
   "execution_count": null,
   "metadata": {
    "colab": {
     "base_uri": "https://localhost:8080/"
    },
    "id": "CiThmFk6wIqW",
    "outputId": "5edb526d-257b-4232-e45a-cfc74093f869"
   },
   "outputs": [
    {
     "name": "stdout",
     "output_type": "stream",
     "text": [
      "/content/Adversarial-Representation-Learning-for-Medical-Imaging/MedSegmentation\n"
     ]
    }
   ],
   "source": [
    "# Change to proper directory\n",
    "%cd ../MedSegmentation/"
   ]
  },
  {
   "cell_type": "code",
   "execution_count": null,
   "metadata": {
    "colab": {
     "base_uri": "https://localhost:8080/"
    },
    "id": "WBkM9fxjVXGf",
    "outputId": "6eee3762-7ad5-416a-8fa6-ce12b7e1187c",
    "tags": []
   },
   "outputs": [],
   "source": [
    "# Train basic UNet\n",
    "!python train_Unet.py --train_folder ../pipeline_data_tcia/malign --val_folder ../pipeline_data_tcia/benign --n_epochs 200 --batch_size 1"
   ]
  },
  {
   "cell_type": "code",
   "execution_count": null,
   "metadata": {},
   "outputs": [],
   "source": [
    "# Segment the images of a specific folder\n",
    "! python api.py --model_dir model_checkpoints --test_images ../pipeline_data_tcia/malign --no_eval"
   ]
  },
  {
   "cell_type": "markdown",
   "metadata": {},
   "source": [
    "## Combination Segmentation Testing"
   ]
  },
  {
   "cell_type": "code",
   "execution_count": null,
   "metadata": {},
   "outputs": [],
   "source": [
    "# Change to proper directory\n",
    "%cd ../MedSegmentation/"
   ]
  },
  {
   "cell_type": "code",
   "execution_count": 1,
   "metadata": {},
   "outputs": [],
   "source": [
    "# Required imports\n",
    "import sys\n",
    "sys.path.append(\"../utils\")\n",
    "from utils import execute_bash_command"
   ]
  },
  {
   "cell_type": "code",
   "execution_count": null,
   "metadata": {},
   "outputs": [],
   "source": [
    "# Combinations to test\n",
    "# (N Iterations, Batch Size)\n",
    "seg_combinations = [\n",
    "    (1000, 1), (1000, 2), (1000, 3),\n",
    "    (2000, 1), (2000, 2), (2000, 3),\n",
    "    (3000, 1), (3000, 2), (3000, 3)]"
   ]
  },
  {
   "cell_type": "code",
   "execution_count": 2,
   "metadata": {},
   "outputs": [],
   "source": [
    "# Performs a single experiment given the parameters\n",
    "def do_single_experiment(train_folder, val_folder, niters, b_size, test_images):\n",
    "    \n",
    "    cmd = f\"python train_Unet.py --train_folder {train_folder} --val_folder {val_folder} --n_epochs {niters} --batch_size {b_size}\"\n",
    "    for path in execute_bash_command(cmd.split()):\n",
    "        print(path, end=\"\")\n",
    "    \n",
    "    cmd = f\"python api.py --model_dir model_checkpoints --test_images {test_images} --no_eval\"\n",
    "    for path in execute_bash_command(cmd.split()):\n",
    "        print(path, end=\"\")\n",
    "        \n",
    "    comand = f\"zip -r ../(S)NITER{niters}_BSIZE{b_size}.zip .\"\n",
    "    for path in execute_bash_command(comand.split()):\n",
    "        print(path, end=\"\")\n",
    "    \n",
    "    ! rm -r runs results mlruns model_checkpoints model_optimizers"
   ]
  },
  {
   "cell_type": "code",
   "execution_count": null,
   "metadata": {},
   "outputs": [],
   "source": [
    "for comb in seg_combinations:\n",
    "    do_single_experiment(\"../pipeline_data_tcia/malign/\", \"../pipeline_data_tcia/benign/\", comb[0], comb[1], \"../pipeline_data_tcia/benign/\")"
   ]
  },
  {
   "cell_type": "markdown",
   "metadata": {
    "id": "USI9wG8G0RnH",
    "tags": []
   },
   "source": [
    "## Save Model"
   ]
  },
  {
   "cell_type": "code",
   "execution_count": null,
   "metadata": {
    "id": "3gbQHAT3K_63"
   },
   "outputs": [],
   "source": [
    "# Zip everything from this model\n",
    "!zip -r current_model.zip ."
   ]
  },
  {
   "cell_type": "markdown",
   "metadata": {
    "id": "gOUMtetBhAph",
    "tags": []
   },
   "source": [
    "## Delete Current Model"
   ]
  },
  {
   "cell_type": "code",
   "execution_count": null,
   "metadata": {
    "id": "vUtiqp0BpYZL"
   },
   "outputs": [],
   "source": [
    "# Delete everything that the model produces\n",
    "! rm -r runs results mlruns model_checkpoints model_optimizers"
   ]
  }
 ],
 "metadata": {
  "colab": {
   "collapsed_sections": [
    "gOUMtetBhAph",
    "0PZ7DpaG-Xa3"
   ],
   "name": "Baseline Model - UNet",
   "provenance": []
  },
  "kernelspec": {
   "display_name": "Python 3 (ipykernel)",
   "language": "python",
   "name": "python3"
  },
  "language_info": {
   "codemirror_mode": {
    "name": "ipython",
    "version": 3
   },
   "file_extension": ".py",
   "mimetype": "text/x-python",
   "name": "python",
   "nbconvert_exporter": "python",
   "pygments_lexer": "ipython3",
   "version": "3.8.12"
  }
 },
 "nbformat": 4,
 "nbformat_minor": 4
}
