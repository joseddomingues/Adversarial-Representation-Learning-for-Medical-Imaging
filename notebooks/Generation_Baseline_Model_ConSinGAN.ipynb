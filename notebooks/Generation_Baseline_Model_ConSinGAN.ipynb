{
  "nbformat": 4,
  "nbformat_minor": 0,
  "metadata": {
    "accelerator": "GPU",
    "colab": {
      "name": "Generation Baseline Model - ConSinGAN",
      "provenance": [],
      "collapsed_sections": [
        "AeygfBaXNjGP",
        "MMzYyhcJGrGN",
        "OOx_B-4edkwq",
        "nvrfCWsBLBoE",
        "lp3Y8otDH19V"
      ]
    },
    "kernelspec": {
      "display_name": "Python 3",
      "name": "python3"
    },
    "language_info": {
      "name": "python"
    }
  },
  "cells": [
    {
      "cell_type": "markdown",
      "metadata": {
        "id": "AeygfBaXNjGP"
      },
      "source": [
        "## Clone Project"
      ]
    },
    {
      "cell_type": "code",
      "metadata": {
        "id": "70iq4Mc3A40R"
      },
      "source": [
        "# Clone the repo\n",
        "!git clone https://<DRIVE>@github.com/java-master007/Adversarial-Representation-Learning-for-Medical-Imaging.git"
      ],
      "execution_count": null,
      "outputs": []
    },
    {
      "cell_type": "code",
      "metadata": {
        "id": "CukKZT4t9xpW"
      },
      "source": [
        "# Change to the correct directory\n",
        "%cd Adversarial-Representation-Learning-for-Medical-Imaging/"
      ],
      "execution_count": null,
      "outputs": []
    },
    {
      "cell_type": "code",
      "source": [
        "#! git checkout feature/pytorch_lightning_improvement"
      ],
      "metadata": {
        "id": "DiOL4CybhJPa"
      },
      "execution_count": null,
      "outputs": []
    },
    {
      "cell_type": "code",
      "metadata": {
        "id": "vGCdm6Cq-E7p"
      },
      "source": [
        "# Install requirements\n",
        "# It will need restart on colab\n",
        "! pip install -r requirements.txt"
      ],
      "execution_count": null,
      "outputs": []
    },
    {
      "cell_type": "markdown",
      "metadata": {
        "id": "MMzYyhcJGrGN"
      },
      "source": [
        "## Generator"
      ]
    },
    {
      "cell_type": "code",
      "source": [
        "%cd MedSinGAN"
      ],
      "metadata": {
        "id": "IardvSw_J_42"
      },
      "execution_count": null,
      "outputs": []
    },
    {
      "cell_type": "code",
      "metadata": {
        "id": "pVN3u-hj8Xuc"
      },
      "source": [
        "# Import os to run experiments\n",
        "import os\n",
        "\n",
        "# Parameters to vary in generation mode\n",
        "gen_test_stages = [6,8,10,12]\n",
        "gen_test_lr = [0.1, 0.5]\n",
        "gen_test_niter = [500, 1000, 2000]"
      ],
      "execution_count": null,
      "outputs": []
    },
    {
      "cell_type": "code",
      "metadata": {
        "id": "iaUvl1vDBGvk"
      },
      "source": [
        "# Test all parameters to see improvements\n",
        "for elem in gen_test_stages:\n",
        "  os.system('python main_train.py --train_mode generation --input_name ../images/benign.png --train_stages ' + str(elem) + ' --gpu 0\\n')\n",
        "  \n",
        "for elem in gen_test_lr:\n",
        "  os.system('python main_train.py --train_mode generation --input_name ../images/benign.png --lr_scale ' + str(elem) + ' --gpu 0\\n')\n",
        "\n",
        "for elem in gen_test_niter:\n",
        "  os.system('python main_train.py --train_mode generation --input_name ../images/benign.png --niter ' + str(elem) + ' --gpu 0\\n')"
      ],
      "execution_count": null,
      "outputs": []
    },
    {
      "cell_type": "markdown",
      "metadata": {
        "id": "OOx_B-4edkwq"
      },
      "source": [
        "### Benign Samples"
      ]
    },
    {
      "cell_type": "code",
      "metadata": {
        "id": "c15gYN8jdm1X"
      },
      "source": [
        "# Run a best combination for benign image\n",
        "! python main_train.py --train_mode generation --input_name ../images/benign.png --train_stages 16 --niter 2500 --gpu 0 --train_depth 9"
      ],
      "execution_count": null,
      "outputs": []
    },
    {
      "cell_type": "code",
      "source": [
        "# Run a best combination for benign image 2\n",
        "! python main_train.py --train_mode generation --input_name ../images/benign2.png --train_stages 16 --niter 2500 --gpu 0 --train_depth 9"
      ],
      "metadata": {
        "id": "L6PEzEQOhHMA"
      },
      "execution_count": null,
      "outputs": []
    },
    {
      "cell_type": "markdown",
      "metadata": {
        "id": "nvrfCWsBLBoE"
      },
      "source": [
        "### Malign Samples"
      ]
    },
    {
      "cell_type": "code",
      "metadata": {
        "id": "_3ZvPGjlLDob"
      },
      "source": [
        "# Run a best combination for malign image\n",
        "! python main_train.py --train_mode generation --input_name ../images/malignant.png --train_stages 16 --niter 2500 --gpu 0 --train_depth 9"
      ],
      "execution_count": null,
      "outputs": []
    },
    {
      "cell_type": "code",
      "metadata": {
        "id": "EFYUb9Olw9lC"
      },
      "source": [
        "# Run a best combination for benign image 2\n",
        "! python main_train.py --train_mode generation --input_name ../images/malignant_2.png --train_stages 16 --niter 2500 --gpu 0 --train_depth 9"
      ],
      "execution_count": null,
      "outputs": []
    },
    {
      "cell_type": "code",
      "metadata": {
        "id": "Wff-PqDaARJf"
      },
      "source": [
        "# Run a best combination for benign image 2, with PreLU\n",
        "! python main_train.py --train_mode generation --input_name ../images/malignant_2.png --train_stages 16 --niter 2500 --gpu 0 --train_depth 9 --activation prelu"
      ],
      "execution_count": null,
      "outputs": []
    },
    {
      "cell_type": "markdown",
      "metadata": {
        "id": "lp3Y8otDH19V"
      },
      "source": [
        "## Download contents"
      ]
    },
    {
      "cell_type": "code",
      "source": [
        "# Import files to download zips\n",
        "from google.colab import files"
      ],
      "metadata": {
        "id": "EZw-p_HM02mj"
      },
      "execution_count": null,
      "outputs": []
    },
    {
      "cell_type": "code",
      "source": [
        "# Zip the mlruns metrics to analyse\n",
        "!zip -r /content/mlrun.zip /content/Adversarial-Representation-Learning-for-Medical-Imaging/MedSinGAN/mlruns\n",
        "files.download(\"/content/mlrun.zip\")"
      ],
      "metadata": {
        "id": "SivPSIbB0dAi"
      },
      "execution_count": null,
      "outputs": []
    },
    {
      "cell_type": "code",
      "metadata": {
        "id": "fcjI75UjXlZt"
      },
      "source": [
        "# Zip the best model analysed based on the mlruns\n",
        "!zip -r /content/best_generation_model.zip /content/Adversarial-Representation-Learning-for-Medical-Imaging/MedSinGAN/TrainedModels\n",
        "files.download(\"/content/best_generation_model.zip\")"
      ],
      "execution_count": null,
      "outputs": []
    }
  ]
}