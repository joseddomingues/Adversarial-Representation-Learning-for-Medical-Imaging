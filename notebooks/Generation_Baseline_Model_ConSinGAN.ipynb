{
 "cells": [
  {
   "cell_type": "markdown",
   "metadata": {
    "id": "MMzYyhcJGrGN",
    "pycharm": {
     "name": "#%% md\n"
    }
   },
   "source": [
    "## Basic Generation Training"
   ]
  },
  {
   "cell_type": "code",
   "execution_count": null,
   "metadata": {
    "id": "IardvSw_J_42",
    "pycharm": {
     "name": "#%%\n"
    }
   },
   "outputs": [],
   "source": [
    "# Change to correct directory\n",
    "%cd ../MedSinGAN/"
   ]
  },
  {
   "cell_type": "code",
   "execution_count": null,
   "metadata": {
    "pycharm": {
     "name": "#%%\n"
    }
   },
   "outputs": [],
   "source": [
    "# Run a best combination for a given image\n",
    "! python main_train.py --train_mode generation --input_name ../pipeline_data_tcia/normal/normal.png --train_stages 24 --niter 2500 --gpu 0 --train_depth 20 --im_max_size 614 --batch_norm --activation prelu --convergence_patience 2500"
   ]
  },
  {
   "cell_type": "markdown",
   "metadata": {
    "pycharm": {
     "name": "#%% md\n"
    }
   },
   "source": [
    "## Combination Generation Testing"
   ]
  },
  {
   "cell_type": "code",
   "execution_count": null,
   "metadata": {
    "pycharm": {
     "name": "#%%\n"
    }
   },
   "outputs": [],
   "source": [
    "# Change to correct directory\n",
    "%cd ../MedSinGAN/"
   ]
  },
  {
   "cell_type": "code",
   "execution_count": null,
   "metadata": {
    "pycharm": {
     "name": "#%%\n"
    }
   },
   "outputs": [],
   "source": [
    "# Required imports\n",
    "import sys\n",
    "sys.path.append(\"../utils\")\n",
    "from utils import execute_bash_command"
   ]
  },
  {
   "cell_type": "code",
   "execution_count": null,
   "metadata": {
    "id": "pVN3u-hj8Xuc",
    "pycharm": {
     "name": "#%%\n"
    }
   },
   "outputs": [],
   "source": [
    "# Parameters variation\n",
    "# (Stages, N Iterations, Concurrent Stages, Activation Function)\n",
    "params_variations = [(16,2500,12,\"prelu\"),(16,2500,14,\"prelu\"),(16,2500,16,\"prelu\"),\n",
    "                     (24,2500,22,\"prelu\"),(24,2500,20,\"prelu\"),(30,2500,28,\"prelu\"),\n",
    "                     (30,2500,24,\"prelu\")]"
   ]
  },
  {
   "cell_type": "code",
   "execution_count": null,
   "outputs": [],
   "source": [
    "params_variations = [(24,2500,20,\"prelu\")]"
   ],
   "metadata": {
    "collapsed": false,
    "pycharm": {
     "name": "#%%\n"
    }
   }
  },
  {
   "cell_type": "code",
   "execution_count": null,
   "metadata": {
    "id": "iaUvl1vDBGvk",
    "pycharm": {
     "name": "#%%\n"
    }
   },
   "outputs": [],
   "source": [
    "# Execute single experiment with given parameters\n",
    "def do_single_experiment(image_pth, stages, niter, concurrent, a_func):\n",
    "    cmd = f\"python main_train.py --train_mode generation --input_name {image_pth} --im_max_size 614 --train_stages {stages} --niter {niter} --gpu 0 --train_depth {concurrent} --activation {a_func} --batch_norm\"\n",
    "    for path in execute_bash_command(cmd.split()):\n",
    "        print(path, end=\"\")\n",
    "        \n",
    "    comand = f\"zip -r ../(G)S{stages}_NITER{niter}_CONC{concurrent}_AFUNC{a_func}.zip .\"\n",
    "    for path in execute_bash_command(comand.split()):\n",
    "        print(path, end=\"\")\n",
    "    \n",
    "    ! rm -r mlruns TrainedModels"
   ]
  },
  {
   "cell_type": "code",
   "execution_count": null,
   "metadata": {
    "pycharm": {
     "name": "#%%\n"
    }
   },
   "outputs": [],
   "source": [
    "# Run experimentations\n",
    "for comb in params_variations:\n",
    "    do_single_experiment('../experiments/harmonized_w_mask.jpg', comb[0], comb[1], comb[2], comb[3])"
   ]
  },
  {
   "cell_type": "markdown",
   "metadata": {
    "pycharm": {
     "name": "#%% md\n"
    }
   },
   "source": [
    "## Evaluation"
   ]
  },
  {
   "cell_type": "code",
   "execution_count": null,
   "metadata": {
    "pycharm": {
     "name": "#%%\n"
    }
   },
   "outputs": [],
   "source": [
    "# Example of generation evaluation\n",
    "from evaluate_generation import GenerationEvaluator\n",
    "\n",
    "base_image = \"target.png\"\n",
    "generated_samples = \"folder_path\"\n",
    "\n",
    "evaluator = GenerationEvaluator(base_image, generated_samples, adjust_sizes=True)\n",
    "print('FID:', evaluator.run_fid())\n",
    "print('LPIPS:', evaluator.run_lpips())\n",
    "ssim, ms_ssim = evaluator.run_mssim()\n",
    "print('SSIM:', ssim)\n",
    "print('MS-SSIM:', ms_ssim)"
   ]
  },
  {
   "cell_type": "markdown",
   "metadata": {
    "id": "lp3Y8otDH19V",
    "pycharm": {
     "name": "#%% md\n"
    }
   },
   "source": [
    "## Save Model"
   ]
  },
  {
   "cell_type": "code",
   "execution_count": null,
   "metadata": {
    "id": "EZw-p_HM02mj",
    "pycharm": {
     "name": "#%%\n"
    }
   },
   "outputs": [],
   "source": [
    "# Zip everything from this model\n",
    "! zip -r current_model.zip ."
   ]
  },
  {
   "cell_type": "markdown",
   "metadata": {
    "tags": [],
    "pycharm": {
     "name": "#%% md\n"
    }
   },
   "source": [
    "## Delete Current Model"
   ]
  },
  {
   "cell_type": "code",
   "execution_count": null,
   "metadata": {
    "tags": [],
    "pycharm": {
     "name": "#%%\n"
    }
   },
   "outputs": [],
   "source": [
    "# Delete everything that the model produces\n",
    "! rm -r mlruns TrainedModels"
   ]
  },
  {
   "cell_type": "markdown",
   "source": [
    "# Generator Fine-Tune"
   ],
   "metadata": {
    "collapsed": false,
    "pycharm": {
     "name": "#%% md\n"
    }
   }
  },
  {
   "cell_type": "code",
   "execution_count": null,
   "outputs": [],
   "source": [
    "# Run a best combination for a given image\n",
    "! python main_train.py --train_mode generation --input_name ../pipeline_data_tcia/normal/normal.png --train_stages 24 --niter 2500 --gpu 0 --train_depth 20 --im_max_size 614 --batch_norm --activation prelu --convergence_patience 2500 --g_optimizer_folder"
   ],
   "metadata": {
    "collapsed": false,
    "pycharm": {
     "name": "#%%\n"
    }
   }
  },
  {
   "cell_type": "code",
   "execution_count": null,
   "outputs": [],
   "source": [
    "! python evaluate_model.py --gpu 0 --num_samples 50 --model_dir"
   ],
   "metadata": {
    "collapsed": false,
    "pycharm": {
     "name": "#%%\n"
    }
   }
  }
 ],
 "metadata": {
  "accelerator": "GPU",
  "colab": {
   "collapsed_sections": [
    "AeygfBaXNjGP",
    "MMzYyhcJGrGN",
    "OOx_B-4edkwq",
    "nvrfCWsBLBoE",
    "lp3Y8otDH19V"
   ],
   "name": "Generation Baseline Model - ConSinGAN",
   "provenance": []
  },
  "kernelspec": {
   "display_name": "Python 3 (ipykernel)",
   "language": "python",
   "name": "python3"
  },
  "language_info": {
   "codemirror_mode": {
    "name": "ipython",
    "version": 3
   },
   "file_extension": ".py",
   "mimetype": "text/x-python",
   "name": "python",
   "nbconvert_exporter": "python",
   "pygments_lexer": "ipython3",
   "version": "3.8.12"
  }
 },
 "nbformat": 4,
 "nbformat_minor": 4
}
