{
 "cells": [
  {
   "cell_type": "markdown",
   "metadata": {
    "id": "MMzYyhcJGrGN"
   },
   "source": [
    "## Basic Generation Training"
   ]
  },
  {
   "cell_type": "code",
   "execution_count": null,
   "metadata": {
    "id": "IardvSw_J_42"
   },
   "outputs": [],
   "source": [
    "%cd ../MedSinGAN"
   ]
  },
  {
   "cell_type": "code",
   "execution_count": null,
   "metadata": {},
   "outputs": [],
   "source": [
    "# Run a best combination for a given image\n",
    "! python main_train.py --train_mode generation --input_name ../pipeline_data_tcia/benign/benign.png --train_stages 16 --niter 2500 --gpu 0 --train_depth 9"
   ]
  },
  {
   "cell_type": "markdown",
   "metadata": {},
   "source": [
    "## Combination Generation Testing"
   ]
  },
  {
   "cell_type": "code",
   "execution_count": null,
   "metadata": {
    "id": "pVN3u-hj8Xuc"
   },
   "outputs": [],
   "source": [
    "# Import os to run experiments\n",
    "import os\n",
    "\n",
    "# Parameters to vary in generation mode\n",
    "gen_test_stages = [6,8,10,12]\n",
    "gen_test_lr = [0.1, 0.5]\n",
    "gen_test_niter = [500, 1000, 2000]"
   ]
  },
  {
   "cell_type": "code",
   "execution_count": null,
   "metadata": {
    "id": "iaUvl1vDBGvk"
   },
   "outputs": [],
   "source": [
    "# Test all parameters to see improvements\n",
    "for elem in gen_test_stages:\n",
    "  os.system('python main_train.py --train_mode generation --input_name ../images/benign.png --train_stages ' + str(elem) + ' --gpu 0\\n')\n",
    "  \n",
    "for elem in gen_test_lr:\n",
    "  os.system('python main_train.py --train_mode generation --input_name ../images/benign.png --lr_scale ' + str(elem) + ' --gpu 0\\n')\n",
    "\n",
    "for elem in gen_test_niter:\n",
    "  os.system('python main_train.py --train_mode generation --input_name ../images/benign.png --niter ' + str(elem) + ' --gpu 0\\n')"
   ]
  },
  {
   "cell_type": "markdown",
   "metadata": {
    "id": "lp3Y8otDH19V"
   },
   "source": [
    "## Save Model"
   ]
  },
  {
   "cell_type": "code",
   "execution_count": null,
   "metadata": {
    "id": "EZw-p_HM02mj"
   },
   "outputs": [],
   "source": [
    "# Zip everything from this model\n",
    "! zip -r current_model.zip ."
   ]
  },
  {
   "cell_type": "markdown",
   "metadata": {},
   "source": [
    "## Delete Current Model"
   ]
  },
  {
   "cell_type": "markdown",
   "metadata": {},
   "source": [
    "# Delete everything that the model produces\n",
    "! rm -r mlruns TrainedModels"
   ]
  }
 ],
 "metadata": {
  "accelerator": "GPU",
  "colab": {
   "collapsed_sections": [
    "AeygfBaXNjGP",
    "MMzYyhcJGrGN",
    "OOx_B-4edkwq",
    "nvrfCWsBLBoE",
    "lp3Y8otDH19V"
   ],
   "name": "Generation Baseline Model - ConSinGAN",
   "provenance": []
  },
  "kernelspec": {
   "display_name": "Python 3 (ipykernel)",
   "language": "python",
   "name": "python3"
  },
  "language_info": {
   "codemirror_mode": {
    "name": "ipython",
    "version": 3
   },
   "file_extension": ".py",
   "mimetype": "text/x-python",
   "name": "python",
   "nbconvert_exporter": "python",
   "pygments_lexer": "ipython3",
   "version": "3.8.12"
  }
 },
 "nbformat": 4,
 "nbformat_minor": 4
}
