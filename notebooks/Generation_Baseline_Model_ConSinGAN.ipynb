{
 "cells": [
  {
   "cell_type": "markdown",
   "metadata": {
    "id": "MMzYyhcJGrGN"
   },
   "source": [
    "## Basic Generation Training"
   ]
  },
  {
   "cell_type": "code",
   "execution_count": null,
   "metadata": {
    "id": "IardvSw_J_42"
   },
   "outputs": [],
   "source": [
    "# Change to correct directory\n",
    "%cd ../MedSinGAN/"
   ]
  },
  {
   "cell_type": "code",
   "execution_count": null,
   "metadata": {},
   "outputs": [],
   "source": [
    "# Run a best combination for a given image\n",
    "! python main_train.py --train_mode generation --input_name ../pipeline_data_tcia/benign/benign.png --train_stages 16 --niter 2500 --gpu 0 --train_depth 9"
   ]
  },
  {
   "cell_type": "markdown",
   "metadata": {},
   "source": [
    "## Combination Generation Testing"
   ]
  },
  {
   "cell_type": "code",
   "execution_count": null,
   "metadata": {},
   "outputs": [],
   "source": [
    "# Change to correct directory\n",
    "%cd ../MedSinGAN/"
   ]
  },
  {
   "cell_type": "code",
   "execution_count": 2,
   "metadata": {},
   "outputs": [],
   "source": [
    "# Required imports\n",
    "import sys\n",
    "sys.path.append(\"../utils\")\n",
    "import os\n",
    "from utils import execute_bash_command"
   ]
  },
  {
   "cell_type": "code",
   "execution_count": null,
   "metadata": {
    "id": "pVN3u-hj8Xuc"
   },
   "outputs": [],
   "source": [
    "# Parameters variation\n",
    "# (Stages, N Iterations, Concurrent Stages, Activation Function)\n",
    "params_variations = [\n",
    "    (6,1000,3,\"lrelu\"),(6,1000,3,\"prelu\"),\n",
    "    (6,1000,6,\"lrelu\"),(6,1000,6,\"prelu\"),\n",
    "    (12,1000,6,\"lrelu\"),(12,1000,6,\"prelu\"),\n",
    "    (12,1000,10,\"lrelu\"),(12,1000,10,\"prelu\"),\n",
    "    (16,1000,9,\"lrelu\"),(16,1000,9,\"prelu\")]"
   ]
  },
  {
   "cell_type": "code",
   "execution_count": null,
   "metadata": {
    "id": "iaUvl1vDBGvk"
   },
   "outputs": [],
   "source": [
    "# Execute single experiment with given parameters\n",
    "def do_single_experiment(image_pth, stages, niter, concurrent, a_func):\n",
    "    cmd = f\"python main_train.py --train_mode generation --input_name {image_pth} --im_max_size 614 --train_stages {stages} --niter {niter} --gpu 0 --train_depth {concurrent} --activation {a_func}\"\n",
    "    for path in execute_bash_command(cmd.split()):\n",
    "        print(path, end=\"\")\n",
    "        \n",
    "    comand = f\"zip -r ../(G)S{stages}_NITER{niter}_CONC{concurrent}.zip .\"\n",
    "    for path in execute_bash_command(comand.split()):\n",
    "        print(path, end=\"\")\n",
    "    \n",
    "    ! rm -r mlruns TrainedModels"
   ]
  },
  {
   "cell_type": "code",
   "execution_count": null,
   "metadata": {},
   "outputs": [],
   "source": [
    "# Run experimentations\n",
    "for comb in params_variations:\n",
    "    do_single_experiment('../pipeline_data_tcia/benign/benign.png', comb[0], comb[1], comb[2], comb[3])"
   ]
  },
  {
   "cell_type": "markdown",
   "metadata": {
    "id": "lp3Y8otDH19V"
   },
   "source": [
    "## Save Model"
   ]
  },
  {
   "cell_type": "code",
   "execution_count": null,
   "metadata": {
    "id": "EZw-p_HM02mj"
   },
   "outputs": [],
   "source": [
    "# Zip everything from this model\n",
    "! zip -r current_model.zip ."
   ]
  },
  {
   "cell_type": "markdown",
   "metadata": {
    "tags": []
   },
   "source": [
    "## Delete Current Model"
   ]
  },
  {
   "cell_type": "code",
   "execution_count": null,
   "metadata": {
    "tags": []
   },
   "outputs": [],
   "source": [
    "# Delete everything that the model produces\n",
    "! rm -r mlruns TrainedModels"
   ]
  }
 ],
 "metadata": {
  "accelerator": "GPU",
  "colab": {
   "collapsed_sections": [
    "AeygfBaXNjGP",
    "MMzYyhcJGrGN",
    "OOx_B-4edkwq",
    "nvrfCWsBLBoE",
    "lp3Y8otDH19V"
   ],
   "name": "Generation Baseline Model - ConSinGAN",
   "provenance": []
  },
  "kernelspec": {
   "display_name": "Python 3 (ipykernel)",
   "language": "python",
   "name": "python3"
  },
  "language_info": {
   "codemirror_mode": {
    "name": "ipython",
    "version": 3
   },
   "file_extension": ".py",
   "mimetype": "text/x-python",
   "name": "python",
   "nbconvert_exporter": "python",
   "pygments_lexer": "ipython3",
   "version": "3.8.12"
  }
 },
 "nbformat": 4,
 "nbformat_minor": 4
}
