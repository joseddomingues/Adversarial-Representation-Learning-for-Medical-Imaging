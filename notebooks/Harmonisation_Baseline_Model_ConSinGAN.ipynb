{
 "cells": [
  {
   "cell_type": "markdown",
   "metadata": {
    "id": "B-EZvBH-LlrR"
   },
   "source": [
    "## Image Preparation"
   ]
  },
  {
   "cell_type": "markdown",
   "metadata": {
    "id": "zGNiTcN3w6pq"
   },
   "source": [
    "Requires that:\n",
    "- malign.png be 3-channel\n",
    "- normal.png be 3-channel\n",
    "- malign_mask.png be one-channel (BINARY)"
   ]
  },
  {
   "cell_type": "code",
   "execution_count": null,
   "metadata": {},
   "outputs": [],
   "source": [
    "# Required imports\n",
    "import sys\n",
    "sys.path.append(\"../utils\")\n",
    "import os\n",
    "import cv2\n",
    "import matplotlib.pyplot as plt\n",
    "from utils import is_collage_possible, make_collage, make_3_channels_mask, get_latest_model, execute_bash_command, resize_to_dim, get_image_core_name"
   ]
  },
  {
   "cell_type": "code",
   "execution_count": null,
   "metadata": {
    "colab": {
     "base_uri": "https://localhost:8080/"
    },
    "id": "TBlMM1JrWLb3",
    "outputId": "6eb7a926-4e3a-4a66-8505-6f85690d109e"
   },
   "outputs": [],
   "source": [
    "# Checks if collage is possible between two images\n",
    "w, h = is_collage_possible(malign_mask_pth='../pipeline_data_tcia/malign/malign4_mask.png', normal_breast_pth='../pipeline_data_tcia/normal/normal2.png')\n",
    "w, h"
   ]
  },
  {
   "cell_type": "code",
   "execution_count": null,
   "metadata": {
    "id": "RKsyHncdbqI9"
   },
   "outputs": [],
   "source": [
    "# If both width and height are different from -1 then collage is possible\n",
    "if w != -1 and h != -1:\n",
    "    make_collage(malign_pth='../pipeline_data_tcia/malign/malign4.png', malign_mask_pth='../pipeline_data_tcia/malign/malign4_mask.png', normal_pth='../pipeline_data_tcia/normal/normal2.png', width=w, height=h)"
   ]
  },
  {
   "cell_type": "code",
   "execution_count": null,
   "metadata": {
    "id": "2fgEKbQamS5c"
   },
   "outputs": [],
   "source": [
    "# Make the collage mask 3-channel\n",
    "make_3_channels_mask('collage_mask.png', 'collage_mask3.png')\n",
    "os.remove('collage_mask.png')\n",
    "os.rename('collage_mask3.png', 'collage_mask.png')"
   ]
  },
  {
   "cell_type": "markdown",
   "metadata": {
    "id": "dHsKlSIk1_-6"
   },
   "source": [
    "## Basic Harmonisation Training"
   ]
  },
  {
   "cell_type": "code",
   "execution_count": null,
   "metadata": {
    "colab": {
     "base_uri": "https://localhost:8080/"
    },
    "id": "9R5F5Tzc2qdB",
    "outputId": "9be66ff0-978f-4c90-fb83-3a79e30eb4f6"
   },
   "outputs": [],
   "source": [
    "# Change to correct directory\n",
    "%cd ../MedSinGAN/\n",
    "from evaluate_harmonisation import HarmonisationEvaluator\n",
    "from evaluate_generation import GenerationEvaluator"
   ]
  },
  {
   "cell_type": "code",
   "execution_count": null,
   "metadata": {
    "colab": {
     "base_uri": "https://localhost:8080/",
     "height": 510
    },
    "id": "WGuzzV6l2BIZ",
    "outputId": "c21ca96f-86e1-4fdd-9e90-01d408371b39",
    "tags": []
   },
   "outputs": [],
   "source": [
    "# Normal breast collage Harmonizer creation\n",
    "! python main_train.py --train_mode harmonization --gpu 0 --train_stages 3 --im_min_size 120 --lrelu_alpha 0.3 --niter 1000 --batch_norm --input_name ../pipeline_data_tcia/normal/normal.png"
   ]
  },
  {
   "cell_type": "code",
   "execution_count": null,
   "metadata": {
    "colab": {
     "base_uri": "https://localhost:8080/"
    },
    "id": "1AacGNG07vBg",
    "outputId": "ba8a344f-3cd2-48be-f6d0-84f9acfd490c"
   },
   "outputs": [],
   "source": [
    "# Fine tunes the harmonisation model\n",
    "m = get_latest_model(\"TrainedModels/normal\")\n",
    "fine_tune_cmd = \"python main_train.py --gpu 0 --train_mode harmonization --input_name ../pipeline_data_tcia/normal/normal.png --naive_img ../notebooks/collage.png --fine_tune --model_dir \" + str(m)\n",
    "\n",
    "for path in execute_bash_command(fine_tune_cmd.split()):\n",
    "    print(path, end=\"\")"
   ]
  },
  {
   "cell_type": "code",
   "execution_count": null,
   "metadata": {
    "colab": {
     "base_uri": "https://localhost:8080/"
    },
    "id": "0WbYrgQoBdzs",
    "outputId": "7d7187cf-c340-48c9-fe82-aa34d326ee01"
   },
   "outputs": [],
   "source": [
    "# Harmonise the naive collage\n",
    "m = get_latest_model()\n",
    "harmonise_cmd = \"python evaluate_model.py --gpu 0 --model_dir \" + str(m) + \" --naive_img ../notebooks/collage.png\"\n",
    "for path in execute_bash_command(harmonise_cmd.split()):\n",
    "        print(path, end=\"\")"
   ]
  },
  {
   "cell_type": "code",
   "execution_count": null,
   "metadata": {},
   "outputs": [],
   "source": [
    "# Evaluate results\n",
    "base_img = \"../pipeline_data_tcia/normal/normal.png\"\n",
    "target_image = os.path.join(get_latest_model(\"TrainedModels/normal\"), \"Evaluation_..\", \"notebooks\", \"collage.png\", \"harmonized_w_mask.jpg\")\n",
    "evaluator = GenerationEvaluator(base_img, adjust_sizes=True)\n",
    "\n",
    "lpips = evaluator.run_lpips_to_image(target_image)\n",
    "ssim, ms_ssim = evaluator.run_mssim_to_image(target_image)\n",
    "print(f\"LPIPS: {lpips}\\nSSIM: {ssim}\\nMS-SSIM: {ms_ssim}\")"
   ]
  },
  {
   "cell_type": "code",
   "execution_count": null,
   "metadata": {},
   "outputs": [],
   "source": [
    "# Evaluate results according to collage spot\n",
    "base_img = \"../pipeline_data_tcia/normal/normal.png\"\n",
    "target_image = os.path.join(get_latest_model(\"TrainedModels/normal\"), \"Evaluation_..\", \"notebooks\", \"collage.png\", \"harmonized_w_mask.jpg\")\n",
    "target_mask = \"../notebooks/collage_mask.png\"\n",
    "\n",
    "evaluator = HarmonisationEvaluator(base_img, target_image, target_mask)\n",
    "\n",
    "lpips = evaluator.run_lpips()\n",
    "ssim, ms_ssim = evaluator.run_mssim()\n",
    "evaluator.clean_auxiliary_images()\n",
    "print(f\"LPIPS: {lpips}\\nSSIM: {ssim}\\nMS-SSIM: {ms_ssim}\")"
   ]
  },
  {
   "cell_type": "markdown",
   "metadata": {},
   "source": [
    "## Combination Harmonisation Testing"
   ]
  },
  {
   "cell_type": "code",
   "execution_count": null,
   "metadata": {},
   "outputs": [],
   "source": [
    "# Change to correct directory\n",
    "%cd ../MedSinGAN/\n",
    "from evaluate_harmonisation import HarmonisationEvaluator\n",
    "from evaluate_generation import GenerationEvaluator"
   ]
  },
  {
   "cell_type": "code",
   "execution_count": null,
   "metadata": {
    "tags": []
   },
   "outputs": [],
   "source": [
    "# Combinations to test in the format below\n",
    "# (N Stages, Concurrent Stages, Image Min Size, Image Max Size, L.Relu Alpha, N Iterations, Fine-Tune)\n",
    "# (499, 614) for Standard Definition -> Equivalent to 25% of original normal image\n",
    "varying_min_combinations = [\n",
    "    (3, 3, 120, 614, 0.3, 1000, False),\n",
    "    (3, 3, 120, 614, 0.3, 1000, True),\n",
    "    (3, 3, 240, 614, 0.3, 1000, False),\n",
    "    (3, 3, 240, 614, 0.3, 1000, True),\n",
    "    (3, 3, 480, 614, 0.3, 1000, False),\n",
    "    (3, 3, 480, 614, 0.3, 1000, True)]\n",
    "\n",
    "varying_stages_combinations = [\n",
    "    (6, 3, 120, 614, 0.3, 1000, False),\n",
    "    (6, 3, 120, 614, 0.3, 1000, True),\n",
    "    (12, 6, 120, 614, 0.3, 1000, False),\n",
    "    (12, 6, 120, 614, 0.3, 1000, True)]"
   ]
  },
  {
   "cell_type": "code",
   "execution_count": null,
   "metadata": {},
   "outputs": [],
   "source": [
    "# New combinations to test after first tests above\n",
    "# (N Stages, Concurrent Stages, Image Min Size, Image Max Size, L.Relu Alpha, N Iterations, Fine-Tune)\n",
    "# (499, 614) for Standard Definition -> Equivalent to 25% of original normal image\n",
    "new_combinations = [\n",
    "    (3, 3, 120, 614, 0.3, 2000, False),\n",
    "    (6, 3, 120, 614, 0.3, 2000, False),\n",
    "    (12, 6, 120, 614, 0.3, 2000, False),\n",
    "    (6, 6, 120, 614, 0.3, 2000, False),\n",
    "    (12, 10, 120, 614, 0.3, 2000, False),\n",
    "    (12, 12, 120, 614, 0.3, 2000, False),\n",
    "    (16, 9, 120, 614, 0.3, 2000, False),\n",
    "    (16, 12, 120, 614, 0.3, 2000, False),\n",
    "    (16, 16, 120, 614, 0.3, 2000, False)]"
   ]
  },
  {
   "cell_type": "code",
   "execution_count": null,
   "metadata": {},
   "outputs": [],
   "source": [
    "# New combinations to test after HP improvement\n",
    "# (N Stages, Concurrent Stages, Image Min Size, Image Max Size, L.Relu Alpha, N Iterations, Fine-Tune)\n",
    "# (499, 614) for Standard Definition -> Equivalent to 25% of original normal image\n",
    "new_combinations = [\n",
    "    (12,6,120,614,0.3,1000,False), (12,10,120,614,0.3,1000,False), (16,9,120,614,0.3,1000,False), (16,12,120,614,0.3,1000,False),\n",
    "    (20,16,120,614,0.3,1000,False), (22,18,120,614,0.3,1000,False), (24,16,120,614,0.3,1000,False), (24,20,120,614,0.3,1000,False),\n",
    "    (30,24,120,614,0.3,1000,False)]"
   ]
  },
  {
   "cell_type": "code",
   "execution_count": null,
   "metadata": {},
   "outputs": [],
   "source": [
    "# Execute single experiment with given parameters\n",
    "def do_single_experiment(naive_image, normal, stages, min_i, max_i, alpha, niter, concurrent, fine_tune):\n",
    "    \n",
    "    normal_core_name = get_image_core_name(normal)\n",
    "    \n",
    "    cmd = f\"python main_train.py --train_mode harmonization --gpu 0 --train_stages {stages} --train_depth {concurrent} --im_min_size {min_i} --im_max_size {max_i} --lrelu_alpha {alpha} --niter {niter} --batch_norm --input_name {normal}\"\n",
    "    for path in execute_bash_command(cmd.split()):\n",
    "        print(path, end=\"\")\n",
    "        \n",
    "    if fine_tune:\n",
    "        m = get_latest_model(f\"TrainedModels/{normal_core_name}\")\n",
    "        fine_tune_cmd = f\"python main_train.py --gpu 0 --train_mode harmonization --input_name {normal} --naive_img {naive_image} --fine_tune --model_dir \" + str(m)\n",
    "        for path in execute_bash_command(fine_tune_cmd.split()):\n",
    "            print(path, end=\"\")\n",
    "        \n",
    "    m = get_latest_model(f\"TrainedModels/{normal_core_name}\")\n",
    "    harmonise_cmd = \"python evaluate_model.py --gpu 0 --model_dir \" + str(m) + \" --naive_img \"+ naive_image\n",
    "    for path in execute_bash_command(harmonise_cmd.split()):\n",
    "        print(path, end=\"\")\n",
    "        \n",
    "    # Evaluate and save to new metrics file\n",
    "    target_image = os.path.join(get_latest_model(f\"TrainedModels/{normal_core_name}\"), \"Evaluation_..\", \"notebooks\", \"collage.png\", \"harmonized_w_mask.jpg\")\n",
    "    target_mask = \"../notebooks/collage_mask.png\"\n",
    "    evaluator = HarmonisationEvaluator(normal, target_image, target_mask)\n",
    "    lpips = evaluator.run_lpips()\n",
    "    ssim, ms_ssim = evaluator.run_mssim()\n",
    "    evaluator.clean_auxiliary_images()\n",
    "    \n",
    "    with open('new_evaluation_metrics.txt', 'w') as f:\n",
    "        print(f\"LPIPS: {lpips}\\nSSIM: {ssim}\\nMS-SSIM: {ms_ssim}\", file=f)\n",
    "        \n",
    "    # Evaluate and save to generation metrics file\n",
    "    target_image = os.path.join(get_latest_model(f\"TrainedModels/{normal_core_name}\"), \"Evaluation_..\", \"notebooks\", \"collage.png\", \"harmonized_w_mask.jpg\")\n",
    "    evaluator = GenerationEvaluator(normal, adjust_sizes=True)\n",
    "    lpips = evaluator.run_lpips_to_image(target_image)\n",
    "    ssim, ms_ssim = evaluator.run_mssim_to_image(target_image)\n",
    "    with open('generation_evaluation_metrics.txt', 'w') as f:\n",
    "        print(f\"LPIPS: {lpips}\\nSSIM: {ssim}\\nMS-SSIM: {ms_ssim}\", file=f)\n",
    "        \n",
    "    comand = f\"zip -r ../(H)S{stages}_MIN{min_i}MAX_{max_i}ITER_{niter}_CONC_{concurrent}_FT_{fine_tune}.zip .\"\n",
    "    for path in execute_bash_command(comand.split()):\n",
    "        print(path, end=\"\")\n",
    "        \n",
    "    ! rm -r mlruns TrainedModels"
   ]
  },
  {
   "cell_type": "code",
   "execution_count": null,
   "metadata": {},
   "outputs": [],
   "source": [
    "# Run experimentations\n",
    "#for comb in varying_stages_combinations:\n",
    "#    do_single_experiment('../notebooks/collage.png', '../pipeline_data_tcia/normal/normal.png', comb[0], comb[2], comb[3], comb[4], comb[5], comb[1], comb[6])\n",
    "    \n",
    "#for comb in varying_min_combinations:\n",
    "#    do_single_experiment('../notebooks/collage.png', '../pipeline_data_tcia/normal/normal.png', comb[0], comb[2], comb[3], comb[4], comb[5], comb[1], comb[6])\n",
    "\n",
    "\n",
    "# New Experiments\n",
    "for comb in new_combinations:\n",
    "    do_single_experiment('../notebooks/collage.png', '../pipeline_data_tcia/normal/normal2.png', comb[0], comb[2], comb[3], comb[4], comb[5], comb[1], comb[6])"
   ]
  },
  {
   "cell_type": "markdown",
   "metadata": {
    "id": "6Ds0KPgz6uI-"
   },
   "source": [
    "## Save Model"
   ]
  },
  {
   "cell_type": "code",
   "execution_count": null,
   "metadata": {
    "id": "SZS5yU5U6vkU"
   },
   "outputs": [],
   "source": [
    "# Zip everything from this model\n",
    "!zip -r current_model.zip ."
   ]
  },
  {
   "cell_type": "markdown",
   "metadata": {
    "id": "0fEUmlAKc7zn"
   },
   "source": [
    "## Delete Current Model"
   ]
  },
  {
   "cell_type": "code",
   "execution_count": null,
   "metadata": {
    "id": "tip34yzOc8Yo"
   },
   "outputs": [],
   "source": [
    "# Delete everything that the model produces\n",
    "! rm -r mlruns TrainedModels\n",
    "%cd ../notebooks/\n",
    "! rm collage_mask.png collage.png malign_aux.png normal_aux.png"
   ]
  }
 ],
 "metadata": {
  "accelerator": "GPU",
  "colab": {
   "collapsed_sections": [
    "9X4-kKK_1yPx",
    "QMNlBMrG1Hmg",
    "ZjOZzo8S18Z7",
    "CBSXbWo5A-Ck",
    "6Ds0KPgz6uI-"
   ],
   "name": "Harmonisation Baseline Model - ConSinGAN",
   "provenance": []
  },
  "kernelspec": {
   "display_name": "Python 3 (ipykernel)",
   "language": "python",
   "name": "python3"
  },
  "language_info": {
   "codemirror_mode": {
    "name": "ipython",
    "version": 3
   },
   "file_extension": ".py",
   "mimetype": "text/x-python",
   "name": "python",
   "nbconvert_exporter": "python",
   "pygments_lexer": "ipython3",
   "version": "3.8.12"
  }
 },
 "nbformat": 4,
 "nbformat_minor": 4
}
