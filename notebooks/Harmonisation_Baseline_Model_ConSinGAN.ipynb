{
  "cells": [
    {
      "cell_type": "markdown",
      "metadata": {
        "id": "9X4-kKK_1yPx"
      },
      "source": [
        "## Clone Project"
      ]
    },
    {
      "cell_type": "code",
      "execution_count": null,
      "metadata": {
        "id": "H1cDHVEb1uOh",
        "colab": {
          "base_uri": "https://localhost:8080/"
        },
        "outputId": "111edcfd-ac56-4e08-e9dd-bc93798a6b9b"
      },
      "outputs": [
        {
          "output_type": "stream",
          "name": "stdout",
          "text": [
            "Cloning into 'Adversarial-Representation-Learning-for-Medical-Imaging'...\n",
            "remote: Enumerating objects: 490, done.\u001b[K\n",
            "remote: Counting objects: 100% (490/490), done.\u001b[K\n",
            "remote: Compressing objects: 100% (345/345), done.\u001b[K\n",
            "remote: Total 490 (delta 281), reused 338 (delta 133), pack-reused 0\u001b[K\n",
            "Receiving objects: 100% (490/490), 49.61 MiB | 38.20 MiB/s, done.\n",
            "Resolving deltas: 100% (281/281), done.\n"
          ]
        }
      ],
      "source": [
        "# Clone the repo\n",
        "!git clone https://<DRIVE>@github.com/java-master007/Adversarial-Representation-Learning-for-Medical-Imaging.git"
      ]
    },
    {
      "cell_type": "code",
      "execution_count": null,
      "metadata": {
        "id": "_UgmJZbs11J7",
        "colab": {
          "base_uri": "https://localhost:8080/"
        },
        "outputId": "09b0dcb7-9132-48e4-fa05-b8721cd39db7"
      },
      "outputs": [
        {
          "output_type": "stream",
          "name": "stdout",
          "text": [
            "/content/Adversarial-Representation-Learning-for-Medical-Imaging\n"
          ]
        }
      ],
      "source": [
        "# Change to the correct directory\n",
        "%cd Adversarial-Representation-Learning-for-Medical-Imaging/"
      ]
    },
    {
      "cell_type": "code",
      "execution_count": null,
      "metadata": {
        "id": "vab1bbrK13JC"
      },
      "outputs": [],
      "source": [
        "# Install requirements\n",
        "# It will need restart on colab\n",
        "! pip install -r requirements.txt"
      ]
    },
    {
      "cell_type": "markdown",
      "metadata": {
        "id": "B-EZvBH-LlrR"
      },
      "source": [
        "## Image Preparation"
      ]
    },
    {
      "cell_type": "markdown",
      "source": [
        "Requires that:\n",
        "- malign.png be 3-channel\n",
        "- normal.png be 3-channel\n",
        "- malign_mask.png be one-channel"
      ],
      "metadata": {
        "id": "zGNiTcN3w6pq"
      }
    },
    {
      "cell_type": "code",
      "source": [
        "# Import required libraries\n",
        "import cv2\n",
        "import os\n",
        "from skimage import io as img\n",
        "import numpy as np\n",
        "import matplotlib.pyplot as plt\n",
        "import matplotlib.image as mpimg\n",
        "import torch\n",
        "import torchvision as tv\n",
        "from PIL import Image, ImageDraw, ImageFilter"
      ],
      "metadata": {
        "id": "KFcbV3kZcJih"
      },
      "execution_count": 37,
      "outputs": []
    },
    {
      "cell_type": "code",
      "source": [
        "# Remove the 4 channel to collage image\n",
        "def remove_4_channel(im_path, output_path):\n",
        "\n",
        "    img = cv2.imread(im_path, cv2.IMREAD_UNCHANGED)\n",
        "\n",
        "    # Transpose naive image to properly see it\n",
        "    tranposed = img.transpose(2,0,1)\n",
        "\n",
        "    # Transpose image again with only the 3 rgb channels to save\n",
        "    output = tranposed[0:3].transpose(1,2,0)\n",
        "\n",
        "    # Save new naive image (3-channels)\n",
        "    cv2.imwrite(output_path, output)"
      ],
      "metadata": {
        "id": "7EvfVGz8cK37"
      },
      "execution_count": 38,
      "outputs": []
    },
    {
      "cell_type": "code",
      "source": [
        "# Resize image for hamronisation\n",
        "def resize_image(im_path, percent_original, output_path):\n",
        "    img = cv2.imread(im_path, cv2.IMREAD_UNCHANGED)\n",
        "    \n",
        "    print('Original Dimensions : ',img.shape)\n",
        "    \n",
        "    scale_percent = percent_original # percent of original size\n",
        "    width = int(img.shape[1] * scale_percent / 100)\n",
        "    height = int(img.shape[0] * scale_percent / 100)\n",
        "    dim = (width, height)\n",
        "    \n",
        "    # resize image\n",
        "    resized = cv2.resize(img, dim, interpolation = cv2.INTER_AREA)\n",
        "    \n",
        "    print('Resized Dimensions : ',resized.shape)\n",
        "    cv2.imwrite(output_path, resized)"
      ],
      "metadata": {
        "id": "PGT3kdfwcNzb"
      },
      "execution_count": 39,
      "outputs": []
    },
    {
      "cell_type": "code",
      "source": [
        "# Make mask have 3 channels\n",
        "def make_3_channels_mask(im_path, out_path):\n",
        "  i = img.imread(im_path)\n",
        "  new_i = []\n",
        "  new_i.append(i)\n",
        "  new_i.append(i)\n",
        "  new_i.append(i)\n",
        "  new_i = torch.tensor(np.array(new_i))\n",
        "  tv.io.write_png(new_i, out_path)"
      ],
      "metadata": {
        "id": "2TkjI3EXcMVq"
      },
      "execution_count": 40,
      "outputs": []
    },
    {
      "cell_type": "code",
      "source": [
        "# Crops the segmentation by its limits\n",
        "def crop_segmentation(fp, outp):\n",
        "  imag = cv2.imread(fp, cv2.IMREAD_UNCHANGED)\n",
        "  imageObject = Image.open(fp)\n",
        "  positions = np.nonzero(imag)\n",
        "\n",
        "  top = positions[0].min()\n",
        "  bottom = positions[0].max()\n",
        "  left = positions[1].min()\n",
        "  right = positions[1].max()\n",
        "\n",
        "  cropped = imageObject.crop((left,top,right,bottom))\n",
        "  cropped.save(outp)"
      ],
      "metadata": {
        "id": "bZX9tjIyXxmQ"
      },
      "execution_count": 41,
      "outputs": []
    },
    {
      "cell_type": "code",
      "source": [
        "# Makes a collage given the malign image, the malign mask, and the normal image\n",
        "def make_collage(malign_pth, malign_mask_pth, normal_pth):\n",
        "\n",
        "  # Reads malign base image\n",
        "  malign = cv2.imread(malign_pth, cv2.IMREAD_UNCHANGED)\n",
        "\n",
        "  # Convert mask to 3 channels\n",
        "  make_3_channels_mask(malign_mask_pth, '/content/malign_mask3.png')\n",
        "  malign_mask = cv2.imread('/content/malign_mask3.png', cv2.IMREAD_UNCHANGED)\n",
        "\n",
        "  # Grab the image mask from the mass image\n",
        "  masked = malign.copy()\n",
        "  masked[malign_mask == 0] = 0\n",
        "  cv2.imwrite('/content/segmented_mass.png', masked)\n",
        "\n",
        "  # Crop both the mask, and the masked mass\n",
        "  crop_segmentation('/content/segmented_mass.png', '/content/cropped_mass.png')\n",
        "  crop_segmentation(malign_mask_pth, '/content/malign_mask_cropped.png')\n",
        "\n",
        "  normal_image = Image.open(normal_pth)\n",
        "  mass_to_paste = Image.open('/content/cropped_mass.png')\n",
        "  mass_mask = Image.open('/content/malign_mask_cropped.png')\n",
        "\n",
        "  # Creates collage and save\n",
        "  back_im = normal_image.copy()\n",
        "  #TODO: Calculate how to paste\n",
        "  back_im.paste(mass_to_paste, (1000,1000), mass_mask)\n",
        "  back_im.save('/content/collage.png', quality=95)\n",
        "\n",
        "  # Creates collage mask\n",
        "  collage_mask = Image.new(\"L\", back_im.size, 0)\n",
        "  collage_mask.paste(mass_mask, (1000,1000))\n",
        "  collage_mask.save('/content/collage_mask.png', quality=95)\n",
        "\n",
        "  # Deletes unecessary images\n",
        "  try:\n",
        "    os.remove('/content/malign_mask3.png')\n",
        "    os.remove('/content/segmented_mass.png')\n",
        "    os.remove('/content/cropped_mass.png')\n",
        "    os.remove('/content/malign_mask_cropped.png')\n",
        "  except OSError as e:\n",
        "    print(f\"FAILED\\nFile: {e.filename}\\nError: {e.strerror}\")\n"
      ],
      "metadata": {
        "id": "pk4uvtD9T-Kz"
      },
      "execution_count": 43,
      "outputs": []
    },
    {
      "cell_type": "code",
      "source": [
        "make_collage(malign_pth='/content/malign.png', malign_mask_pth='/content/malign_mask.png', normal_pth='/content/normal.png')"
      ],
      "metadata": {
        "id": "RKsyHncdbqI9"
      },
      "execution_count": 44,
      "outputs": []
    },
    {
      "cell_type": "markdown",
      "metadata": {
        "id": "dHsKlSIk1_-6"
      },
      "source": [
        "## Harmonizer"
      ]
    },
    {
      "cell_type": "code",
      "execution_count": null,
      "metadata": {
        "id": "9R5F5Tzc2qdB",
        "colab": {
          "base_uri": "https://localhost:8080/"
        },
        "outputId": "1635c2c9-9ae1-453b-8aad-d9844d43fad9"
      },
      "outputs": [
        {
          "output_type": "stream",
          "name": "stdout",
          "text": [
            "/content/Adversarial-Representation-Learning-for-Medical-Imaging/MedSinGAN\n"
          ]
        }
      ],
      "source": [
        "%cd MedSinGAN/"
      ]
    },
    {
      "cell_type": "code",
      "execution_count": null,
      "metadata": {
        "id": "WGuzzV6l2BIZ",
        "colab": {
          "base_uri": "https://localhost:8080/"
        },
        "outputId": "9af9e022-9bab-41de-98c1-fa00967710bd"
      },
      "outputs": [
        {
          "output_type": "stream",
          "name": "stdout",
          "text": [
            "Training model (TrainedModels/normal/2022_01_14_16_57_54_harmonization_niter_1000_lr_scale_0.1_nstages_6_BN_act_lrelu_0.3)\n",
            "Training model with the following parameters:\n",
            "\t number of stages: 6\n",
            "\t number of concurrently trained stages: 3\n",
            "\t learning rate scaling: 0.1\n",
            "\t non-linearity: lrelu\n",
            "Training on image pyramid: [torch.Size([1, 3, 31, 25]), torch.Size([1, 3, 47, 39]), torch.Size([1, 3, 71, 58]), torch.Size([1, 3, 108, 89]), torch.Size([1, 3, 165, 135]), torch.Size([1, 3, 250, 204])]\n",
            "\n",
            "/usr/local/lib/python3.7/dist-packages/albumentations/imgaug/transforms.py:252: FutureWarning: IAAAdditiveGaussianNoise is deprecated. Please use GaussNoise instead\n",
            "  warnings.warn(\"IAAAdditiveGaussianNoise is deprecated. Please use GaussNoise instead\", FutureWarning)\n",
            "/usr/local/lib/python3.7/dist-packages/albumentations/augmentations/transforms.py:691: FutureWarning: This class has been deprecated. Please use CoarseDropout\n",
            "  FutureWarning,\n",
            "stage [0/5]:: 100% 1000/1000 [00:29<00:00, 33.83it/s]\n",
            "stage [1/5]:: 100% 1000/1000 [00:35<00:00, 28.45it/s]\n",
            "stage [2/5]:: 100% 1000/1000 [00:41<00:00, 24.14it/s]\n",
            "stage [3/5]:: 100% 1000/1000 [02:01<00:00,  8.25it/s]\n",
            "stage [4/5]:: 100% 1000/1000 [06:39<00:00,  2.50it/s]\n",
            "stage [5/5]:: 100% 1000/1000 [09:05<00:00,  1.83it/s]\n",
            "Time for training: 1181.3821654319763 seconds\n"
          ]
        }
      ],
      "source": [
        "# Normal breast collage Harmonizer creation\n",
        "!python main_train.py --train_mode harmonization --gpu 0 --train_stages 6 --lrelu_alpha 0.3 --niter 1000 --batch_norm --input_name /content/normal.png"
      ]
    },
    {
      "cell_type": "code",
      "source": [
        "make_3_channels_mask('/content/collage_mask.png', '/content/collage_mask3.png')"
      ],
      "metadata": {
        "id": "2fgEKbQamS5c"
      },
      "execution_count": null,
      "outputs": []
    },
    {
      "cell_type": "code",
      "execution_count": null,
      "metadata": {
        "id": "dR3plhis-83m",
        "colab": {
          "base_uri": "https://localhost:8080/"
        },
        "outputId": "2983a625-3a26-432b-c60a-e63b61d9d659"
      },
      "outputs": [
        {
          "output_type": "stream",
          "name": "stdout",
          "text": [
            "Loading models...\n",
            "MASK SHAPE (250, 204, 3)\n",
            "Done. Results saved at: /content/Adversarial-Representation-Learning-for-Medical-Imaging/MedSinGAN/TrainedModels/normal/2022_01_14_16_57_54_harmonization_niter_1000_lr_scale_0.1_nstages_6_BN_act_lrelu_0.3/Evaluation_/content/collage.png\n"
          ]
        }
      ],
      "source": [
        "# Normal breast collage harmonisation\n",
        "!python evaluate_model.py --gpu 0 --model_dir /content/Adversarial-Representation-Learning-for-Medical-Imaging/MedSinGAN/TrainedModels/normal/2022_01_14_16_57_54_harmonization_niter_1000_lr_scale_0.1_nstages_6_BN_act_lrelu_0.3 --naive_img /content/collage.png"
      ]
    },
    {
      "cell_type": "code",
      "source": [
        "a = img.imread('/content/collage.png')\n",
        "a.shape"
      ],
      "metadata": {
        "colab": {
          "base_uri": "https://localhost:8080/"
        },
        "id": "TfWGLpscoiZQ",
        "outputId": "83088ef6-cec4-4538-8df5-8561c9b344e2"
      },
      "execution_count": null,
      "outputs": [
        {
          "output_type": "execute_result",
          "data": {
            "text/plain": [
              "(2457, 1996, 3)"
            ]
          },
          "metadata": {},
          "execution_count": 18
        }
      ]
    },
    {
      "cell_type": "markdown",
      "metadata": {
        "id": "6Ds0KPgz6uI-"
      },
      "source": [
        "## Save Harmonizer Model"
      ]
    },
    {
      "cell_type": "code",
      "execution_count": null,
      "metadata": {
        "id": "SZS5yU5U6vkU"
      },
      "outputs": [],
      "source": [
        "# Import files to download zips\n",
        "from google.colab import files"
      ]
    },
    {
      "cell_type": "code",
      "execution_count": null,
      "metadata": {
        "id": "XTxipCzy60ge",
        "colab": {
          "base_uri": "https://localhost:8080/"
        },
        "outputId": "8afcdf5e-3311-42d6-8d01-39bf231b1971"
      },
      "outputs": [
        {
          "output_type": "stream",
          "name": "stdout",
          "text": [
            "  adding: content/Adversarial-Representation-Learning-for-Medical-Imaging/MedSinGAN/mlruns/ (stored 0%)\n",
            "  adding: content/Adversarial-Representation-Learning-for-Medical-Imaging/MedSinGAN/mlruns/.trash/ (stored 0%)\n",
            "  adding: content/Adversarial-Representation-Learning-for-Medical-Imaging/MedSinGAN/mlruns/0/ (stored 0%)\n",
            "  adding: content/Adversarial-Representation-Learning-for-Medical-Imaging/MedSinGAN/mlruns/0/683abe3f6e6048e5a9fa3c715cfdbddb/ (stored 0%)\n",
            "  adding: content/Adversarial-Representation-Learning-for-Medical-Imaging/MedSinGAN/mlruns/0/683abe3f6e6048e5a9fa3c715cfdbddb/artifacts/ (stored 0%)\n",
            "  adding: content/Adversarial-Representation-Learning-for-Medical-Imaging/MedSinGAN/mlruns/0/683abe3f6e6048e5a9fa3c715cfdbddb/metrics/ (stored 0%)\n",
            "  adding: content/Adversarial-Representation-Learning-for-Medical-Imaging/MedSinGAN/mlruns/0/683abe3f6e6048e5a9fa3c715cfdbddb/metrics/Discriminator Train Loss Fake (deflated 58%)\n",
            "  adding: content/Adversarial-Representation-Learning-for-Medical-Imaging/MedSinGAN/mlruns/0/683abe3f6e6048e5a9fa3c715cfdbddb/metrics/Generator Train Loss Reconstruction (deflated 59%)\n",
            "  adding: content/Adversarial-Representation-Learning-for-Medical-Imaging/MedSinGAN/mlruns/0/683abe3f6e6048e5a9fa3c715cfdbddb/metrics/Discriminator Train Loss Gradient Penalty (deflated 58%)\n",
            "  adding: content/Adversarial-Representation-Learning-for-Medical-Imaging/MedSinGAN/mlruns/0/683abe3f6e6048e5a9fa3c715cfdbddb/metrics/Generator Train Loss (deflated 58%)\n",
            "  adding: content/Adversarial-Representation-Learning-for-Medical-Imaging/MedSinGAN/mlruns/0/683abe3f6e6048e5a9fa3c715cfdbddb/metrics/Discriminator Train Loss Real (deflated 58%)\n",
            "  adding: content/Adversarial-Representation-Learning-for-Medical-Imaging/MedSinGAN/mlruns/0/683abe3f6e6048e5a9fa3c715cfdbddb/tags/ (stored 0%)\n",
            "  adding: content/Adversarial-Representation-Learning-for-Medical-Imaging/MedSinGAN/mlruns/0/683abe3f6e6048e5a9fa3c715cfdbddb/tags/mlflow.user (stored 0%)\n",
            "  adding: content/Adversarial-Representation-Learning-for-Medical-Imaging/MedSinGAN/mlruns/0/683abe3f6e6048e5a9fa3c715cfdbddb/tags/mlflow.source.name (stored 0%)\n",
            "  adding: content/Adversarial-Representation-Learning-for-Medical-Imaging/MedSinGAN/mlruns/0/683abe3f6e6048e5a9fa3c715cfdbddb/tags/mlflow.source.git.commit (stored 0%)\n",
            "  adding: content/Adversarial-Representation-Learning-for-Medical-Imaging/MedSinGAN/mlruns/0/683abe3f6e6048e5a9fa3c715cfdbddb/tags/mlflow.runName (stored 0%)\n",
            "  adding: content/Adversarial-Representation-Learning-for-Medical-Imaging/MedSinGAN/mlruns/0/683abe3f6e6048e5a9fa3c715cfdbddb/tags/mlflow.source.type (stored 0%)\n",
            "  adding: content/Adversarial-Representation-Learning-for-Medical-Imaging/MedSinGAN/mlruns/0/683abe3f6e6048e5a9fa3c715cfdbddb/params/ (stored 0%)\n",
            "  adding: content/Adversarial-Representation-Learning-for-Medical-Imaging/MedSinGAN/mlruns/0/683abe3f6e6048e5a9fa3c715cfdbddb/params/N Training Stages (stored 0%)\n",
            "  adding: content/Adversarial-Representation-Learning-for-Medical-Imaging/MedSinGAN/mlruns/0/683abe3f6e6048e5a9fa3c715cfdbddb/params/Train Depth (stored 0%)\n",
            "  adding: content/Adversarial-Representation-Learning-for-Medical-Imaging/MedSinGAN/mlruns/0/683abe3f6e6048e5a9fa3c715cfdbddb/params/Activation Function (stored 0%)\n",
            "  adding: content/Adversarial-Representation-Learning-for-Medical-Imaging/MedSinGAN/mlruns/0/683abe3f6e6048e5a9fa3c715cfdbddb/params/Learning Scale Rate (stored 0%)\n",
            "  adding: content/Adversarial-Representation-Learning-for-Medical-Imaging/MedSinGAN/mlruns/0/683abe3f6e6048e5a9fa3c715cfdbddb/params/N Iterations (stored 0%)\n",
            "  adding: content/Adversarial-Representation-Learning-for-Medical-Imaging/MedSinGAN/mlruns/0/683abe3f6e6048e5a9fa3c715cfdbddb/meta.yaml (deflated 41%)\n",
            "  adding: content/Adversarial-Representation-Learning-for-Medical-Imaging/MedSinGAN/mlruns/0/meta.yaml (deflated 17%)\n"
          ]
        },
        {
          "output_type": "display_data",
          "data": {
            "application/javascript": [
              "\n",
              "    async function download(id, filename, size) {\n",
              "      if (!google.colab.kernel.accessAllowed) {\n",
              "        return;\n",
              "      }\n",
              "      const div = document.createElement('div');\n",
              "      const label = document.createElement('label');\n",
              "      label.textContent = `Downloading \"${filename}\": `;\n",
              "      div.appendChild(label);\n",
              "      const progress = document.createElement('progress');\n",
              "      progress.max = size;\n",
              "      div.appendChild(progress);\n",
              "      document.body.appendChild(div);\n",
              "\n",
              "      const buffers = [];\n",
              "      let downloaded = 0;\n",
              "\n",
              "      const channel = await google.colab.kernel.comms.open(id);\n",
              "      // Send a message to notify the kernel that we're ready.\n",
              "      channel.send({})\n",
              "\n",
              "      for await (const message of channel.messages) {\n",
              "        // Send a message to notify the kernel that we're ready.\n",
              "        channel.send({})\n",
              "        if (message.buffers) {\n",
              "          for (const buffer of message.buffers) {\n",
              "            buffers.push(buffer);\n",
              "            downloaded += buffer.byteLength;\n",
              "            progress.value = downloaded;\n",
              "          }\n",
              "        }\n",
              "      }\n",
              "      const blob = new Blob(buffers, {type: 'application/binary'});\n",
              "      const a = document.createElement('a');\n",
              "      a.href = window.URL.createObjectURL(blob);\n",
              "      a.download = filename;\n",
              "      div.appendChild(a);\n",
              "      a.click();\n",
              "      div.remove();\n",
              "    }\n",
              "  "
            ],
            "text/plain": [
              "<IPython.core.display.Javascript object>"
            ]
          },
          "metadata": {}
        },
        {
          "output_type": "display_data",
          "data": {
            "application/javascript": [
              "download(\"download_e6f1e2f6-8779-42ce-a67a-f21e3a454f39\", \"mlrun.zip\", 12532)"
            ],
            "text/plain": [
              "<IPython.core.display.Javascript object>"
            ]
          },
          "metadata": {}
        }
      ],
      "source": [
        "# Zip the mlruns metrics to analyse\n",
        "!zip -r /content/mlrun.zip /content/Adversarial-Representation-Learning-for-Medical-Imaging/MedSinGAN/mlruns\n",
        "files.download(\"/content/mlrun.zip\")"
      ]
    },
    {
      "cell_type": "code",
      "execution_count": null,
      "metadata": {
        "id": "o-IZgTDG610d",
        "colab": {
          "base_uri": "https://localhost:8080/"
        },
        "outputId": "aaae9537-a506-47ff-acc4-72c20ec09b61"
      },
      "outputs": [
        {
          "output_type": "stream",
          "name": "stdout",
          "text": [
            "  adding: content/Adversarial-Representation-Learning-for-Medical-Imaging/MedSinGAN/TrainedModels/ (stored 0%)\n",
            "  adding: content/Adversarial-Representation-Learning-for-Medical-Imaging/MedSinGAN/TrainedModels/normal/ (stored 0%)\n",
            "  adding: content/Adversarial-Representation-Learning-for-Medical-Imaging/MedSinGAN/TrainedModels/normal/2022_01_14_11_38_48_harmonization_niter_1000_lr_scale_0.1_nstages_6_BN_act_lrelu_0.3/ (stored 0%)\n",
            "  adding: content/Adversarial-Representation-Learning-for-Medical-Imaging/MedSinGAN/TrainedModels/normal/2022_01_14_11_38_48_harmonization_niter_1000_lr_scale_0.1_nstages_6_BN_act_lrelu_0.3/imresize.py (deflated 68%)\n",
            "  adding: content/Adversarial-Representation-Learning-for-Medical-Imaging/MedSinGAN/TrainedModels/normal/2022_01_14_11_38_48_harmonization_niter_1000_lr_scale_0.1_nstages_6_BN_act_lrelu_0.3/5/ (stored 0%)\n",
            "  adding: content/Adversarial-Representation-Learning-for-Medical-Imaging/MedSinGAN/TrainedModels/normal/2022_01_14_11_38_48_harmonization_niter_1000_lr_scale_0.1_nstages_6_BN_act_lrelu_0.3/5/fake_sample_1000.jpg (deflated 10%)\n",
            "  adding: content/Adversarial-Representation-Learning-for-Medical-Imaging/MedSinGAN/TrainedModels/normal/2022_01_14_11_38_48_harmonization_niter_1000_lr_scale_0.1_nstages_6_BN_act_lrelu_0.3/5/fake_sample_1.jpg (deflated 13%)\n",
            "  adding: content/Adversarial-Representation-Learning-for-Medical-Imaging/MedSinGAN/TrainedModels/normal/2022_01_14_11_38_48_harmonization_niter_1000_lr_scale_0.1_nstages_6_BN_act_lrelu_0.3/5/events.out.tfevents.1642160966.2b1b21f23490.273.5 (deflated 1%)\n",
            "  adding: content/Adversarial-Representation-Learning-for-Medical-Imaging/MedSinGAN/TrainedModels/normal/2022_01_14_11_38_48_harmonization_niter_1000_lr_scale_0.1_nstages_6_BN_act_lrelu_0.3/5/netG.pth (deflated 8%)\n",
            "  adding: content/Adversarial-Representation-Learning-for-Medical-Imaging/MedSinGAN/TrainedModels/normal/2022_01_14_11_38_48_harmonization_niter_1000_lr_scale_0.1_nstages_6_BN_act_lrelu_0.3/5/fake_sample_251.jpg (deflated 10%)\n",
            "  adding: content/Adversarial-Representation-Learning-for-Medical-Imaging/MedSinGAN/TrainedModels/normal/2022_01_14_11_38_48_harmonization_niter_1000_lr_scale_0.1_nstages_6_BN_act_lrelu_0.3/5/real_scale.jpg (deflated 13%)\n",
            "  adding: content/Adversarial-Representation-Learning-for-Medical-Imaging/MedSinGAN/TrainedModels/normal/2022_01_14_11_38_48_harmonization_niter_1000_lr_scale_0.1_nstages_6_BN_act_lrelu_0.3/5/reconstruction_1000.jpg (deflated 14%)\n",
            "  adding: content/Adversarial-Representation-Learning-for-Medical-Imaging/MedSinGAN/TrainedModels/normal/2022_01_14_11_38_48_harmonization_niter_1000_lr_scale_0.1_nstages_6_BN_act_lrelu_0.3/5/reconstruction_751.jpg (deflated 13%)\n",
            "  adding: content/Adversarial-Representation-Learning-for-Medical-Imaging/MedSinGAN/TrainedModels/normal/2022_01_14_11_38_48_harmonization_niter_1000_lr_scale_0.1_nstages_6_BN_act_lrelu_0.3/5/z_opt.pth (deflated 7%)\n",
            "  adding: content/Adversarial-Representation-Learning-for-Medical-Imaging/MedSinGAN/TrainedModels/normal/2022_01_14_11_38_48_harmonization_niter_1000_lr_scale_0.1_nstages_6_BN_act_lrelu_0.3/5/reconstruction_1.jpg (deflated 16%)\n",
            "  adding: content/Adversarial-Representation-Learning-for-Medical-Imaging/MedSinGAN/TrainedModels/normal/2022_01_14_11_38_48_harmonization_niter_1000_lr_scale_0.1_nstages_6_BN_act_lrelu_0.3/5/reconstruction_251.jpg (deflated 14%)\n",
            "  adding: content/Adversarial-Representation-Learning-for-Medical-Imaging/MedSinGAN/TrainedModels/normal/2022_01_14_11_38_48_harmonization_niter_1000_lr_scale_0.1_nstages_6_BN_act_lrelu_0.3/5/netD.pth (deflated 8%)\n",
            "  adding: content/Adversarial-Representation-Learning-for-Medical-Imaging/MedSinGAN/TrainedModels/normal/2022_01_14_11_38_48_harmonization_niter_1000_lr_scale_0.1_nstages_6_BN_act_lrelu_0.3/5/reconstruction_501.jpg (deflated 14%)\n",
            "  adding: content/Adversarial-Representation-Learning-for-Medical-Imaging/MedSinGAN/TrainedModels/normal/2022_01_14_11_38_48_harmonization_niter_1000_lr_scale_0.1_nstages_6_BN_act_lrelu_0.3/5/fake_sample_751.jpg (deflated 8%)\n",
            "  adding: content/Adversarial-Representation-Learning-for-Medical-Imaging/MedSinGAN/TrainedModels/normal/2022_01_14_11_38_48_harmonization_niter_1000_lr_scale_0.1_nstages_6_BN_act_lrelu_0.3/5/fake_sample_501.jpg (deflated 9%)\n",
            "  adding: content/Adversarial-Representation-Learning-for-Medical-Imaging/MedSinGAN/TrainedModels/normal/2022_01_14_11_38_48_harmonization_niter_1000_lr_scale_0.1_nstages_6_BN_act_lrelu_0.3/functions.py (deflated 75%)\n",
            "  adding: content/Adversarial-Representation-Learning-for-Medical-Imaging/MedSinGAN/TrainedModels/normal/2022_01_14_11_38_48_harmonization_niter_1000_lr_scale_0.1_nstages_6_BN_act_lrelu_0.3/2/ (stored 0%)\n",
            "  adding: content/Adversarial-Representation-Learning-for-Medical-Imaging/MedSinGAN/TrainedModels/normal/2022_01_14_11_38_48_harmonization_niter_1000_lr_scale_0.1_nstages_6_BN_act_lrelu_0.3/2/fake_sample_1000.jpg (deflated 15%)\n",
            "  adding: content/Adversarial-Representation-Learning-for-Medical-Imaging/MedSinGAN/TrainedModels/normal/2022_01_14_11_38_48_harmonization_niter_1000_lr_scale_0.1_nstages_6_BN_act_lrelu_0.3/2/fake_sample_1.jpg (deflated 18%)\n",
            "  adding: content/Adversarial-Representation-Learning-for-Medical-Imaging/MedSinGAN/TrainedModels/normal/2022_01_14_11_38_48_harmonization_niter_1000_lr_scale_0.1_nstages_6_BN_act_lrelu_0.3/2/events.out.tfevents.1642160401.2b1b21f23490.273.2 (deflated 0%)\n",
            "  adding: content/Adversarial-Representation-Learning-for-Medical-Imaging/MedSinGAN/TrainedModels/normal/2022_01_14_11_38_48_harmonization_niter_1000_lr_scale_0.1_nstages_6_BN_act_lrelu_0.3/2/netG.pth (deflated 8%)\n",
            "  adding: content/Adversarial-Representation-Learning-for-Medical-Imaging/MedSinGAN/TrainedModels/normal/2022_01_14_11_38_48_harmonization_niter_1000_lr_scale_0.1_nstages_6_BN_act_lrelu_0.3/2/fake_sample_251.jpg (deflated 15%)\n",
            "  adding: content/Adversarial-Representation-Learning-for-Medical-Imaging/MedSinGAN/TrainedModels/normal/2022_01_14_11_38_48_harmonization_niter_1000_lr_scale_0.1_nstages_6_BN_act_lrelu_0.3/2/real_scale.jpg (deflated 15%)\n",
            "  adding: content/Adversarial-Representation-Learning-for-Medical-Imaging/MedSinGAN/TrainedModels/normal/2022_01_14_11_38_48_harmonization_niter_1000_lr_scale_0.1_nstages_6_BN_act_lrelu_0.3/2/reconstruction_1000.jpg (deflated 15%)\n",
            "  adding: content/Adversarial-Representation-Learning-for-Medical-Imaging/MedSinGAN/TrainedModels/normal/2022_01_14_11_38_48_harmonization_niter_1000_lr_scale_0.1_nstages_6_BN_act_lrelu_0.3/2/reconstruction_751.jpg (deflated 16%)\n",
            "  adding: content/Adversarial-Representation-Learning-for-Medical-Imaging/MedSinGAN/TrainedModels/normal/2022_01_14_11_38_48_harmonization_niter_1000_lr_scale_0.1_nstages_6_BN_act_lrelu_0.3/2/z_opt.pth (deflated 7%)\n",
            "  adding: content/Adversarial-Representation-Learning-for-Medical-Imaging/MedSinGAN/TrainedModels/normal/2022_01_14_11_38_48_harmonization_niter_1000_lr_scale_0.1_nstages_6_BN_act_lrelu_0.3/2/reconstruction_1.jpg (deflated 17%)\n",
            "  adding: content/Adversarial-Representation-Learning-for-Medical-Imaging/MedSinGAN/TrainedModels/normal/2022_01_14_11_38_48_harmonization_niter_1000_lr_scale_0.1_nstages_6_BN_act_lrelu_0.3/2/reconstruction_251.jpg (deflated 15%)\n",
            "  adding: content/Adversarial-Representation-Learning-for-Medical-Imaging/MedSinGAN/TrainedModels/normal/2022_01_14_11_38_48_harmonization_niter_1000_lr_scale_0.1_nstages_6_BN_act_lrelu_0.3/2/netD.pth (deflated 7%)\n",
            "  adding: content/Adversarial-Representation-Learning-for-Medical-Imaging/MedSinGAN/TrainedModels/normal/2022_01_14_11_38_48_harmonization_niter_1000_lr_scale_0.1_nstages_6_BN_act_lrelu_0.3/2/reconstruction_501.jpg (deflated 16%)\n",
            "  adding: content/Adversarial-Representation-Learning-for-Medical-Imaging/MedSinGAN/TrainedModels/normal/2022_01_14_11_38_48_harmonization_niter_1000_lr_scale_0.1_nstages_6_BN_act_lrelu_0.3/2/fake_sample_751.jpg (deflated 15%)\n",
            "  adding: content/Adversarial-Representation-Learning-for-Medical-Imaging/MedSinGAN/TrainedModels/normal/2022_01_14_11_38_48_harmonization_niter_1000_lr_scale_0.1_nstages_6_BN_act_lrelu_0.3/2/fake_sample_501.jpg (deflated 14%)\n",
            "  adding: content/Adversarial-Representation-Learning-for-Medical-Imaging/MedSinGAN/TrainedModels/normal/2022_01_14_11_38_48_harmonization_niter_1000_lr_scale_0.1_nstages_6_BN_act_lrelu_0.3/models.py (deflated 72%)\n",
            "  adding: content/Adversarial-Representation-Learning-for-Medical-Imaging/MedSinGAN/TrainedModels/normal/2022_01_14_11_38_48_harmonization_niter_1000_lr_scale_0.1_nstages_6_BN_act_lrelu_0.3/noise_amp.pth (deflated 68%)\n",
            "  adding: content/Adversarial-Representation-Learning-for-Medical-Imaging/MedSinGAN/TrainedModels/normal/2022_01_14_11_38_48_harmonization_niter_1000_lr_scale_0.1_nstages_6_BN_act_lrelu_0.3/4/ (stored 0%)\n",
            "  adding: content/Adversarial-Representation-Learning-for-Medical-Imaging/MedSinGAN/TrainedModels/normal/2022_01_14_11_38_48_harmonization_niter_1000_lr_scale_0.1_nstages_6_BN_act_lrelu_0.3/4/fake_sample_1000.jpg (deflated 9%)\n",
            "  adding: content/Adversarial-Representation-Learning-for-Medical-Imaging/MedSinGAN/TrainedModels/normal/2022_01_14_11_38_48_harmonization_niter_1000_lr_scale_0.1_nstages_6_BN_act_lrelu_0.3/4/fake_sample_1.jpg (deflated 7%)\n",
            "  adding: content/Adversarial-Representation-Learning-for-Medical-Imaging/MedSinGAN/TrainedModels/normal/2022_01_14_11_38_48_harmonization_niter_1000_lr_scale_0.1_nstages_6_BN_act_lrelu_0.3/4/netG.pth (deflated 8%)\n",
            "  adding: content/Adversarial-Representation-Learning-for-Medical-Imaging/MedSinGAN/TrainedModels/normal/2022_01_14_11_38_48_harmonization_niter_1000_lr_scale_0.1_nstages_6_BN_act_lrelu_0.3/4/fake_sample_251.jpg (deflated 9%)\n",
            "  adding: content/Adversarial-Representation-Learning-for-Medical-Imaging/MedSinGAN/TrainedModels/normal/2022_01_14_11_38_48_harmonization_niter_1000_lr_scale_0.1_nstages_6_BN_act_lrelu_0.3/4/real_scale.jpg (deflated 13%)\n",
            "  adding: content/Adversarial-Representation-Learning-for-Medical-Imaging/MedSinGAN/TrainedModels/normal/2022_01_14_11_38_48_harmonization_niter_1000_lr_scale_0.1_nstages_6_BN_act_lrelu_0.3/4/reconstruction_1000.jpg (deflated 13%)\n",
            "  adding: content/Adversarial-Representation-Learning-for-Medical-Imaging/MedSinGAN/TrainedModels/normal/2022_01_14_11_38_48_harmonization_niter_1000_lr_scale_0.1_nstages_6_BN_act_lrelu_0.3/4/reconstruction_751.jpg (deflated 13%)\n",
            "  adding: content/Adversarial-Representation-Learning-for-Medical-Imaging/MedSinGAN/TrainedModels/normal/2022_01_14_11_38_48_harmonization_niter_1000_lr_scale_0.1_nstages_6_BN_act_lrelu_0.3/4/events.out.tfevents.1642160561.2b1b21f23490.273.4 (deflated 1%)\n",
            "  adding: content/Adversarial-Representation-Learning-for-Medical-Imaging/MedSinGAN/TrainedModels/normal/2022_01_14_11_38_48_harmonization_niter_1000_lr_scale_0.1_nstages_6_BN_act_lrelu_0.3/4/z_opt.pth (deflated 7%)\n",
            "  adding: content/Adversarial-Representation-Learning-for-Medical-Imaging/MedSinGAN/TrainedModels/normal/2022_01_14_11_38_48_harmonization_niter_1000_lr_scale_0.1_nstages_6_BN_act_lrelu_0.3/4/reconstruction_1.jpg (deflated 11%)\n",
            "  adding: content/Adversarial-Representation-Learning-for-Medical-Imaging/MedSinGAN/TrainedModels/normal/2022_01_14_11_38_48_harmonization_niter_1000_lr_scale_0.1_nstages_6_BN_act_lrelu_0.3/4/reconstruction_251.jpg (deflated 13%)\n",
            "  adding: content/Adversarial-Representation-Learning-for-Medical-Imaging/MedSinGAN/TrainedModels/normal/2022_01_14_11_38_48_harmonization_niter_1000_lr_scale_0.1_nstages_6_BN_act_lrelu_0.3/4/netD.pth (deflated 8%)\n",
            "  adding: content/Adversarial-Representation-Learning-for-Medical-Imaging/MedSinGAN/TrainedModels/normal/2022_01_14_11_38_48_harmonization_niter_1000_lr_scale_0.1_nstages_6_BN_act_lrelu_0.3/4/reconstruction_501.jpg (deflated 12%)\n",
            "  adding: content/Adversarial-Representation-Learning-for-Medical-Imaging/MedSinGAN/TrainedModels/normal/2022_01_14_11_38_48_harmonization_niter_1000_lr_scale_0.1_nstages_6_BN_act_lrelu_0.3/4/fake_sample_751.jpg (deflated 12%)\n",
            "  adding: content/Adversarial-Representation-Learning-for-Medical-Imaging/MedSinGAN/TrainedModels/normal/2022_01_14_11_38_48_harmonization_niter_1000_lr_scale_0.1_nstages_6_BN_act_lrelu_0.3/4/fake_sample_501.jpg (deflated 10%)\n",
            "  adding: content/Adversarial-Representation-Learning-for-Medical-Imaging/MedSinGAN/TrainedModels/normal/2022_01_14_11_38_48_harmonization_niter_1000_lr_scale_0.1_nstages_6_BN_act_lrelu_0.3/0/ (stored 0%)\n",
            "  adding: content/Adversarial-Representation-Learning-for-Medical-Imaging/MedSinGAN/TrainedModels/normal/2022_01_14_11_38_48_harmonization_niter_1000_lr_scale_0.1_nstages_6_BN_act_lrelu_0.3/0/fake_sample_1000.jpg (deflated 23%)\n",
            "  adding: content/Adversarial-Representation-Learning-for-Medical-Imaging/MedSinGAN/TrainedModels/normal/2022_01_14_11_38_48_harmonization_niter_1000_lr_scale_0.1_nstages_6_BN_act_lrelu_0.3/0/fake_sample_1.jpg (deflated 20%)\n",
            "  adding: content/Adversarial-Representation-Learning-for-Medical-Imaging/MedSinGAN/TrainedModels/normal/2022_01_14_11_38_48_harmonization_niter_1000_lr_scale_0.1_nstages_6_BN_act_lrelu_0.3/0/netG.pth (deflated 8%)\n",
            "  adding: content/Adversarial-Representation-Learning-for-Medical-Imaging/MedSinGAN/TrainedModels/normal/2022_01_14_11_38_48_harmonization_niter_1000_lr_scale_0.1_nstages_6_BN_act_lrelu_0.3/0/fake_sample_251.jpg (deflated 25%)\n",
            "  adding: content/Adversarial-Representation-Learning-for-Medical-Imaging/MedSinGAN/TrainedModels/normal/2022_01_14_11_38_48_harmonization_niter_1000_lr_scale_0.1_nstages_6_BN_act_lrelu_0.3/0/real_scale.jpg (deflated 23%)\n",
            "  adding: content/Adversarial-Representation-Learning-for-Medical-Imaging/MedSinGAN/TrainedModels/normal/2022_01_14_11_38_48_harmonization_niter_1000_lr_scale_0.1_nstages_6_BN_act_lrelu_0.3/0/reconstruction_1000.jpg (deflated 23%)\n",
            "  adding: content/Adversarial-Representation-Learning-for-Medical-Imaging/MedSinGAN/TrainedModels/normal/2022_01_14_11_38_48_harmonization_niter_1000_lr_scale_0.1_nstages_6_BN_act_lrelu_0.3/0/reconstruction_751.jpg (deflated 23%)\n",
            "  adding: content/Adversarial-Representation-Learning-for-Medical-Imaging/MedSinGAN/TrainedModels/normal/2022_01_14_11_38_48_harmonization_niter_1000_lr_scale_0.1_nstages_6_BN_act_lrelu_0.3/0/z_opt.pth (deflated 82%)\n",
            "  adding: content/Adversarial-Representation-Learning-for-Medical-Imaging/MedSinGAN/TrainedModels/normal/2022_01_14_11_38_48_harmonization_niter_1000_lr_scale_0.1_nstages_6_BN_act_lrelu_0.3/0/events.out.tfevents.1642160336.2b1b21f23490.273.0 (deflated 3%)\n",
            "  adding: content/Adversarial-Representation-Learning-for-Medical-Imaging/MedSinGAN/TrainedModels/normal/2022_01_14_11_38_48_harmonization_niter_1000_lr_scale_0.1_nstages_6_BN_act_lrelu_0.3/0/reconstruction_1.jpg (deflated 19%)\n",
            "  adding: content/Adversarial-Representation-Learning-for-Medical-Imaging/MedSinGAN/TrainedModels/normal/2022_01_14_11_38_48_harmonization_niter_1000_lr_scale_0.1_nstages_6_BN_act_lrelu_0.3/0/reconstruction_251.jpg (deflated 22%)\n",
            "  adding: content/Adversarial-Representation-Learning-for-Medical-Imaging/MedSinGAN/TrainedModels/normal/2022_01_14_11_38_48_harmonization_niter_1000_lr_scale_0.1_nstages_6_BN_act_lrelu_0.3/0/netD.pth (deflated 7%)\n",
            "  adding: content/Adversarial-Representation-Learning-for-Medical-Imaging/MedSinGAN/TrainedModels/normal/2022_01_14_11_38_48_harmonization_niter_1000_lr_scale_0.1_nstages_6_BN_act_lrelu_0.3/0/reconstruction_501.jpg (deflated 24%)\n",
            "  adding: content/Adversarial-Representation-Learning-for-Medical-Imaging/MedSinGAN/TrainedModels/normal/2022_01_14_11_38_48_harmonization_niter_1000_lr_scale_0.1_nstages_6_BN_act_lrelu_0.3/0/fake_sample_751.jpg (deflated 22%)\n",
            "  adding: content/Adversarial-Representation-Learning-for-Medical-Imaging/MedSinGAN/TrainedModels/normal/2022_01_14_11_38_48_harmonization_niter_1000_lr_scale_0.1_nstages_6_BN_act_lrelu_0.3/0/fake_sample_501.jpg (deflated 24%)\n",
            "  adding: content/Adversarial-Representation-Learning-for-Medical-Imaging/MedSinGAN/TrainedModels/normal/2022_01_14_11_38_48_harmonization_niter_1000_lr_scale_0.1_nstages_6_BN_act_lrelu_0.3/config.py (deflated 72%)\n",
            "  adding: content/Adversarial-Representation-Learning-for-Medical-Imaging/MedSinGAN/TrainedModels/normal/2022_01_14_11_38_48_harmonization_niter_1000_lr_scale_0.1_nstages_6_BN_act_lrelu_0.3/harmonized_samples_stage_1/ (stored 0%)\n",
            "  adding: content/Adversarial-Representation-Learning-for-Medical-Imaging/MedSinGAN/TrainedModels/normal/2022_01_14_11_38_48_harmonization_niter_1000_lr_scale_0.1_nstages_6_BN_act_lrelu_0.3/harmonized_samples_stage_1/8_naive_sample.jpg (deflated 23%)\n",
            "  adding: content/Adversarial-Representation-Learning-for-Medical-Imaging/MedSinGAN/TrainedModels/normal/2022_01_14_11_38_48_harmonization_niter_1000_lr_scale_0.1_nstages_6_BN_act_lrelu_0.3/harmonized_samples_stage_1/4_harmonized_sample.jpg (deflated 19%)\n",
            "  adding: content/Adversarial-Representation-Learning-for-Medical-Imaging/MedSinGAN/TrainedModels/normal/2022_01_14_11_38_48_harmonization_niter_1000_lr_scale_0.1_nstages_6_BN_act_lrelu_0.3/harmonized_samples_stage_1/0_naive_sample.jpg (deflated 25%)\n",
            "  adding: content/Adversarial-Representation-Learning-for-Medical-Imaging/MedSinGAN/TrainedModels/normal/2022_01_14_11_38_48_harmonization_niter_1000_lr_scale_0.1_nstages_6_BN_act_lrelu_0.3/harmonized_samples_stage_1/6_naive_sample.jpg (deflated 26%)\n",
            "  adding: content/Adversarial-Representation-Learning-for-Medical-Imaging/MedSinGAN/TrainedModels/normal/2022_01_14_11_38_48_harmonization_niter_1000_lr_scale_0.1_nstages_6_BN_act_lrelu_0.3/harmonized_samples_stage_1/11_naive_sample.jpg (deflated 30%)\n",
            "  adding: content/Adversarial-Representation-Learning-for-Medical-Imaging/MedSinGAN/TrainedModels/normal/2022_01_14_11_38_48_harmonization_niter_1000_lr_scale_0.1_nstages_6_BN_act_lrelu_0.3/harmonized_samples_stage_1/15_harmonized_sample.jpg (deflated 20%)\n",
            "  adding: content/Adversarial-Representation-Learning-for-Medical-Imaging/MedSinGAN/TrainedModels/normal/2022_01_14_11_38_48_harmonization_niter_1000_lr_scale_0.1_nstages_6_BN_act_lrelu_0.3/harmonized_samples_stage_1/4_naive_sample.jpg (deflated 23%)\n",
            "  adding: content/Adversarial-Representation-Learning-for-Medical-Imaging/MedSinGAN/TrainedModels/normal/2022_01_14_11_38_48_harmonization_niter_1000_lr_scale_0.1_nstages_6_BN_act_lrelu_0.3/harmonized_samples_stage_1/14_harmonized_sample.jpg (deflated 20%)\n",
            "  adding: content/Adversarial-Representation-Learning-for-Medical-Imaging/MedSinGAN/TrainedModels/normal/2022_01_14_11_38_48_harmonization_niter_1000_lr_scale_0.1_nstages_6_BN_act_lrelu_0.3/harmonized_samples_stage_1/2_naive_sample.jpg (deflated 26%)\n",
            "  adding: content/Adversarial-Representation-Learning-for-Medical-Imaging/MedSinGAN/TrainedModels/normal/2022_01_14_11_38_48_harmonization_niter_1000_lr_scale_0.1_nstages_6_BN_act_lrelu_0.3/harmonized_samples_stage_1/12_harmonized_sample.jpg (deflated 19%)\n",
            "  adding: content/Adversarial-Representation-Learning-for-Medical-Imaging/MedSinGAN/TrainedModels/normal/2022_01_14_11_38_48_harmonization_niter_1000_lr_scale_0.1_nstages_6_BN_act_lrelu_0.3/harmonized_samples_stage_1/9_harmonized_sample.jpg (deflated 19%)\n",
            "  adding: content/Adversarial-Representation-Learning-for-Medical-Imaging/MedSinGAN/TrainedModels/normal/2022_01_14_11_38_48_harmonization_niter_1000_lr_scale_0.1_nstages_6_BN_act_lrelu_0.3/harmonized_samples_stage_1/5_harmonized_sample.jpg (deflated 21%)\n",
            "  adding: content/Adversarial-Representation-Learning-for-Medical-Imaging/MedSinGAN/TrainedModels/normal/2022_01_14_11_38_48_harmonization_niter_1000_lr_scale_0.1_nstages_6_BN_act_lrelu_0.3/harmonized_samples_stage_1/8_harmonized_sample.jpg (deflated 20%)\n",
            "  adding: content/Adversarial-Representation-Learning-for-Medical-Imaging/MedSinGAN/TrainedModels/normal/2022_01_14_11_38_48_harmonization_niter_1000_lr_scale_0.1_nstages_6_BN_act_lrelu_0.3/harmonized_samples_stage_1/0_harmonized_sample.jpg (deflated 20%)\n",
            "  adding: content/Adversarial-Representation-Learning-for-Medical-Imaging/MedSinGAN/TrainedModels/normal/2022_01_14_11_38_48_harmonization_niter_1000_lr_scale_0.1_nstages_6_BN_act_lrelu_0.3/harmonized_samples_stage_1/7_harmonized_sample.jpg (deflated 20%)\n",
            "  adding: content/Adversarial-Representation-Learning-for-Medical-Imaging/MedSinGAN/TrainedModels/normal/2022_01_14_11_38_48_harmonization_niter_1000_lr_scale_0.1_nstages_6_BN_act_lrelu_0.3/harmonized_samples_stage_1/5_naive_sample.jpg (deflated 26%)\n",
            "  adding: content/Adversarial-Representation-Learning-for-Medical-Imaging/MedSinGAN/TrainedModels/normal/2022_01_14_11_38_48_harmonization_niter_1000_lr_scale_0.1_nstages_6_BN_act_lrelu_0.3/harmonized_samples_stage_1/13_harmonized_sample.jpg (deflated 20%)\n",
            "  adding: content/Adversarial-Representation-Learning-for-Medical-Imaging/MedSinGAN/TrainedModels/normal/2022_01_14_11_38_48_harmonization_niter_1000_lr_scale_0.1_nstages_6_BN_act_lrelu_0.3/harmonized_samples_stage_1/12_naive_sample.jpg (deflated 22%)\n",
            "  adding: content/Adversarial-Representation-Learning-for-Medical-Imaging/MedSinGAN/TrainedModels/normal/2022_01_14_11_38_48_harmonization_niter_1000_lr_scale_0.1_nstages_6_BN_act_lrelu_0.3/harmonized_samples_stage_1/11_harmonized_sample.jpg (deflated 19%)\n",
            "  adding: content/Adversarial-Representation-Learning-for-Medical-Imaging/MedSinGAN/TrainedModels/normal/2022_01_14_11_38_48_harmonization_niter_1000_lr_scale_0.1_nstages_6_BN_act_lrelu_0.3/harmonized_samples_stage_1/14_naive_sample.jpg (deflated 30%)\n",
            "  adding: content/Adversarial-Representation-Learning-for-Medical-Imaging/MedSinGAN/TrainedModels/normal/2022_01_14_11_38_48_harmonization_niter_1000_lr_scale_0.1_nstages_6_BN_act_lrelu_0.3/harmonized_samples_stage_1/3_naive_sample.jpg (deflated 30%)\n",
            "  adding: content/Adversarial-Representation-Learning-for-Medical-Imaging/MedSinGAN/TrainedModels/normal/2022_01_14_11_38_48_harmonization_niter_1000_lr_scale_0.1_nstages_6_BN_act_lrelu_0.3/harmonized_samples_stage_1/7_naive_sample.jpg (deflated 25%)\n",
            "  adding: content/Adversarial-Representation-Learning-for-Medical-Imaging/MedSinGAN/TrainedModels/normal/2022_01_14_11_38_48_harmonization_niter_1000_lr_scale_0.1_nstages_6_BN_act_lrelu_0.3/harmonized_samples_stage_1/1_naive_sample.jpg (deflated 19%)\n",
            "  adding: content/Adversarial-Representation-Learning-for-Medical-Imaging/MedSinGAN/TrainedModels/normal/2022_01_14_11_38_48_harmonization_niter_1000_lr_scale_0.1_nstages_6_BN_act_lrelu_0.3/harmonized_samples_stage_1/10_naive_sample.jpg (deflated 28%)\n",
            "  adding: content/Adversarial-Representation-Learning-for-Medical-Imaging/MedSinGAN/TrainedModels/normal/2022_01_14_11_38_48_harmonization_niter_1000_lr_scale_0.1_nstages_6_BN_act_lrelu_0.3/harmonized_samples_stage_1/10_harmonized_sample.jpg (deflated 20%)\n",
            "  adding: content/Adversarial-Representation-Learning-for-Medical-Imaging/MedSinGAN/TrainedModels/normal/2022_01_14_11_38_48_harmonization_niter_1000_lr_scale_0.1_nstages_6_BN_act_lrelu_0.3/harmonized_samples_stage_1/2_harmonized_sample.jpg (deflated 20%)\n",
            "  adding: content/Adversarial-Representation-Learning-for-Medical-Imaging/MedSinGAN/TrainedModels/normal/2022_01_14_11_38_48_harmonization_niter_1000_lr_scale_0.1_nstages_6_BN_act_lrelu_0.3/harmonized_samples_stage_1/6_harmonized_sample.jpg (deflated 20%)\n",
            "  adding: content/Adversarial-Representation-Learning-for-Medical-Imaging/MedSinGAN/TrainedModels/normal/2022_01_14_11_38_48_harmonization_niter_1000_lr_scale_0.1_nstages_6_BN_act_lrelu_0.3/harmonized_samples_stage_1/3_harmonized_sample.jpg (deflated 20%)\n",
            "  adding: content/Adversarial-Representation-Learning-for-Medical-Imaging/MedSinGAN/TrainedModels/normal/2022_01_14_11_38_48_harmonization_niter_1000_lr_scale_0.1_nstages_6_BN_act_lrelu_0.3/harmonized_samples_stage_1/15_naive_sample.jpg (deflated 30%)\n",
            "  adding: content/Adversarial-Representation-Learning-for-Medical-Imaging/MedSinGAN/TrainedModels/normal/2022_01_14_11_38_48_harmonization_niter_1000_lr_scale_0.1_nstages_6_BN_act_lrelu_0.3/harmonized_samples_stage_1/1_harmonized_sample.jpg (deflated 18%)\n",
            "  adding: content/Adversarial-Representation-Learning-for-Medical-Imaging/MedSinGAN/TrainedModels/normal/2022_01_14_11_38_48_harmonization_niter_1000_lr_scale_0.1_nstages_6_BN_act_lrelu_0.3/harmonized_samples_stage_1/13_naive_sample.jpg (deflated 25%)\n",
            "  adding: content/Adversarial-Representation-Learning-for-Medical-Imaging/MedSinGAN/TrainedModels/normal/2022_01_14_11_38_48_harmonization_niter_1000_lr_scale_0.1_nstages_6_BN_act_lrelu_0.3/harmonized_samples_stage_1/9_naive_sample.jpg (deflated 30%)\n",
            "  adding: content/Adversarial-Representation-Learning-for-Medical-Imaging/MedSinGAN/TrainedModels/normal/2022_01_14_11_38_48_harmonization_niter_1000_lr_scale_0.1_nstages_6_BN_act_lrelu_0.3/evaluate_model.py (deflated 73%)\n",
            "  adding: content/Adversarial-Representation-Learning-for-Medical-Imaging/MedSinGAN/TrainedModels/normal/2022_01_14_11_38_48_harmonization_niter_1000_lr_scale_0.1_nstages_6_BN_act_lrelu_0.3/harmonized_samples_stage_5/ (stored 0%)\n",
            "  adding: content/Adversarial-Representation-Learning-for-Medical-Imaging/MedSinGAN/TrainedModels/normal/2022_01_14_11_38_48_harmonization_niter_1000_lr_scale_0.1_nstages_6_BN_act_lrelu_0.3/harmonized_samples_stage_5/8_naive_sample.jpg (deflated 25%)\n",
            "  adding: content/Adversarial-Representation-Learning-for-Medical-Imaging/MedSinGAN/TrainedModels/normal/2022_01_14_11_38_48_harmonization_niter_1000_lr_scale_0.1_nstages_6_BN_act_lrelu_0.3/harmonized_samples_stage_5/4_harmonized_sample.jpg (deflated 9%)\n",
            "  adding: content/Adversarial-Representation-Learning-for-Medical-Imaging/MedSinGAN/TrainedModels/normal/2022_01_14_11_38_48_harmonization_niter_1000_lr_scale_0.1_nstages_6_BN_act_lrelu_0.3/harmonized_samples_stage_5/0_naive_sample.jpg (deflated 27%)\n",
            "  adding: content/Adversarial-Representation-Learning-for-Medical-Imaging/MedSinGAN/TrainedModels/normal/2022_01_14_11_38_48_harmonization_niter_1000_lr_scale_0.1_nstages_6_BN_act_lrelu_0.3/harmonized_samples_stage_5/6_naive_sample.jpg (deflated 30%)\n",
            "  adding: content/Adversarial-Representation-Learning-for-Medical-Imaging/MedSinGAN/TrainedModels/normal/2022_01_14_11_38_48_harmonization_niter_1000_lr_scale_0.1_nstages_6_BN_act_lrelu_0.3/harmonized_samples_stage_5/11_naive_sample.jpg (deflated 25%)\n",
            "  adding: content/Adversarial-Representation-Learning-for-Medical-Imaging/MedSinGAN/TrainedModels/normal/2022_01_14_11_38_48_harmonization_niter_1000_lr_scale_0.1_nstages_6_BN_act_lrelu_0.3/harmonized_samples_stage_5/15_harmonized_sample.jpg (deflated 12%)\n",
            "  adding: content/Adversarial-Representation-Learning-for-Medical-Imaging/MedSinGAN/TrainedModels/normal/2022_01_14_11_38_48_harmonization_niter_1000_lr_scale_0.1_nstages_6_BN_act_lrelu_0.3/harmonized_samples_stage_5/4_naive_sample.jpg (deflated 30%)\n",
            "  adding: content/Adversarial-Representation-Learning-for-Medical-Imaging/MedSinGAN/TrainedModels/normal/2022_01_14_11_38_48_harmonization_niter_1000_lr_scale_0.1_nstages_6_BN_act_lrelu_0.3/harmonized_samples_stage_5/14_harmonized_sample.jpg (deflated 10%)\n",
            "  adding: content/Adversarial-Representation-Learning-for-Medical-Imaging/MedSinGAN/TrainedModels/normal/2022_01_14_11_38_48_harmonization_niter_1000_lr_scale_0.1_nstages_6_BN_act_lrelu_0.3/harmonized_samples_stage_5/2_naive_sample.jpg (deflated 29%)\n",
            "  adding: content/Adversarial-Representation-Learning-for-Medical-Imaging/MedSinGAN/TrainedModels/normal/2022_01_14_11_38_48_harmonization_niter_1000_lr_scale_0.1_nstages_6_BN_act_lrelu_0.3/harmonized_samples_stage_5/12_harmonized_sample.jpg (deflated 9%)\n",
            "  adding: content/Adversarial-Representation-Learning-for-Medical-Imaging/MedSinGAN/TrainedModels/normal/2022_01_14_11_38_48_harmonization_niter_1000_lr_scale_0.1_nstages_6_BN_act_lrelu_0.3/harmonized_samples_stage_5/9_harmonized_sample.jpg (deflated 11%)\n",
            "  adding: content/Adversarial-Representation-Learning-for-Medical-Imaging/MedSinGAN/TrainedModels/normal/2022_01_14_11_38_48_harmonization_niter_1000_lr_scale_0.1_nstages_6_BN_act_lrelu_0.3/harmonized_samples_stage_5/5_harmonized_sample.jpg (deflated 11%)\n",
            "  adding: content/Adversarial-Representation-Learning-for-Medical-Imaging/MedSinGAN/TrainedModels/normal/2022_01_14_11_38_48_harmonization_niter_1000_lr_scale_0.1_nstages_6_BN_act_lrelu_0.3/harmonized_samples_stage_5/8_harmonized_sample.jpg (deflated 9%)\n",
            "  adding: content/Adversarial-Representation-Learning-for-Medical-Imaging/MedSinGAN/TrainedModels/normal/2022_01_14_11_38_48_harmonization_niter_1000_lr_scale_0.1_nstages_6_BN_act_lrelu_0.3/harmonized_samples_stage_5/0_harmonized_sample.jpg (deflated 11%)\n",
            "  adding: content/Adversarial-Representation-Learning-for-Medical-Imaging/MedSinGAN/TrainedModels/normal/2022_01_14_11_38_48_harmonization_niter_1000_lr_scale_0.1_nstages_6_BN_act_lrelu_0.3/harmonized_samples_stage_5/7_harmonized_sample.jpg (deflated 9%)\n",
            "  adding: content/Adversarial-Representation-Learning-for-Medical-Imaging/MedSinGAN/TrainedModels/normal/2022_01_14_11_38_48_harmonization_niter_1000_lr_scale_0.1_nstages_6_BN_act_lrelu_0.3/harmonized_samples_stage_5/5_naive_sample.jpg (deflated 24%)\n",
            "  adding: content/Adversarial-Representation-Learning-for-Medical-Imaging/MedSinGAN/TrainedModels/normal/2022_01_14_11_38_48_harmonization_niter_1000_lr_scale_0.1_nstages_6_BN_act_lrelu_0.3/harmonized_samples_stage_5/13_harmonized_sample.jpg (deflated 9%)\n",
            "  adding: content/Adversarial-Representation-Learning-for-Medical-Imaging/MedSinGAN/TrainedModels/normal/2022_01_14_11_38_48_harmonization_niter_1000_lr_scale_0.1_nstages_6_BN_act_lrelu_0.3/harmonized_samples_stage_5/12_naive_sample.jpg (deflated 30%)\n",
            "  adding: content/Adversarial-Representation-Learning-for-Medical-Imaging/MedSinGAN/TrainedModels/normal/2022_01_14_11_38_48_harmonization_niter_1000_lr_scale_0.1_nstages_6_BN_act_lrelu_0.3/harmonized_samples_stage_5/11_harmonized_sample.jpg (deflated 12%)\n",
            "  adding: content/Adversarial-Representation-Learning-for-Medical-Imaging/MedSinGAN/TrainedModels/normal/2022_01_14_11_38_48_harmonization_niter_1000_lr_scale_0.1_nstages_6_BN_act_lrelu_0.3/harmonized_samples_stage_5/14_naive_sample.jpg (deflated 30%)\n",
            "  adding: content/Adversarial-Representation-Learning-for-Medical-Imaging/MedSinGAN/TrainedModels/normal/2022_01_14_11_38_48_harmonization_niter_1000_lr_scale_0.1_nstages_6_BN_act_lrelu_0.3/harmonized_samples_stage_5/3_naive_sample.jpg (deflated 23%)\n",
            "  adding: content/Adversarial-Representation-Learning-for-Medical-Imaging/MedSinGAN/TrainedModels/normal/2022_01_14_11_38_48_harmonization_niter_1000_lr_scale_0.1_nstages_6_BN_act_lrelu_0.3/harmonized_samples_stage_5/7_naive_sample.jpg (deflated 21%)\n",
            "  adding: content/Adversarial-Representation-Learning-for-Medical-Imaging/MedSinGAN/TrainedModels/normal/2022_01_14_11_38_48_harmonization_niter_1000_lr_scale_0.1_nstages_6_BN_act_lrelu_0.3/harmonized_samples_stage_5/1_naive_sample.jpg (deflated 30%)\n",
            "  adding: content/Adversarial-Representation-Learning-for-Medical-Imaging/MedSinGAN/TrainedModels/normal/2022_01_14_11_38_48_harmonization_niter_1000_lr_scale_0.1_nstages_6_BN_act_lrelu_0.3/harmonized_samples_stage_5/10_naive_sample.jpg (deflated 25%)\n",
            "  adding: content/Adversarial-Representation-Learning-for-Medical-Imaging/MedSinGAN/TrainedModels/normal/2022_01_14_11_38_48_harmonization_niter_1000_lr_scale_0.1_nstages_6_BN_act_lrelu_0.3/harmonized_samples_stage_5/10_harmonized_sample.jpg (deflated 10%)\n",
            "  adding: content/Adversarial-Representation-Learning-for-Medical-Imaging/MedSinGAN/TrainedModels/normal/2022_01_14_11_38_48_harmonization_niter_1000_lr_scale_0.1_nstages_6_BN_act_lrelu_0.3/harmonized_samples_stage_5/2_harmonized_sample.jpg (deflated 10%)\n",
            "  adding: content/Adversarial-Representation-Learning-for-Medical-Imaging/MedSinGAN/TrainedModels/normal/2022_01_14_11_38_48_harmonization_niter_1000_lr_scale_0.1_nstages_6_BN_act_lrelu_0.3/harmonized_samples_stage_5/6_harmonized_sample.jpg (deflated 9%)\n",
            "  adding: content/Adversarial-Representation-Learning-for-Medical-Imaging/MedSinGAN/TrainedModels/normal/2022_01_14_11_38_48_harmonization_niter_1000_lr_scale_0.1_nstages_6_BN_act_lrelu_0.3/harmonized_samples_stage_5/3_harmonized_sample.jpg (deflated 15%)\n",
            "  adding: content/Adversarial-Representation-Learning-for-Medical-Imaging/MedSinGAN/TrainedModels/normal/2022_01_14_11_38_48_harmonization_niter_1000_lr_scale_0.1_nstages_6_BN_act_lrelu_0.3/harmonized_samples_stage_5/15_naive_sample.jpg (deflated 22%)\n",
            "  adding: content/Adversarial-Representation-Learning-for-Medical-Imaging/MedSinGAN/TrainedModels/normal/2022_01_14_11_38_48_harmonization_niter_1000_lr_scale_0.1_nstages_6_BN_act_lrelu_0.3/harmonized_samples_stage_5/1_harmonized_sample.jpg (deflated 9%)\n",
            "  adding: content/Adversarial-Representation-Learning-for-Medical-Imaging/MedSinGAN/TrainedModels/normal/2022_01_14_11_38_48_harmonization_niter_1000_lr_scale_0.1_nstages_6_BN_act_lrelu_0.3/harmonized_samples_stage_5/13_naive_sample.jpg (deflated 30%)\n",
            "  adding: content/Adversarial-Representation-Learning-for-Medical-Imaging/MedSinGAN/TrainedModels/normal/2022_01_14_11_38_48_harmonization_niter_1000_lr_scale_0.1_nstages_6_BN_act_lrelu_0.3/harmonized_samples_stage_5/9_naive_sample.jpg (deflated 23%)\n",
            "  adding: content/Adversarial-Representation-Learning-for-Medical-Imaging/MedSinGAN/TrainedModels/normal/2022_01_14_11_38_48_harmonization_niter_1000_lr_scale_0.1_nstages_6_BN_act_lrelu_0.3/1/ (stored 0%)\n",
            "  adding: content/Adversarial-Representation-Learning-for-Medical-Imaging/MedSinGAN/TrainedModels/normal/2022_01_14_11_38_48_harmonization_niter_1000_lr_scale_0.1_nstages_6_BN_act_lrelu_0.3/1/fake_sample_1000.jpg (deflated 20%)\n",
            "  adding: content/Adversarial-Representation-Learning-for-Medical-Imaging/MedSinGAN/TrainedModels/normal/2022_01_14_11_38_48_harmonization_niter_1000_lr_scale_0.1_nstages_6_BN_act_lrelu_0.3/1/events.out.tfevents.1642160366.2b1b21f23490.273.1 (deflated 1%)\n",
            "  adding: content/Adversarial-Representation-Learning-for-Medical-Imaging/MedSinGAN/TrainedModels/normal/2022_01_14_11_38_48_harmonization_niter_1000_lr_scale_0.1_nstages_6_BN_act_lrelu_0.3/1/fake_sample_1.jpg (deflated 24%)\n",
            "  adding: content/Adversarial-Representation-Learning-for-Medical-Imaging/MedSinGAN/TrainedModels/normal/2022_01_14_11_38_48_harmonization_niter_1000_lr_scale_0.1_nstages_6_BN_act_lrelu_0.3/1/netG.pth (deflated 8%)\n",
            "  adding: content/Adversarial-Representation-Learning-for-Medical-Imaging/MedSinGAN/TrainedModels/normal/2022_01_14_11_38_48_harmonization_niter_1000_lr_scale_0.1_nstages_6_BN_act_lrelu_0.3/1/fake_sample_251.jpg (deflated 21%)\n",
            "  adding: content/Adversarial-Representation-Learning-for-Medical-Imaging/MedSinGAN/TrainedModels/normal/2022_01_14_11_38_48_harmonization_niter_1000_lr_scale_0.1_nstages_6_BN_act_lrelu_0.3/1/real_scale.jpg (deflated 20%)\n",
            "  adding: content/Adversarial-Representation-Learning-for-Medical-Imaging/MedSinGAN/TrainedModels/normal/2022_01_14_11_38_48_harmonization_niter_1000_lr_scale_0.1_nstages_6_BN_act_lrelu_0.3/1/reconstruction_1000.jpg (deflated 20%)\n",
            "  adding: content/Adversarial-Representation-Learning-for-Medical-Imaging/MedSinGAN/TrainedModels/normal/2022_01_14_11_38_48_harmonization_niter_1000_lr_scale_0.1_nstages_6_BN_act_lrelu_0.3/1/reconstruction_751.jpg (deflated 20%)\n",
            "  adding: content/Adversarial-Representation-Learning-for-Medical-Imaging/MedSinGAN/TrainedModels/normal/2022_01_14_11_38_48_harmonization_niter_1000_lr_scale_0.1_nstages_6_BN_act_lrelu_0.3/1/z_opt.pth (deflated 8%)\n",
            "  adding: content/Adversarial-Representation-Learning-for-Medical-Imaging/MedSinGAN/TrainedModels/normal/2022_01_14_11_38_48_harmonization_niter_1000_lr_scale_0.1_nstages_6_BN_act_lrelu_0.3/1/reconstruction_1.jpg (deflated 23%)\n",
            "  adding: content/Adversarial-Representation-Learning-for-Medical-Imaging/MedSinGAN/TrainedModels/normal/2022_01_14_11_38_48_harmonization_niter_1000_lr_scale_0.1_nstages_6_BN_act_lrelu_0.3/1/reconstruction_251.jpg (deflated 21%)\n",
            "  adding: content/Adversarial-Representation-Learning-for-Medical-Imaging/MedSinGAN/TrainedModels/normal/2022_01_14_11_38_48_harmonization_niter_1000_lr_scale_0.1_nstages_6_BN_act_lrelu_0.3/1/netD.pth (deflated 7%)\n",
            "  adding: content/Adversarial-Representation-Learning-for-Medical-Imaging/MedSinGAN/TrainedModels/normal/2022_01_14_11_38_48_harmonization_niter_1000_lr_scale_0.1_nstages_6_BN_act_lrelu_0.3/1/reconstruction_501.jpg (deflated 20%)\n",
            "  adding: content/Adversarial-Representation-Learning-for-Medical-Imaging/MedSinGAN/TrainedModels/normal/2022_01_14_11_38_48_harmonization_niter_1000_lr_scale_0.1_nstages_6_BN_act_lrelu_0.3/1/fake_sample_751.jpg (deflated 20%)\n",
            "  adding: content/Adversarial-Representation-Learning-for-Medical-Imaging/MedSinGAN/TrainedModels/normal/2022_01_14_11_38_48_harmonization_niter_1000_lr_scale_0.1_nstages_6_BN_act_lrelu_0.3/1/fake_sample_501.jpg (deflated 19%)\n",
            "  adding: content/Adversarial-Representation-Learning-for-Medical-Imaging/MedSinGAN/TrainedModels/normal/2022_01_14_11_38_48_harmonization_niter_1000_lr_scale_0.1_nstages_6_BN_act_lrelu_0.3/training_harmonization_editing.py (deflated 81%)\n",
            "  adding: content/Adversarial-Representation-Learning-for-Medical-Imaging/MedSinGAN/TrainedModels/normal/2022_01_14_11_38_48_harmonization_niter_1000_lr_scale_0.1_nstages_6_BN_act_lrelu_0.3/evaluate_generation.py (deflated 71%)\n",
            "  adding: content/Adversarial-Representation-Learning-for-Medical-Imaging/MedSinGAN/TrainedModels/normal/2022_01_14_11_38_48_harmonization_niter_1000_lr_scale_0.1_nstages_6_BN_act_lrelu_0.3/reals.pth (deflated 88%)\n",
            "  adding: content/Adversarial-Representation-Learning-for-Medical-Imaging/MedSinGAN/TrainedModels/normal/2022_01_14_11_38_48_harmonization_niter_1000_lr_scale_0.1_nstages_6_BN_act_lrelu_0.3/training.py (deflated 74%)\n",
            "  adding: content/Adversarial-Representation-Learning-for-Medical-Imaging/MedSinGAN/TrainedModels/normal/2022_01_14_11_38_48_harmonization_niter_1000_lr_scale_0.1_nstages_6_BN_act_lrelu_0.3/parameters.txt (deflated 45%)\n",
            "  adding: content/Adversarial-Representation-Learning-for-Medical-Imaging/MedSinGAN/TrainedModels/normal/2022_01_14_11_38_48_harmonization_niter_1000_lr_scale_0.1_nstages_6_BN_act_lrelu_0.3/harmonized_samples_stage_2/ (stored 0%)\n",
            "  adding: content/Adversarial-Representation-Learning-for-Medical-Imaging/MedSinGAN/TrainedModels/normal/2022_01_14_11_38_48_harmonization_niter_1000_lr_scale_0.1_nstages_6_BN_act_lrelu_0.3/harmonized_samples_stage_2/8_naive_sample.jpg (deflated 30%)\n",
            "  adding: content/Adversarial-Representation-Learning-for-Medical-Imaging/MedSinGAN/TrainedModels/normal/2022_01_14_11_38_48_harmonization_niter_1000_lr_scale_0.1_nstages_6_BN_act_lrelu_0.3/harmonized_samples_stage_2/4_harmonized_sample.jpg (deflated 13%)\n",
            "  adding: content/Adversarial-Representation-Learning-for-Medical-Imaging/MedSinGAN/TrainedModels/normal/2022_01_14_11_38_48_harmonization_niter_1000_lr_scale_0.1_nstages_6_BN_act_lrelu_0.3/harmonized_samples_stage_2/0_naive_sample.jpg (deflated 20%)\n",
            "  adding: content/Adversarial-Representation-Learning-for-Medical-Imaging/MedSinGAN/TrainedModels/normal/2022_01_14_11_38_48_harmonization_niter_1000_lr_scale_0.1_nstages_6_BN_act_lrelu_0.3/harmonized_samples_stage_2/6_naive_sample.jpg (deflated 22%)\n",
            "  adding: content/Adversarial-Representation-Learning-for-Medical-Imaging/MedSinGAN/TrainedModels/normal/2022_01_14_11_38_48_harmonization_niter_1000_lr_scale_0.1_nstages_6_BN_act_lrelu_0.3/harmonized_samples_stage_2/11_naive_sample.jpg (deflated 19%)\n",
            "  adding: content/Adversarial-Representation-Learning-for-Medical-Imaging/MedSinGAN/TrainedModels/normal/2022_01_14_11_38_48_harmonization_niter_1000_lr_scale_0.1_nstages_6_BN_act_lrelu_0.3/harmonized_samples_stage_2/15_harmonized_sample.jpg (deflated 16%)\n",
            "  adding: content/Adversarial-Representation-Learning-for-Medical-Imaging/MedSinGAN/TrainedModels/normal/2022_01_14_11_38_48_harmonization_niter_1000_lr_scale_0.1_nstages_6_BN_act_lrelu_0.3/harmonized_samples_stage_2/4_naive_sample.jpg (deflated 21%)\n",
            "  adding: content/Adversarial-Representation-Learning-for-Medical-Imaging/MedSinGAN/TrainedModels/normal/2022_01_14_11_38_48_harmonization_niter_1000_lr_scale_0.1_nstages_6_BN_act_lrelu_0.3/harmonized_samples_stage_2/14_harmonized_sample.jpg (deflated 15%)\n",
            "  adding: content/Adversarial-Representation-Learning-for-Medical-Imaging/MedSinGAN/TrainedModels/normal/2022_01_14_11_38_48_harmonization_niter_1000_lr_scale_0.1_nstages_6_BN_act_lrelu_0.3/harmonized_samples_stage_2/2_naive_sample.jpg (deflated 28%)\n",
            "  adding: content/Adversarial-Representation-Learning-for-Medical-Imaging/MedSinGAN/TrainedModels/normal/2022_01_14_11_38_48_harmonization_niter_1000_lr_scale_0.1_nstages_6_BN_act_lrelu_0.3/harmonized_samples_stage_2/12_harmonized_sample.jpg (deflated 14%)\n",
            "  adding: content/Adversarial-Representation-Learning-for-Medical-Imaging/MedSinGAN/TrainedModels/normal/2022_01_14_11_38_48_harmonization_niter_1000_lr_scale_0.1_nstages_6_BN_act_lrelu_0.3/harmonized_samples_stage_2/9_harmonized_sample.jpg (deflated 16%)\n",
            "  adding: content/Adversarial-Representation-Learning-for-Medical-Imaging/MedSinGAN/TrainedModels/normal/2022_01_14_11_38_48_harmonization_niter_1000_lr_scale_0.1_nstages_6_BN_act_lrelu_0.3/harmonized_samples_stage_2/5_harmonized_sample.jpg (deflated 16%)\n",
            "  adding: content/Adversarial-Representation-Learning-for-Medical-Imaging/MedSinGAN/TrainedModels/normal/2022_01_14_11_38_48_harmonization_niter_1000_lr_scale_0.1_nstages_6_BN_act_lrelu_0.3/harmonized_samples_stage_2/8_harmonized_sample.jpg (deflated 14%)\n",
            "  adding: content/Adversarial-Representation-Learning-for-Medical-Imaging/MedSinGAN/TrainedModels/normal/2022_01_14_11_38_48_harmonization_niter_1000_lr_scale_0.1_nstages_6_BN_act_lrelu_0.3/harmonized_samples_stage_2/0_harmonized_sample.jpg (deflated 14%)\n",
            "  adding: content/Adversarial-Representation-Learning-for-Medical-Imaging/MedSinGAN/TrainedModels/normal/2022_01_14_11_38_48_harmonization_niter_1000_lr_scale_0.1_nstages_6_BN_act_lrelu_0.3/harmonized_samples_stage_2/7_harmonized_sample.jpg (deflated 15%)\n",
            "  adding: content/Adversarial-Representation-Learning-for-Medical-Imaging/MedSinGAN/TrainedModels/normal/2022_01_14_11_38_48_harmonization_niter_1000_lr_scale_0.1_nstages_6_BN_act_lrelu_0.3/harmonized_samples_stage_2/5_naive_sample.jpg (deflated 30%)\n",
            "  adding: content/Adversarial-Representation-Learning-for-Medical-Imaging/MedSinGAN/TrainedModels/normal/2022_01_14_11_38_48_harmonization_niter_1000_lr_scale_0.1_nstages_6_BN_act_lrelu_0.3/harmonized_samples_stage_2/13_harmonized_sample.jpg (deflated 15%)\n",
            "  adding: content/Adversarial-Representation-Learning-for-Medical-Imaging/MedSinGAN/TrainedModels/normal/2022_01_14_11_38_48_harmonization_niter_1000_lr_scale_0.1_nstages_6_BN_act_lrelu_0.3/harmonized_samples_stage_2/12_naive_sample.jpg (deflated 22%)\n",
            "  adding: content/Adversarial-Representation-Learning-for-Medical-Imaging/MedSinGAN/TrainedModels/normal/2022_01_14_11_38_48_harmonization_niter_1000_lr_scale_0.1_nstages_6_BN_act_lrelu_0.3/harmonized_samples_stage_2/11_harmonized_sample.jpg (deflated 17%)\n",
            "  adding: content/Adversarial-Representation-Learning-for-Medical-Imaging/MedSinGAN/TrainedModels/normal/2022_01_14_11_38_48_harmonization_niter_1000_lr_scale_0.1_nstages_6_BN_act_lrelu_0.3/harmonized_samples_stage_2/14_naive_sample.jpg (deflated 25%)\n",
            "  adding: content/Adversarial-Representation-Learning-for-Medical-Imaging/MedSinGAN/TrainedModels/normal/2022_01_14_11_38_48_harmonization_niter_1000_lr_scale_0.1_nstages_6_BN_act_lrelu_0.3/harmonized_samples_stage_2/3_naive_sample.jpg (deflated 30%)\n",
            "  adding: content/Adversarial-Representation-Learning-for-Medical-Imaging/MedSinGAN/TrainedModels/normal/2022_01_14_11_38_48_harmonization_niter_1000_lr_scale_0.1_nstages_6_BN_act_lrelu_0.3/harmonized_samples_stage_2/7_naive_sample.jpg (deflated 26%)\n",
            "  adding: content/Adversarial-Representation-Learning-for-Medical-Imaging/MedSinGAN/TrainedModels/normal/2022_01_14_11_38_48_harmonization_niter_1000_lr_scale_0.1_nstages_6_BN_act_lrelu_0.3/harmonized_samples_stage_2/1_naive_sample.jpg (deflated 26%)\n",
            "  adding: content/Adversarial-Representation-Learning-for-Medical-Imaging/MedSinGAN/TrainedModels/normal/2022_01_14_11_38_48_harmonization_niter_1000_lr_scale_0.1_nstages_6_BN_act_lrelu_0.3/harmonized_samples_stage_2/10_naive_sample.jpg (deflated 23%)\n",
            "  adding: content/Adversarial-Representation-Learning-for-Medical-Imaging/MedSinGAN/TrainedModels/normal/2022_01_14_11_38_48_harmonization_niter_1000_lr_scale_0.1_nstages_6_BN_act_lrelu_0.3/harmonized_samples_stage_2/10_harmonized_sample.jpg (deflated 15%)\n",
            "  adding: content/Adversarial-Representation-Learning-for-Medical-Imaging/MedSinGAN/TrainedModels/normal/2022_01_14_11_38_48_harmonization_niter_1000_lr_scale_0.1_nstages_6_BN_act_lrelu_0.3/harmonized_samples_stage_2/2_harmonized_sample.jpg (deflated 15%)\n",
            "  adding: content/Adversarial-Representation-Learning-for-Medical-Imaging/MedSinGAN/TrainedModels/normal/2022_01_14_11_38_48_harmonization_niter_1000_lr_scale_0.1_nstages_6_BN_act_lrelu_0.3/harmonized_samples_stage_2/6_harmonized_sample.jpg (deflated 14%)\n",
            "  adding: content/Adversarial-Representation-Learning-for-Medical-Imaging/MedSinGAN/TrainedModels/normal/2022_01_14_11_38_48_harmonization_niter_1000_lr_scale_0.1_nstages_6_BN_act_lrelu_0.3/harmonized_samples_stage_2/3_harmonized_sample.jpg (deflated 15%)\n",
            "  adding: content/Adversarial-Representation-Learning-for-Medical-Imaging/MedSinGAN/TrainedModels/normal/2022_01_14_11_38_48_harmonization_niter_1000_lr_scale_0.1_nstages_6_BN_act_lrelu_0.3/harmonized_samples_stage_2/15_naive_sample.jpg (deflated 30%)\n",
            "  adding: content/Adversarial-Representation-Learning-for-Medical-Imaging/MedSinGAN/TrainedModels/normal/2022_01_14_11_38_48_harmonization_niter_1000_lr_scale_0.1_nstages_6_BN_act_lrelu_0.3/harmonized_samples_stage_2/1_harmonized_sample.jpg (deflated 16%)\n",
            "  adding: content/Adversarial-Representation-Learning-for-Medical-Imaging/MedSinGAN/TrainedModels/normal/2022_01_14_11_38_48_harmonization_niter_1000_lr_scale_0.1_nstages_6_BN_act_lrelu_0.3/harmonized_samples_stage_2/13_naive_sample.jpg (deflated 27%)\n",
            "  adding: content/Adversarial-Representation-Learning-for-Medical-Imaging/MedSinGAN/TrainedModels/normal/2022_01_14_11_38_48_harmonization_niter_1000_lr_scale_0.1_nstages_6_BN_act_lrelu_0.3/harmonized_samples_stage_2/9_naive_sample.jpg (deflated 30%)\n",
            "  adding: content/Adversarial-Representation-Learning-for-Medical-Imaging/MedSinGAN/TrainedModels/normal/2022_01_14_11_38_48_harmonization_niter_1000_lr_scale_0.1_nstages_6_BN_act_lrelu_0.3/harmonized_samples_stage_4/ (stored 0%)\n",
            "  adding: content/Adversarial-Representation-Learning-for-Medical-Imaging/MedSinGAN/TrainedModels/normal/2022_01_14_11_38_48_harmonization_niter_1000_lr_scale_0.1_nstages_6_BN_act_lrelu_0.3/harmonized_samples_stage_4/8_naive_sample.jpg (deflated 23%)\n",
            "  adding: content/Adversarial-Representation-Learning-for-Medical-Imaging/MedSinGAN/TrainedModels/normal/2022_01_14_11_38_48_harmonization_niter_1000_lr_scale_0.1_nstages_6_BN_act_lrelu_0.3/harmonized_samples_stage_4/4_harmonized_sample.jpg (deflated 10%)\n",
            "  adding: content/Adversarial-Representation-Learning-for-Medical-Imaging/MedSinGAN/TrainedModels/normal/2022_01_14_11_38_48_harmonization_niter_1000_lr_scale_0.1_nstages_6_BN_act_lrelu_0.3/harmonized_samples_stage_4/0_naive_sample.jpg (deflated 30%)\n",
            "  adding: content/Adversarial-Representation-Learning-for-Medical-Imaging/MedSinGAN/TrainedModels/normal/2022_01_14_11_38_48_harmonization_niter_1000_lr_scale_0.1_nstages_6_BN_act_lrelu_0.3/harmonized_samples_stage_4/6_naive_sample.jpg (deflated 30%)\n",
            "  adding: content/Adversarial-Representation-Learning-for-Medical-Imaging/MedSinGAN/TrainedModels/normal/2022_01_14_11_38_48_harmonization_niter_1000_lr_scale_0.1_nstages_6_BN_act_lrelu_0.3/harmonized_samples_stage_4/11_naive_sample.jpg (deflated 25%)\n",
            "  adding: content/Adversarial-Representation-Learning-for-Medical-Imaging/MedSinGAN/TrainedModels/normal/2022_01_14_11_38_48_harmonization_niter_1000_lr_scale_0.1_nstages_6_BN_act_lrelu_0.3/harmonized_samples_stage_4/15_harmonized_sample.jpg (deflated 11%)\n",
            "  adding: content/Adversarial-Representation-Learning-for-Medical-Imaging/MedSinGAN/TrainedModels/normal/2022_01_14_11_38_48_harmonization_niter_1000_lr_scale_0.1_nstages_6_BN_act_lrelu_0.3/harmonized_samples_stage_4/4_naive_sample.jpg (deflated 27%)\n",
            "  adding: content/Adversarial-Representation-Learning-for-Medical-Imaging/MedSinGAN/TrainedModels/normal/2022_01_14_11_38_48_harmonization_niter_1000_lr_scale_0.1_nstages_6_BN_act_lrelu_0.3/harmonized_samples_stage_4/14_harmonized_sample.jpg (deflated 13%)\n",
            "  adding: content/Adversarial-Representation-Learning-for-Medical-Imaging/MedSinGAN/TrainedModels/normal/2022_01_14_11_38_48_harmonization_niter_1000_lr_scale_0.1_nstages_6_BN_act_lrelu_0.3/harmonized_samples_stage_4/2_naive_sample.jpg (deflated 25%)\n",
            "  adding: content/Adversarial-Representation-Learning-for-Medical-Imaging/MedSinGAN/TrainedModels/normal/2022_01_14_11_38_48_harmonization_niter_1000_lr_scale_0.1_nstages_6_BN_act_lrelu_0.3/harmonized_samples_stage_4/12_harmonized_sample.jpg (deflated 10%)\n",
            "  adding: content/Adversarial-Representation-Learning-for-Medical-Imaging/MedSinGAN/TrainedModels/normal/2022_01_14_11_38_48_harmonization_niter_1000_lr_scale_0.1_nstages_6_BN_act_lrelu_0.3/harmonized_samples_stage_4/9_harmonized_sample.jpg (deflated 13%)\n",
            "  adding: content/Adversarial-Representation-Learning-for-Medical-Imaging/MedSinGAN/TrainedModels/normal/2022_01_14_11_38_48_harmonization_niter_1000_lr_scale_0.1_nstages_6_BN_act_lrelu_0.3/harmonized_samples_stage_4/5_harmonized_sample.jpg (deflated 8%)\n",
            "  adding: content/Adversarial-Representation-Learning-for-Medical-Imaging/MedSinGAN/TrainedModels/normal/2022_01_14_11_38_48_harmonization_niter_1000_lr_scale_0.1_nstages_6_BN_act_lrelu_0.3/harmonized_samples_stage_4/8_harmonized_sample.jpg (deflated 13%)\n",
            "  adding: content/Adversarial-Representation-Learning-for-Medical-Imaging/MedSinGAN/TrainedModels/normal/2022_01_14_11_38_48_harmonization_niter_1000_lr_scale_0.1_nstages_6_BN_act_lrelu_0.3/harmonized_samples_stage_4/0_harmonized_sample.jpg (deflated 10%)\n",
            "  adding: content/Adversarial-Representation-Learning-for-Medical-Imaging/MedSinGAN/TrainedModels/normal/2022_01_14_11_38_48_harmonization_niter_1000_lr_scale_0.1_nstages_6_BN_act_lrelu_0.3/harmonized_samples_stage_4/7_harmonized_sample.jpg (deflated 9%)\n",
            "  adding: content/Adversarial-Representation-Learning-for-Medical-Imaging/MedSinGAN/TrainedModels/normal/2022_01_14_11_38_48_harmonization_niter_1000_lr_scale_0.1_nstages_6_BN_act_lrelu_0.3/harmonized_samples_stage_4/5_naive_sample.jpg (deflated 30%)\n",
            "  adding: content/Adversarial-Representation-Learning-for-Medical-Imaging/MedSinGAN/TrainedModels/normal/2022_01_14_11_38_48_harmonization_niter_1000_lr_scale_0.1_nstages_6_BN_act_lrelu_0.3/harmonized_samples_stage_4/13_harmonized_sample.jpg (deflated 9%)\n",
            "  adding: content/Adversarial-Representation-Learning-for-Medical-Imaging/MedSinGAN/TrainedModels/normal/2022_01_14_11_38_48_harmonization_niter_1000_lr_scale_0.1_nstages_6_BN_act_lrelu_0.3/harmonized_samples_stage_4/12_naive_sample.jpg (deflated 25%)\n",
            "  adding: content/Adversarial-Representation-Learning-for-Medical-Imaging/MedSinGAN/TrainedModels/normal/2022_01_14_11_38_48_harmonization_niter_1000_lr_scale_0.1_nstages_6_BN_act_lrelu_0.3/harmonized_samples_stage_4/11_harmonized_sample.jpg (deflated 10%)\n",
            "  adding: content/Adversarial-Representation-Learning-for-Medical-Imaging/MedSinGAN/TrainedModels/normal/2022_01_14_11_38_48_harmonization_niter_1000_lr_scale_0.1_nstages_6_BN_act_lrelu_0.3/harmonized_samples_stage_4/14_naive_sample.jpg (deflated 23%)\n",
            "  adding: content/Adversarial-Representation-Learning-for-Medical-Imaging/MedSinGAN/TrainedModels/normal/2022_01_14_11_38_48_harmonization_niter_1000_lr_scale_0.1_nstages_6_BN_act_lrelu_0.3/harmonized_samples_stage_4/3_naive_sample.jpg (deflated 30%)\n",
            "  adding: content/Adversarial-Representation-Learning-for-Medical-Imaging/MedSinGAN/TrainedModels/normal/2022_01_14_11_38_48_harmonization_niter_1000_lr_scale_0.1_nstages_6_BN_act_lrelu_0.3/harmonized_samples_stage_4/7_naive_sample.jpg (deflated 30%)\n",
            "  adding: content/Adversarial-Representation-Learning-for-Medical-Imaging/MedSinGAN/TrainedModels/normal/2022_01_14_11_38_48_harmonization_niter_1000_lr_scale_0.1_nstages_6_BN_act_lrelu_0.3/harmonized_samples_stage_4/1_naive_sample.jpg (deflated 22%)\n",
            "  adding: content/Adversarial-Representation-Learning-for-Medical-Imaging/MedSinGAN/TrainedModels/normal/2022_01_14_11_38_48_harmonization_niter_1000_lr_scale_0.1_nstages_6_BN_act_lrelu_0.3/harmonized_samples_stage_4/10_naive_sample.jpg (deflated 25%)\n",
            "  adding: content/Adversarial-Representation-Learning-for-Medical-Imaging/MedSinGAN/TrainedModels/normal/2022_01_14_11_38_48_harmonization_niter_1000_lr_scale_0.1_nstages_6_BN_act_lrelu_0.3/harmonized_samples_stage_4/10_harmonized_sample.jpg (deflated 10%)\n",
            "  adding: content/Adversarial-Representation-Learning-for-Medical-Imaging/MedSinGAN/TrainedModels/normal/2022_01_14_11_38_48_harmonization_niter_1000_lr_scale_0.1_nstages_6_BN_act_lrelu_0.3/harmonized_samples_stage_4/2_harmonized_sample.jpg (deflated 9%)\n",
            "  adding: content/Adversarial-Representation-Learning-for-Medical-Imaging/MedSinGAN/TrainedModels/normal/2022_01_14_11_38_48_harmonization_niter_1000_lr_scale_0.1_nstages_6_BN_act_lrelu_0.3/harmonized_samples_stage_4/6_harmonized_sample.jpg (deflated 9%)\n",
            "  adding: content/Adversarial-Representation-Learning-for-Medical-Imaging/MedSinGAN/TrainedModels/normal/2022_01_14_11_38_48_harmonization_niter_1000_lr_scale_0.1_nstages_6_BN_act_lrelu_0.3/harmonized_samples_stage_4/3_harmonized_sample.jpg (deflated 9%)\n",
            "  adding: content/Adversarial-Representation-Learning-for-Medical-Imaging/MedSinGAN/TrainedModels/normal/2022_01_14_11_38_48_harmonization_niter_1000_lr_scale_0.1_nstages_6_BN_act_lrelu_0.3/harmonized_samples_stage_4/15_naive_sample.jpg (deflated 23%)\n",
            "  adding: content/Adversarial-Representation-Learning-for-Medical-Imaging/MedSinGAN/TrainedModels/normal/2022_01_14_11_38_48_harmonization_niter_1000_lr_scale_0.1_nstages_6_BN_act_lrelu_0.3/harmonized_samples_stage_4/1_harmonized_sample.jpg (deflated 12%)\n",
            "  adding: content/Adversarial-Representation-Learning-for-Medical-Imaging/MedSinGAN/TrainedModels/normal/2022_01_14_11_38_48_harmonization_niter_1000_lr_scale_0.1_nstages_6_BN_act_lrelu_0.3/harmonized_samples_stage_4/13_naive_sample.jpg (deflated 25%)\n",
            "  adding: content/Adversarial-Representation-Learning-for-Medical-Imaging/MedSinGAN/TrainedModels/normal/2022_01_14_11_38_48_harmonization_niter_1000_lr_scale_0.1_nstages_6_BN_act_lrelu_0.3/harmonized_samples_stage_4/9_naive_sample.jpg (deflated 23%)\n",
            "  adding: content/Adversarial-Representation-Learning-for-Medical-Imaging/MedSinGAN/TrainedModels/normal/2022_01_14_11_38_48_harmonization_niter_1000_lr_scale_0.1_nstages_6_BN_act_lrelu_0.3/3/ (stored 0%)\n",
            "  adding: content/Adversarial-Representation-Learning-for-Medical-Imaging/MedSinGAN/TrainedModels/normal/2022_01_14_11_38_48_harmonization_niter_1000_lr_scale_0.1_nstages_6_BN_act_lrelu_0.3/3/fake_sample_1000.jpg (deflated 10%)\n",
            "  adding: content/Adversarial-Representation-Learning-for-Medical-Imaging/MedSinGAN/TrainedModels/normal/2022_01_14_11_38_48_harmonization_niter_1000_lr_scale_0.1_nstages_6_BN_act_lrelu_0.3/3/fake_sample_1.jpg (deflated 10%)\n",
            "  adding: content/Adversarial-Representation-Learning-for-Medical-Imaging/MedSinGAN/TrainedModels/normal/2022_01_14_11_38_48_harmonization_niter_1000_lr_scale_0.1_nstages_6_BN_act_lrelu_0.3/3/netG.pth (deflated 8%)\n",
            "  adding: content/Adversarial-Representation-Learning-for-Medical-Imaging/MedSinGAN/TrainedModels/normal/2022_01_14_11_38_48_harmonization_niter_1000_lr_scale_0.1_nstages_6_BN_act_lrelu_0.3/3/fake_sample_251.jpg (deflated 10%)\n",
            "  adding: content/Adversarial-Representation-Learning-for-Medical-Imaging/MedSinGAN/TrainedModels/normal/2022_01_14_11_38_48_harmonization_niter_1000_lr_scale_0.1_nstages_6_BN_act_lrelu_0.3/3/real_scale.jpg (deflated 11%)\n",
            "  adding: content/Adversarial-Representation-Learning-for-Medical-Imaging/MedSinGAN/TrainedModels/normal/2022_01_14_11_38_48_harmonization_niter_1000_lr_scale_0.1_nstages_6_BN_act_lrelu_0.3/3/reconstruction_1000.jpg (deflated 12%)\n",
            "  adding: content/Adversarial-Representation-Learning-for-Medical-Imaging/MedSinGAN/TrainedModels/normal/2022_01_14_11_38_48_harmonization_niter_1000_lr_scale_0.1_nstages_6_BN_act_lrelu_0.3/3/reconstruction_751.jpg (deflated 11%)\n",
            "  adding: content/Adversarial-Representation-Learning-for-Medical-Imaging/MedSinGAN/TrainedModels/normal/2022_01_14_11_38_48_harmonization_niter_1000_lr_scale_0.1_nstages_6_BN_act_lrelu_0.3/3/events.out.tfevents.1642160442.2b1b21f23490.273.3 (deflated 0%)\n",
            "  adding: content/Adversarial-Representation-Learning-for-Medical-Imaging/MedSinGAN/TrainedModels/normal/2022_01_14_11_38_48_harmonization_niter_1000_lr_scale_0.1_nstages_6_BN_act_lrelu_0.3/3/z_opt.pth (deflated 7%)\n",
            "  adding: content/Adversarial-Representation-Learning-for-Medical-Imaging/MedSinGAN/TrainedModels/normal/2022_01_14_11_38_48_harmonization_niter_1000_lr_scale_0.1_nstages_6_BN_act_lrelu_0.3/3/reconstruction_1.jpg (deflated 10%)\n",
            "  adding: content/Adversarial-Representation-Learning-for-Medical-Imaging/MedSinGAN/TrainedModels/normal/2022_01_14_11_38_48_harmonization_niter_1000_lr_scale_0.1_nstages_6_BN_act_lrelu_0.3/3/reconstruction_251.jpg (deflated 11%)\n",
            "  adding: content/Adversarial-Representation-Learning-for-Medical-Imaging/MedSinGAN/TrainedModels/normal/2022_01_14_11_38_48_harmonization_niter_1000_lr_scale_0.1_nstages_6_BN_act_lrelu_0.3/3/netD.pth (deflated 7%)\n",
            "  adding: content/Adversarial-Representation-Learning-for-Medical-Imaging/MedSinGAN/TrainedModels/normal/2022_01_14_11_38_48_harmonization_niter_1000_lr_scale_0.1_nstages_6_BN_act_lrelu_0.3/3/reconstruction_501.jpg (deflated 11%)\n",
            "  adding: content/Adversarial-Representation-Learning-for-Medical-Imaging/MedSinGAN/TrainedModels/normal/2022_01_14_11_38_48_harmonization_niter_1000_lr_scale_0.1_nstages_6_BN_act_lrelu_0.3/3/fake_sample_751.jpg (deflated 7%)\n",
            "  adding: content/Adversarial-Representation-Learning-for-Medical-Imaging/MedSinGAN/TrainedModels/normal/2022_01_14_11_38_48_harmonization_niter_1000_lr_scale_0.1_nstages_6_BN_act_lrelu_0.3/3/fake_sample_501.jpg (deflated 11%)\n",
            "  adding: content/Adversarial-Representation-Learning-for-Medical-Imaging/MedSinGAN/TrainedModels/normal/2022_01_14_11_38_48_harmonization_niter_1000_lr_scale_0.1_nstages_6_BN_act_lrelu_0.3/harmonized_samples_stage_3/ (stored 0%)\n",
            "  adding: content/Adversarial-Representation-Learning-for-Medical-Imaging/MedSinGAN/TrainedModels/normal/2022_01_14_11_38_48_harmonization_niter_1000_lr_scale_0.1_nstages_6_BN_act_lrelu_0.3/harmonized_samples_stage_3/8_naive_sample.jpg (deflated 27%)\n",
            "  adding: content/Adversarial-Representation-Learning-for-Medical-Imaging/MedSinGAN/TrainedModels/normal/2022_01_14_11_38_48_harmonization_niter_1000_lr_scale_0.1_nstages_6_BN_act_lrelu_0.3/harmonized_samples_stage_3/4_harmonized_sample.jpg (deflated 9%)\n",
            "  adding: content/Adversarial-Representation-Learning-for-Medical-Imaging/MedSinGAN/TrainedModels/normal/2022_01_14_11_38_48_harmonization_niter_1000_lr_scale_0.1_nstages_6_BN_act_lrelu_0.3/harmonized_samples_stage_3/0_naive_sample.jpg (deflated 23%)\n",
            "  adding: content/Adversarial-Representation-Learning-for-Medical-Imaging/MedSinGAN/TrainedModels/normal/2022_01_14_11_38_48_harmonization_niter_1000_lr_scale_0.1_nstages_6_BN_act_lrelu_0.3/harmonized_samples_stage_3/6_naive_sample.jpg (deflated 19%)\n",
            "  adding: content/Adversarial-Representation-Learning-for-Medical-Imaging/MedSinGAN/TrainedModels/normal/2022_01_14_11_38_48_harmonization_niter_1000_lr_scale_0.1_nstages_6_BN_act_lrelu_0.3/harmonized_samples_stage_3/11_naive_sample.jpg (deflated 30%)\n",
            "  adding: content/Adversarial-Representation-Learning-for-Medical-Imaging/MedSinGAN/TrainedModels/normal/2022_01_14_11_38_48_harmonization_niter_1000_lr_scale_0.1_nstages_6_BN_act_lrelu_0.3/harmonized_samples_stage_3/15_harmonized_sample.jpg (deflated 13%)\n",
            "  adding: content/Adversarial-Representation-Learning-for-Medical-Imaging/MedSinGAN/TrainedModels/normal/2022_01_14_11_38_48_harmonization_niter_1000_lr_scale_0.1_nstages_6_BN_act_lrelu_0.3/harmonized_samples_stage_3/4_naive_sample.jpg (deflated 23%)\n",
            "  adding: content/Adversarial-Representation-Learning-for-Medical-Imaging/MedSinGAN/TrainedModels/normal/2022_01_14_11_38_48_harmonization_niter_1000_lr_scale_0.1_nstages_6_BN_act_lrelu_0.3/harmonized_samples_stage_3/14_harmonized_sample.jpg (deflated 10%)\n",
            "  adding: content/Adversarial-Representation-Learning-for-Medical-Imaging/MedSinGAN/TrainedModels/normal/2022_01_14_11_38_48_harmonization_niter_1000_lr_scale_0.1_nstages_6_BN_act_lrelu_0.3/harmonized_samples_stage_3/2_naive_sample.jpg (deflated 24%)\n",
            "  adding: content/Adversarial-Representation-Learning-for-Medical-Imaging/MedSinGAN/TrainedModels/normal/2022_01_14_11_38_48_harmonization_niter_1000_lr_scale_0.1_nstages_6_BN_act_lrelu_0.3/harmonized_samples_stage_3/12_harmonized_sample.jpg (deflated 9%)\n",
            "  adding: content/Adversarial-Representation-Learning-for-Medical-Imaging/MedSinGAN/TrainedModels/normal/2022_01_14_11_38_48_harmonization_niter_1000_lr_scale_0.1_nstages_6_BN_act_lrelu_0.3/harmonized_samples_stage_3/9_harmonized_sample.jpg (deflated 10%)\n",
            "  adding: content/Adversarial-Representation-Learning-for-Medical-Imaging/MedSinGAN/TrainedModels/normal/2022_01_14_11_38_48_harmonization_niter_1000_lr_scale_0.1_nstages_6_BN_act_lrelu_0.3/harmonized_samples_stage_3/5_harmonized_sample.jpg (deflated 9%)\n",
            "  adding: content/Adversarial-Representation-Learning-for-Medical-Imaging/MedSinGAN/TrainedModels/normal/2022_01_14_11_38_48_harmonization_niter_1000_lr_scale_0.1_nstages_6_BN_act_lrelu_0.3/harmonized_samples_stage_3/8_harmonized_sample.jpg (deflated 10%)\n",
            "  adding: content/Adversarial-Representation-Learning-for-Medical-Imaging/MedSinGAN/TrainedModels/normal/2022_01_14_11_38_48_harmonization_niter_1000_lr_scale_0.1_nstages_6_BN_act_lrelu_0.3/harmonized_samples_stage_3/0_harmonized_sample.jpg (deflated 10%)\n",
            "  adding: content/Adversarial-Representation-Learning-for-Medical-Imaging/MedSinGAN/TrainedModels/normal/2022_01_14_11_38_48_harmonization_niter_1000_lr_scale_0.1_nstages_6_BN_act_lrelu_0.3/harmonized_samples_stage_3/7_harmonized_sample.jpg (deflated 10%)\n",
            "  adding: content/Adversarial-Representation-Learning-for-Medical-Imaging/MedSinGAN/TrainedModels/normal/2022_01_14_11_38_48_harmonization_niter_1000_lr_scale_0.1_nstages_6_BN_act_lrelu_0.3/harmonized_samples_stage_3/5_naive_sample.jpg (deflated 30%)\n",
            "  adding: content/Adversarial-Representation-Learning-for-Medical-Imaging/MedSinGAN/TrainedModels/normal/2022_01_14_11_38_48_harmonization_niter_1000_lr_scale_0.1_nstages_6_BN_act_lrelu_0.3/harmonized_samples_stage_3/13_harmonized_sample.jpg (deflated 9%)\n",
            "  adding: content/Adversarial-Representation-Learning-for-Medical-Imaging/MedSinGAN/TrainedModels/normal/2022_01_14_11_38_48_harmonization_niter_1000_lr_scale_0.1_nstages_6_BN_act_lrelu_0.3/harmonized_samples_stage_3/12_naive_sample.jpg (deflated 30%)\n",
            "  adding: content/Adversarial-Representation-Learning-for-Medical-Imaging/MedSinGAN/TrainedModels/normal/2022_01_14_11_38_48_harmonization_niter_1000_lr_scale_0.1_nstages_6_BN_act_lrelu_0.3/harmonized_samples_stage_3/11_harmonized_sample.jpg (deflated 9%)\n",
            "  adding: content/Adversarial-Representation-Learning-for-Medical-Imaging/MedSinGAN/TrainedModels/normal/2022_01_14_11_38_48_harmonization_niter_1000_lr_scale_0.1_nstages_6_BN_act_lrelu_0.3/harmonized_samples_stage_3/14_naive_sample.jpg (deflated 30%)\n",
            "  adding: content/Adversarial-Representation-Learning-for-Medical-Imaging/MedSinGAN/TrainedModels/normal/2022_01_14_11_38_48_harmonization_niter_1000_lr_scale_0.1_nstages_6_BN_act_lrelu_0.3/harmonized_samples_stage_3/3_naive_sample.jpg (deflated 30%)\n",
            "  adding: content/Adversarial-Representation-Learning-for-Medical-Imaging/MedSinGAN/TrainedModels/normal/2022_01_14_11_38_48_harmonization_niter_1000_lr_scale_0.1_nstages_6_BN_act_lrelu_0.3/harmonized_samples_stage_3/7_naive_sample.jpg (deflated 22%)\n",
            "  adding: content/Adversarial-Representation-Learning-for-Medical-Imaging/MedSinGAN/TrainedModels/normal/2022_01_14_11_38_48_harmonization_niter_1000_lr_scale_0.1_nstages_6_BN_act_lrelu_0.3/harmonized_samples_stage_3/1_naive_sample.jpg (deflated 20%)\n",
            "  adding: content/Adversarial-Representation-Learning-for-Medical-Imaging/MedSinGAN/TrainedModels/normal/2022_01_14_11_38_48_harmonization_niter_1000_lr_scale_0.1_nstages_6_BN_act_lrelu_0.3/harmonized_samples_stage_3/10_naive_sample.jpg (deflated 30%)\n",
            "  adding: content/Adversarial-Representation-Learning-for-Medical-Imaging/MedSinGAN/TrainedModels/normal/2022_01_14_11_38_48_harmonization_niter_1000_lr_scale_0.1_nstages_6_BN_act_lrelu_0.3/harmonized_samples_stage_3/10_harmonized_sample.jpg (deflated 9%)\n",
            "  adding: content/Adversarial-Representation-Learning-for-Medical-Imaging/MedSinGAN/TrainedModels/normal/2022_01_14_11_38_48_harmonization_niter_1000_lr_scale_0.1_nstages_6_BN_act_lrelu_0.3/harmonized_samples_stage_3/2_harmonized_sample.jpg (deflated 11%)\n",
            "  adding: content/Adversarial-Representation-Learning-for-Medical-Imaging/MedSinGAN/TrainedModels/normal/2022_01_14_11_38_48_harmonization_niter_1000_lr_scale_0.1_nstages_6_BN_act_lrelu_0.3/harmonized_samples_stage_3/6_harmonized_sample.jpg (deflated 10%)\n",
            "  adding: content/Adversarial-Representation-Learning-for-Medical-Imaging/MedSinGAN/TrainedModels/normal/2022_01_14_11_38_48_harmonization_niter_1000_lr_scale_0.1_nstages_6_BN_act_lrelu_0.3/harmonized_samples_stage_3/3_harmonized_sample.jpg (deflated 9%)\n",
            "  adding: content/Adversarial-Representation-Learning-for-Medical-Imaging/MedSinGAN/TrainedModels/normal/2022_01_14_11_38_48_harmonization_niter_1000_lr_scale_0.1_nstages_6_BN_act_lrelu_0.3/harmonized_samples_stage_3/15_naive_sample.jpg (deflated 23%)\n",
            "  adding: content/Adversarial-Representation-Learning-for-Medical-Imaging/MedSinGAN/TrainedModels/normal/2022_01_14_11_38_48_harmonization_niter_1000_lr_scale_0.1_nstages_6_BN_act_lrelu_0.3/harmonized_samples_stage_3/1_harmonized_sample.jpg (deflated 10%)\n",
            "  adding: content/Adversarial-Representation-Learning-for-Medical-Imaging/MedSinGAN/TrainedModels/normal/2022_01_14_11_38_48_harmonization_niter_1000_lr_scale_0.1_nstages_6_BN_act_lrelu_0.3/harmonized_samples_stage_3/13_naive_sample.jpg (deflated 30%)\n",
            "  adding: content/Adversarial-Representation-Learning-for-Medical-Imaging/MedSinGAN/TrainedModels/normal/2022_01_14_11_38_48_harmonization_niter_1000_lr_scale_0.1_nstages_6_BN_act_lrelu_0.3/harmonized_samples_stage_3/9_naive_sample.jpg (deflated 24%)\n",
            "  adding: content/Adversarial-Representation-Learning-for-Medical-Imaging/MedSinGAN/TrainedModels/normal/2022_01_14_11_38_48_harmonization_niter_1000_lr_scale_0.1_nstages_6_BN_act_lrelu_0.3/fixed_noise.pth (deflated 7%)\n",
            "  adding: content/Adversarial-Representation-Learning-for-Medical-Imaging/MedSinGAN/TrainedModels/normal/2022_01_14_11_38_48_harmonization_niter_1000_lr_scale_0.1_nstages_6_BN_act_lrelu_0.3/main_train.py (deflated 67%)\n",
            "  adding: content/Adversarial-Representation-Learning-for-Medical-Imaging/MedSinGAN/TrainedModels/normal/2022_01_14_11_38_48_harmonization_niter_1000_lr_scale_0.1_nstages_6_BN_act_lrelu_0.3/G.pth (deflated 8%)\n",
            "  adding: content/Adversarial-Representation-Learning-for-Medical-Imaging/MedSinGAN/TrainedModels/normal/2022_01_14_11_38_48_harmonization_niter_1000_lr_scale_0.1_nstages_6_BN_act_lrelu_0.3/harmonized_samples_stage_0/ (stored 0%)\n",
            "  adding: content/Adversarial-Representation-Learning-for-Medical-Imaging/MedSinGAN/TrainedModels/normal/2022_01_14_11_38_48_harmonization_niter_1000_lr_scale_0.1_nstages_6_BN_act_lrelu_0.3/harmonized_samples_stage_0/8_naive_sample.jpg (deflated 23%)\n",
            "  adding: content/Adversarial-Representation-Learning-for-Medical-Imaging/MedSinGAN/TrainedModels/normal/2022_01_14_11_38_48_harmonization_niter_1000_lr_scale_0.1_nstages_6_BN_act_lrelu_0.3/harmonized_samples_stage_0/4_harmonized_sample.jpg (deflated 24%)\n",
            "  adding: content/Adversarial-Representation-Learning-for-Medical-Imaging/MedSinGAN/TrainedModels/normal/2022_01_14_11_38_48_harmonization_niter_1000_lr_scale_0.1_nstages_6_BN_act_lrelu_0.3/harmonized_samples_stage_0/0_naive_sample.jpg (deflated 23%)\n",
            "  adding: content/Adversarial-Representation-Learning-for-Medical-Imaging/MedSinGAN/TrainedModels/normal/2022_01_14_11_38_48_harmonization_niter_1000_lr_scale_0.1_nstages_6_BN_act_lrelu_0.3/harmonized_samples_stage_0/6_naive_sample.jpg (deflated 23%)\n",
            "  adding: content/Adversarial-Representation-Learning-for-Medical-Imaging/MedSinGAN/TrainedModels/normal/2022_01_14_11_38_48_harmonization_niter_1000_lr_scale_0.1_nstages_6_BN_act_lrelu_0.3/harmonized_samples_stage_0/11_naive_sample.jpg (deflated 30%)\n",
            "  adding: content/Adversarial-Representation-Learning-for-Medical-Imaging/MedSinGAN/TrainedModels/normal/2022_01_14_11_38_48_harmonization_niter_1000_lr_scale_0.1_nstages_6_BN_act_lrelu_0.3/harmonized_samples_stage_0/15_harmonized_sample.jpg (deflated 23%)\n",
            "  adding: content/Adversarial-Representation-Learning-for-Medical-Imaging/MedSinGAN/TrainedModels/normal/2022_01_14_11_38_48_harmonization_niter_1000_lr_scale_0.1_nstages_6_BN_act_lrelu_0.3/harmonized_samples_stage_0/4_naive_sample.jpg (deflated 30%)\n",
            "  adding: content/Adversarial-Representation-Learning-for-Medical-Imaging/MedSinGAN/TrainedModels/normal/2022_01_14_11_38_48_harmonization_niter_1000_lr_scale_0.1_nstages_6_BN_act_lrelu_0.3/harmonized_samples_stage_0/14_harmonized_sample.jpg (deflated 23%)\n",
            "  adding: content/Adversarial-Representation-Learning-for-Medical-Imaging/MedSinGAN/TrainedModels/normal/2022_01_14_11_38_48_harmonization_niter_1000_lr_scale_0.1_nstages_6_BN_act_lrelu_0.3/harmonized_samples_stage_0/2_naive_sample.jpg (deflated 22%)\n",
            "  adding: content/Adversarial-Representation-Learning-for-Medical-Imaging/MedSinGAN/TrainedModels/normal/2022_01_14_11_38_48_harmonization_niter_1000_lr_scale_0.1_nstages_6_BN_act_lrelu_0.3/harmonized_samples_stage_0/12_harmonized_sample.jpg (deflated 24%)\n",
            "  adding: content/Adversarial-Representation-Learning-for-Medical-Imaging/MedSinGAN/TrainedModels/normal/2022_01_14_11_38_48_harmonization_niter_1000_lr_scale_0.1_nstages_6_BN_act_lrelu_0.3/harmonized_samples_stage_0/9_harmonized_sample.jpg (deflated 23%)\n",
            "  adding: content/Adversarial-Representation-Learning-for-Medical-Imaging/MedSinGAN/TrainedModels/normal/2022_01_14_11_38_48_harmonization_niter_1000_lr_scale_0.1_nstages_6_BN_act_lrelu_0.3/harmonized_samples_stage_0/5_harmonized_sample.jpg (deflated 23%)\n",
            "  adding: content/Adversarial-Representation-Learning-for-Medical-Imaging/MedSinGAN/TrainedModels/normal/2022_01_14_11_38_48_harmonization_niter_1000_lr_scale_0.1_nstages_6_BN_act_lrelu_0.3/harmonized_samples_stage_0/8_harmonized_sample.jpg (deflated 24%)\n",
            "  adding: content/Adversarial-Representation-Learning-for-Medical-Imaging/MedSinGAN/TrainedModels/normal/2022_01_14_11_38_48_harmonization_niter_1000_lr_scale_0.1_nstages_6_BN_act_lrelu_0.3/harmonized_samples_stage_0/0_harmonized_sample.jpg (deflated 23%)\n",
            "  adding: content/Adversarial-Representation-Learning-for-Medical-Imaging/MedSinGAN/TrainedModels/normal/2022_01_14_11_38_48_harmonization_niter_1000_lr_scale_0.1_nstages_6_BN_act_lrelu_0.3/harmonized_samples_stage_0/7_harmonized_sample.jpg (deflated 23%)\n",
            "  adding: content/Adversarial-Representation-Learning-for-Medical-Imaging/MedSinGAN/TrainedModels/normal/2022_01_14_11_38_48_harmonization_niter_1000_lr_scale_0.1_nstages_6_BN_act_lrelu_0.3/harmonized_samples_stage_0/5_naive_sample.jpg (deflated 30%)\n",
            "  adding: content/Adversarial-Representation-Learning-for-Medical-Imaging/MedSinGAN/TrainedModels/normal/2022_01_14_11_38_48_harmonization_niter_1000_lr_scale_0.1_nstages_6_BN_act_lrelu_0.3/harmonized_samples_stage_0/13_harmonized_sample.jpg (deflated 23%)\n",
            "  adding: content/Adversarial-Representation-Learning-for-Medical-Imaging/MedSinGAN/TrainedModels/normal/2022_01_14_11_38_48_harmonization_niter_1000_lr_scale_0.1_nstages_6_BN_act_lrelu_0.3/harmonized_samples_stage_0/12_naive_sample.jpg (deflated 24%)\n",
            "  adding: content/Adversarial-Representation-Learning-for-Medical-Imaging/MedSinGAN/TrainedModels/normal/2022_01_14_11_38_48_harmonization_niter_1000_lr_scale_0.1_nstages_6_BN_act_lrelu_0.3/harmonized_samples_stage_0/11_harmonized_sample.jpg (deflated 24%)\n",
            "  adding: content/Adversarial-Representation-Learning-for-Medical-Imaging/MedSinGAN/TrainedModels/normal/2022_01_14_11_38_48_harmonization_niter_1000_lr_scale_0.1_nstages_6_BN_act_lrelu_0.3/harmonized_samples_stage_0/14_naive_sample.jpg (deflated 26%)\n",
            "  adding: content/Adversarial-Representation-Learning-for-Medical-Imaging/MedSinGAN/TrainedModels/normal/2022_01_14_11_38_48_harmonization_niter_1000_lr_scale_0.1_nstages_6_BN_act_lrelu_0.3/harmonized_samples_stage_0/3_naive_sample.jpg (deflated 23%)\n",
            "  adding: content/Adversarial-Representation-Learning-for-Medical-Imaging/MedSinGAN/TrainedModels/normal/2022_01_14_11_38_48_harmonization_niter_1000_lr_scale_0.1_nstages_6_BN_act_lrelu_0.3/harmonized_samples_stage_0/7_naive_sample.jpg (deflated 30%)\n",
            "  adding: content/Adversarial-Representation-Learning-for-Medical-Imaging/MedSinGAN/TrainedModels/normal/2022_01_14_11_38_48_harmonization_niter_1000_lr_scale_0.1_nstages_6_BN_act_lrelu_0.3/harmonized_samples_stage_0/1_naive_sample.jpg (deflated 24%)\n",
            "  adding: content/Adversarial-Representation-Learning-for-Medical-Imaging/MedSinGAN/TrainedModels/normal/2022_01_14_11_38_48_harmonization_niter_1000_lr_scale_0.1_nstages_6_BN_act_lrelu_0.3/harmonized_samples_stage_0/10_naive_sample.jpg (deflated 26%)\n",
            "  adding: content/Adversarial-Representation-Learning-for-Medical-Imaging/MedSinGAN/TrainedModels/normal/2022_01_14_11_38_48_harmonization_niter_1000_lr_scale_0.1_nstages_6_BN_act_lrelu_0.3/harmonized_samples_stage_0/10_harmonized_sample.jpg (deflated 23%)\n",
            "  adding: content/Adversarial-Representation-Learning-for-Medical-Imaging/MedSinGAN/TrainedModels/normal/2022_01_14_11_38_48_harmonization_niter_1000_lr_scale_0.1_nstages_6_BN_act_lrelu_0.3/harmonized_samples_stage_0/2_harmonized_sample.jpg (deflated 24%)\n",
            "  adding: content/Adversarial-Representation-Learning-for-Medical-Imaging/MedSinGAN/TrainedModels/normal/2022_01_14_11_38_48_harmonization_niter_1000_lr_scale_0.1_nstages_6_BN_act_lrelu_0.3/harmonized_samples_stage_0/6_harmonized_sample.jpg (deflated 22%)\n",
            "  adding: content/Adversarial-Representation-Learning-for-Medical-Imaging/MedSinGAN/TrainedModels/normal/2022_01_14_11_38_48_harmonization_niter_1000_lr_scale_0.1_nstages_6_BN_act_lrelu_0.3/harmonized_samples_stage_0/3_harmonized_sample.jpg (deflated 23%)\n",
            "  adding: content/Adversarial-Representation-Learning-for-Medical-Imaging/MedSinGAN/TrainedModels/normal/2022_01_14_11_38_48_harmonization_niter_1000_lr_scale_0.1_nstages_6_BN_act_lrelu_0.3/harmonized_samples_stage_0/15_naive_sample.jpg (deflated 23%)\n",
            "  adding: content/Adversarial-Representation-Learning-for-Medical-Imaging/MedSinGAN/TrainedModels/normal/2022_01_14_11_38_48_harmonization_niter_1000_lr_scale_0.1_nstages_6_BN_act_lrelu_0.3/harmonized_samples_stage_0/1_harmonized_sample.jpg (deflated 24%)\n",
            "  adding: content/Adversarial-Representation-Learning-for-Medical-Imaging/MedSinGAN/TrainedModels/normal/2022_01_14_11_38_48_harmonization_niter_1000_lr_scale_0.1_nstages_6_BN_act_lrelu_0.3/harmonized_samples_stage_0/13_naive_sample.jpg (deflated 25%)\n",
            "  adding: content/Adversarial-Representation-Learning-for-Medical-Imaging/MedSinGAN/TrainedModels/normal/2022_01_14_11_38_48_harmonization_niter_1000_lr_scale_0.1_nstages_6_BN_act_lrelu_0.3/harmonized_samples_stage_0/9_naive_sample.jpg (deflated 25%)\n"
          ]
        },
        {
          "output_type": "display_data",
          "data": {
            "application/javascript": [
              "\n",
              "    async function download(id, filename, size) {\n",
              "      if (!google.colab.kernel.accessAllowed) {\n",
              "        return;\n",
              "      }\n",
              "      const div = document.createElement('div');\n",
              "      const label = document.createElement('label');\n",
              "      label.textContent = `Downloading \"${filename}\": `;\n",
              "      div.appendChild(label);\n",
              "      const progress = document.createElement('progress');\n",
              "      progress.max = size;\n",
              "      div.appendChild(progress);\n",
              "      document.body.appendChild(div);\n",
              "\n",
              "      const buffers = [];\n",
              "      let downloaded = 0;\n",
              "\n",
              "      const channel = await google.colab.kernel.comms.open(id);\n",
              "      // Send a message to notify the kernel that we're ready.\n",
              "      channel.send({})\n",
              "\n",
              "      for await (const message of channel.messages) {\n",
              "        // Send a message to notify the kernel that we're ready.\n",
              "        channel.send({})\n",
              "        if (message.buffers) {\n",
              "          for (const buffer of message.buffers) {\n",
              "            buffers.push(buffer);\n",
              "            downloaded += buffer.byteLength;\n",
              "            progress.value = downloaded;\n",
              "          }\n",
              "        }\n",
              "      }\n",
              "      const blob = new Blob(buffers, {type: 'application/binary'});\n",
              "      const a = document.createElement('a');\n",
              "      a.href = window.URL.createObjectURL(blob);\n",
              "      a.download = filename;\n",
              "      div.appendChild(a);\n",
              "      a.click();\n",
              "      div.remove();\n",
              "    }\n",
              "  "
            ],
            "text/plain": [
              "<IPython.core.display.Javascript object>"
            ]
          },
          "metadata": {}
        },
        {
          "output_type": "display_data",
          "data": {
            "application/javascript": [
              "download(\"download_977be8e2-2af2-4381-9907-7469eb95cc06\", \"best_harmonisation_model.zip\", 61929310)"
            ],
            "text/plain": [
              "<IPython.core.display.Javascript object>"
            ]
          },
          "metadata": {}
        }
      ],
      "source": [
        "# Zip the best model analysed based on the mlruns\n",
        "!zip -r /content/best_harmonisation_model.zip /content/Adversarial-Representation-Learning-for-Medical-Imaging/MedSinGAN/TrainedModels\n",
        "files.download(\"/content/best_harmonisation_model.zip\")"
      ]
    },
    {
      "cell_type": "markdown",
      "metadata": {
        "id": "0fEUmlAKc7zn"
      },
      "source": [
        "## Utils"
      ]
    },
    {
      "cell_type": "code",
      "execution_count": null,
      "metadata": {
        "id": "tip34yzOc8Yo"
      },
      "outputs": [],
      "source": [
        "! rm -r /content/Adversarial-Representation-Learning-for-Medical-Imaging/MedSinGAN/mlruns"
      ]
    },
    {
      "cell_type": "code",
      "execution_count": null,
      "metadata": {
        "id": "RydIJkA9dDav"
      },
      "outputs": [],
      "source": [
        "! rm -r /content/Adversarial-Representation-Learning-for-Medical-Imaging/MedSinGAN/TrainedModels"
      ]
    },
    {
      "cell_type": "code",
      "execution_count": null,
      "metadata": {
        "id": "-YrF4bB_dFAz"
      },
      "outputs": [],
      "source": [
        ""
      ]
    }
  ],
  "metadata": {
    "colab": {
      "collapsed_sections": [
        "9X4-kKK_1yPx",
        "dHsKlSIk1_-6",
        "6Ds0KPgz6uI-",
        "0fEUmlAKc7zn"
      ],
      "name": "Harmonisation Baseline Model - ConSinGAN",
      "provenance": []
    },
    "kernelspec": {
      "display_name": "Python 3",
      "name": "python3"
    },
    "language_info": {
      "name": "python"
    },
    "accelerator": "GPU"
  },
  "nbformat": 4,
  "nbformat_minor": 0
}