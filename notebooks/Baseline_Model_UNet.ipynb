{
 "cells": [
  {
   "cell_type": "markdown",
   "metadata": {
    "id": "BM-VsA1dNNiB"
   },
   "source": [
    "## Basic Segmentation Training"
   ]
  },
  {
   "cell_type": "code",
   "execution_count": null,
   "metadata": {
    "colab": {
     "base_uri": "https://localhost:8080/"
    },
    "id": "CiThmFk6wIqW",
    "outputId": "5edb526d-257b-4232-e45a-cfc74093f869"
   },
   "outputs": [
    {
     "name": "stdout",
     "output_type": "stream",
     "text": [
      "/content/Adversarial-Representation-Learning-for-Medical-Imaging/MedSegmentation\n"
     ]
    }
   ],
   "source": [
    "# Change to proper directory\n",
    "%cd ../MedSegmentation/"
   ]
  },
  {
   "cell_type": "code",
   "execution_count": null,
   "metadata": {
    "colab": {
     "base_uri": "https://localhost:8080/"
    },
    "id": "WBkM9fxjVXGf",
    "outputId": "6eee3762-7ad5-416a-8fa6-ce12b7e1187c",
    "tags": []
   },
   "outputs": [],
   "source": [
    "# Train basic UNet\n",
    "!python train_Unet.py --train_folder ../pipeline_data_tcia/malign --val_folder ../pipeline_data_tcia/benign --n_epochs 200 --batch_size 1"
   ]
  },
  {
   "cell_type": "markdown",
   "metadata": {},
   "source": [
    "## Combination Segmentation Testing"
   ]
  },
  {
   "cell_type": "code",
   "execution_count": null,
   "metadata": {
    "id": "vqJLTQ-vR6to"
   },
   "outputs": [],
   "source": [
    "# Train different combinations of the UNet\n",
    "import os\n",
    "\n",
    "iters = [1000, 2000, 4000, 6000, 8000]\n",
    "lr = [0.01, 0.05]\n",
    "batch = [1,2,3]\n",
    "\n",
    "for i in iters:\n",
    "  for l in lr:\n",
    "    for b in batch:\n",
    "      os.system(\"python train_Unet.py --train_folder drive/MyDrive/Thesis/validationData --val_folder drive/MyDrive/Thesis/validationData --model_checkpoints model_checkpoints_niter_{0}_lr_{1}_batch_{2} --optimizer_checkpoints model_optimizers_niter_{3}_lr_{4}_batch_{5} --experiment_name Experiment_niter_{9}_lr_{10}_batch_{11} --n_epochs {12} --l_rate {13} --batch_size {14}\".format(i,l,b,i,l,b,i,l,b,i,l,b))"
   ]
  },
  {
   "cell_type": "markdown",
   "metadata": {
    "id": "L5xz7c_M26pC",
    "jp-MarkdownHeadingCollapsed": true,
    "tags": []
   },
   "source": [
    "## Segment Images With Saved Model"
   ]
  },
  {
   "cell_type": "code",
   "execution_count": null,
   "metadata": {
    "colab": {
     "base_uri": "https://localhost:8080/"
    },
    "id": "oj4uAF46lqtZ",
    "outputId": "5d96bccd-93d8-4d09-d3ef-d3319bf3983b"
   },
   "outputs": [],
   "source": [
    "# Segment the images of a specific folder\n",
    "! python api.py --model_dir model_checkpoints --test_images ../pipeline_data_tcia/malign --no_eval"
   ]
  },
  {
   "cell_type": "markdown",
   "metadata": {
    "id": "USI9wG8G0RnH",
    "jp-MarkdownHeadingCollapsed": true,
    "tags": []
   },
   "source": [
    "## Save Model"
   ]
  },
  {
   "cell_type": "code",
   "execution_count": null,
   "metadata": {
    "id": "3gbQHAT3K_63"
   },
   "outputs": [],
   "source": [
    "# Zip everything from this model\n",
    "!zip -r current_model.zip ."
   ]
  },
  {
   "cell_type": "markdown",
   "metadata": {
    "id": "gOUMtetBhAph",
    "jp-MarkdownHeadingCollapsed": true,
    "tags": []
   },
   "source": [
    "## Delete Current Model"
   ]
  },
  {
   "cell_type": "code",
   "execution_count": null,
   "metadata": {
    "id": "vUtiqp0BpYZL"
   },
   "outputs": [],
   "source": [
    "# Delete everything that the model produces\n",
    "! rm -r runs results mlruns model_checkpoints model_optimizers"
   ]
  }
 ],
 "metadata": {
  "colab": {
   "collapsed_sections": [
    "gOUMtetBhAph",
    "0PZ7DpaG-Xa3"
   ],
   "name": "Baseline Model - UNet",
   "provenance": []
  },
  "kernelspec": {
   "display_name": "Python 3 (ipykernel)",
   "language": "python",
   "name": "python3"
  },
  "language_info": {
   "codemirror_mode": {
    "name": "ipython",
    "version": 3
   },
   "file_extension": ".py",
   "mimetype": "text/x-python",
   "name": "python",
   "nbconvert_exporter": "python",
   "pygments_lexer": "ipython3",
   "version": "3.8.12"
  }
 },
 "nbformat": 4,
 "nbformat_minor": 4
}
