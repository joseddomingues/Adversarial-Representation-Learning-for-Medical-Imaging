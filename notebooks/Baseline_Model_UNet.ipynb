{
  "nbformat": 4,
  "nbformat_minor": 0,
  "metadata": {
    "colab": {
      "name": "Baseline Model - UNet",
      "provenance": [],
      "collapsed_sections": [
        "gOUMtetBhAph",
        "0PZ7DpaG-Xa3"
      ]
    },
    "kernelspec": {
      "name": "python3",
      "display_name": "Python 3"
    },
    "language_info": {
      "name": "python"
    }
  },
  "cells": [
    {
      "cell_type": "markdown",
      "metadata": {
        "id": "0q0Wi35MkR9g"
      },
      "source": [
        "## Git Clone"
      ]
    },
    {
      "cell_type": "code",
      "metadata": {
        "id": "L5QQKxc5s9rb",
        "colab": {
          "base_uri": "https://localhost:8080/"
        },
        "outputId": "08ef33bd-42c4-4a8a-8165-ef326369ef54"
      },
      "source": [
        "# Clone the repo\n",
        "!git clone https://<TOKEN>@github.com/java-master007/Adversarial-Representation-Learning-for-Medical-Imaging.git"
      ],
      "execution_count": null,
      "outputs": [
        {
          "output_type": "stream",
          "name": "stdout",
          "text": [
            "Cloning into 'Adversarial-Representation-Learning-for-Medical-Imaging'...\n",
            "remote: Enumerating objects: 542, done.\u001b[K\n",
            "remote: Counting objects: 100% (542/542), done.\u001b[K\n",
            "remote: Compressing objects: 100% (387/387), done.\u001b[K\n",
            "remote: Total 542 (delta 310), reused 370 (delta 142), pack-reused 0\u001b[K\n",
            "Receiving objects: 100% (542/542), 52.49 MiB | 26.53 MiB/s, done.\n",
            "Resolving deltas: 100% (310/310), done.\n"
          ]
        }
      ]
    },
    {
      "cell_type": "code",
      "metadata": {
        "colab": {
          "base_uri": "https://localhost:8080/"
        },
        "id": "9X9ZmUipvbyw",
        "outputId": "48323d12-5710-46f9-d0af-eee45aa1c126"
      },
      "source": [
        "# Change to correct folder\n",
        "%cd Adversarial-Representation-Learning-for-Medical-Imaging/"
      ],
      "execution_count": null,
      "outputs": [
        {
          "output_type": "stream",
          "name": "stdout",
          "text": [
            "/content/Adversarial-Representation-Learning-for-Medical-Imaging\n"
          ]
        }
      ]
    },
    {
      "cell_type": "code",
      "source": [
        "! git checkout improvement/segmentation_input"
      ],
      "metadata": {
        "id": "d9KloqDATzyK",
        "colab": {
          "base_uri": "https://localhost:8080/"
        },
        "outputId": "c10fcb61-7d75-4954-a2c9-4526e3a00ba0"
      },
      "execution_count": null,
      "outputs": [
        {
          "output_type": "stream",
          "name": "stdout",
          "text": [
            "Already on 'improvement/segmentation_input'\n",
            "Your branch is up to date with 'origin/improvement/segmentation_input'.\n"
          ]
        }
      ]
    },
    {
      "cell_type": "code",
      "metadata": {
        "id": "65yfRG9LyBBZ"
      },
      "source": [
        "# Install requirements\n",
        "# Might need to restart on colab\n",
        "! pip install -r requirements.txt"
      ],
      "execution_count": null,
      "outputs": []
    },
    {
      "cell_type": "markdown",
      "metadata": {
        "id": "BM-VsA1dNNiB"
      },
      "source": [
        "## Segmentation Training"
      ]
    },
    {
      "cell_type": "code",
      "metadata": {
        "id": "CiThmFk6wIqW",
        "colab": {
          "base_uri": "https://localhost:8080/"
        },
        "outputId": "5edb526d-257b-4232-e45a-cfc74093f869"
      },
      "source": [
        "%cd MedSegmentation/"
      ],
      "execution_count": null,
      "outputs": [
        {
          "output_type": "stream",
          "name": "stdout",
          "text": [
            "/content/Adversarial-Representation-Learning-for-Medical-Imaging/MedSegmentation\n"
          ]
        }
      ]
    },
    {
      "cell_type": "code",
      "source": [
        "!python train_Unet.py --train_folder /content/Adversarial-Representation-Learning-for-Medical-Imaging/data --val_folder /content/Adversarial-Representation-Learning-for-Medical-Imaging/data --n_epochs 200 --batch_size 1"
      ],
      "metadata": {
        "id": "WBkM9fxjVXGf",
        "colab": {
          "base_uri": "https://localhost:8080/"
        },
        "outputId": "6eee3762-7ad5-416a-8fa6-ce12b7e1187c"
      },
      "execution_count": null,
      "outputs": [
        {
          "output_type": "stream",
          "name": "stdout",
          "text": [
            "CUDA is available. Training on GPU\n",
            "Training Started!\n",
            "\n",
            "EPOCH 1/200\n",
            "\n",
            "2022-01-28 16:20:28.791323: W tensorflow/core/common_runtime/gpu/gpu_bfc_allocator.cc:39] Overriding allow_growth setting because the TF_FORCE_GPU_ALLOW_GROWTH environment variable is set. Original config value was 0.\n",
            "Iteration: 0. Loss: 0.907404899597168. Validation Loss: 0.9026560187339783. Time(mins) 0.055655686060587566\n",
            "\n",
            "EPOCH 2/200\n",
            "\n",
            "Iteration: 1. Loss: 0.8992051084836324. Validation Loss: 0.8901054660479227. Time(mins) 0.05749534368515015\n",
            "\n",
            "EPOCH 3/200\n",
            "\n",
            "Iteration: 2. Loss: 0.8818599780400594. Validation Loss: 0.8550548752148946. Time(mins) 0.05930732091267903\n",
            "\n",
            "EPOCH 4/200\n",
            "\n",
            "Iteration: 3. Loss: 0.8403882185618082. Validation Loss: 0.7989222804705302. Time(mins) 0.06126513878504435\n",
            "\n",
            "EPOCH 5/200\n",
            "\n",
            "Iteration: 4. Loss: 0.7782095670700073. Validation Loss: 0.7438917756080627. Time(mins) 0.06313149531682333\n",
            "\n",
            "EPOCH 6/200\n",
            "\n",
            "Iteration: 5. Loss: 0.7211084564526876. Validation Loss: 0.6395266652107239. Time(mins) 0.0651473045349121\n",
            "\n",
            "EPOCH 7/200\n",
            "\n",
            "Iteration: 6. Loss: 0.6339425245920817. Validation Loss: 0.640685518582662. Time(mins) 0.06703654925028484\n",
            "\n",
            "EPOCH 8/200\n",
            "\n",
            "Iteration: 7. Loss: 0.5854391853014628. Validation Loss: 0.540647010008494. Time(mins) 0.06910014549891154\n",
            "\n",
            "EPOCH 9/200\n",
            "\n",
            "Iteration: 8. Loss: 0.5347056786219279. Validation Loss: 0.5089302062988281. Time(mins) 0.07109303474426269\n",
            "\n",
            "EPOCH 10/200\n",
            "\n",
            "Iteration: 9. Loss: 0.5157484908898672. Validation Loss: 0.5530285437901815. Time(mins) 0.07303005854288737\n",
            "\n",
            "EPOCH 11/200\n",
            "\n",
            "Iteration: 10. Loss: 0.5151985287666321. Validation Loss: 0.5039812326431274. Time(mins) 0.0748963197072347\n",
            "\n",
            "EPOCH 12/200\n",
            "\n",
            "Iteration: 11. Loss: 0.47349482774734497. Validation Loss: 0.45378758509953815. Time(mins) 0.07681247790654501\n",
            "\n",
            "EPOCH 13/200\n",
            "\n",
            "Iteration: 12. Loss: 0.4649384915828705. Validation Loss: 0.5280827283859253. Time(mins) 0.0786974827448527\n",
            "\n",
            "EPOCH 14/200\n",
            "\n",
            "Iteration: 13. Loss: 0.4871188203493754. Validation Loss: 0.5130459467569987. Time(mins) 0.08051992257436116\n",
            "\n",
            "EPOCH 15/200\n",
            "\n",
            "Iteration: 14. Loss: 0.5083043873310089. Validation Loss: 0.5567212899525961. Time(mins) 0.08236197630564372\n",
            "\n",
            "EPOCH 16/200\n",
            "\n",
            "Iteration: 15. Loss: 0.47920164465904236. Validation Loss: 0.5291681885719299. Time(mins) 0.08418951431910197\n",
            "\n",
            "EPOCH 17/200\n",
            "\n",
            "Iteration: 16. Loss: 0.46304839849472046. Validation Loss: 0.4714337984720866. Time(mins) 0.08607231775919597\n",
            "\n",
            "EPOCH 18/200\n",
            "\n",
            "Iteration: 17. Loss: 0.45366300145785016. Validation Loss: 0.4577191074689229. Time(mins) 0.08794083992640177\n",
            "\n",
            "EPOCH 19/200\n",
            "\n",
            "Iteration: 18. Loss: 0.4474758605162303. Validation Loss: 0.40124332904815674. Time(mins) 0.08990797599156698\n",
            "\n",
            "EPOCH 20/200\n",
            "\n",
            "Iteration: 19. Loss: 0.4250032603740692. Validation Loss: 0.32898754874865216. Time(mins) 0.09179003238677978\n",
            "\n",
            "EPOCH 21/200\n",
            "\n",
            "Iteration: 20. Loss: 0.34130437175432843. Validation Loss: 0.35756973425547284. Time(mins) 0.09372531572977702\n",
            "\n",
            "EPOCH 22/200\n",
            "\n",
            "Iteration: 21. Loss: 0.35558759172757465. Validation Loss: 0.34754419326782227. Time(mins) 0.09557098944981893\n",
            "\n",
            "EPOCH 23/200\n",
            "\n",
            "Iteration: 22. Loss: 0.3485729495684306. Validation Loss: 0.33214204510052997. Time(mins) 0.09745144844055176\n",
            "\n",
            "EPOCH 24/200\n",
            "\n",
            "Iteration: 23. Loss: 0.32012765606244403. Validation Loss: 0.2857469817002614. Time(mins) 0.09943338632583618\n",
            "\n",
            "EPOCH 25/200\n",
            "\n",
            "Iteration: 24. Loss: 0.2929001947244008. Validation Loss: 0.2946954170862834. Time(mins) 0.10126373370488485\n",
            "\n",
            "EPOCH 26/200\n",
            "\n",
            "Iteration: 25. Loss: 0.2681412100791931. Validation Loss: 0.27334527174631756. Time(mins) 0.10314683516820272\n",
            "\n",
            "EPOCH 27/200\n",
            "\n",
            "Iteration: 26. Loss: 0.27786633869012195. Validation Loss: 0.2608648290236791. Time(mins) 0.10498810211817423\n",
            "\n",
            "EPOCH 28/200\n",
            "\n",
            "Iteration: 27. Loss: 0.2427753210067749. Validation Loss: 0.2712143063545227. Time(mins) 0.1070476214090983\n",
            "\n",
            "EPOCH 29/200\n",
            "\n",
            "Iteration: 28. Loss: 0.2575993885596593. Validation Loss: 0.25444526473681134. Time(mins) 0.10893394152323405\n",
            "\n",
            "EPOCH 30/200\n",
            "\n",
            "Iteration: 29. Loss: 0.26385533809661865. Validation Loss: 0.25374919176101685. Time(mins) 0.11088049411773682\n",
            "\n",
            "EPOCH 31/200\n",
            "\n",
            "Iteration: 30. Loss: 0.2402383734782537. Validation Loss: 0.27111855149269104. Time(mins) 0.11273337602615356\n",
            "\n",
            "EPOCH 32/200\n",
            "\n",
            "Iteration: 31. Loss: 0.25365104774634045. Validation Loss: 0.24761846661567688. Time(mins) 0.11471223036448161\n",
            "\n",
            "EPOCH 33/200\n",
            "\n",
            "Iteration: 32. Loss: 0.25116559863090515. Validation Loss: 0.2375342051188151. Time(mins) 0.11659078598022461\n",
            "\n",
            "EPOCH 34/200\n",
            "\n",
            "Iteration: 33. Loss: 0.2327569176753362. Validation Loss: 0.22322448591391245. Time(mins) 0.11857219537099202\n",
            "\n",
            "EPOCH 35/200\n",
            "\n",
            "Iteration: 34. Loss: 0.22056077420711517. Validation Loss: 0.23018508156140646. Time(mins) 0.12043912808100382\n",
            "\n",
            "EPOCH 36/200\n",
            "\n",
            "Iteration: 35. Loss: 0.21903042991956076. Validation Loss: 0.20445396999518076. Time(mins) 0.12246062755584716\n",
            "\n",
            "EPOCH 37/200\n",
            "\n",
            "Iteration: 36. Loss: 0.21066253383954367. Validation Loss: 0.23871265848477682. Time(mins) 0.12440145015716553\n",
            "\n",
            "EPOCH 38/200\n",
            "\n",
            "Iteration: 37. Loss: 0.2526041070620219. Validation Loss: 0.24852480491002402. Time(mins) 0.12624191840489704\n",
            "\n",
            "EPOCH 39/200\n",
            "\n",
            "Iteration: 38. Loss: 0.2660757104555766. Validation Loss: 0.49206437667210895. Time(mins) 0.1281493862469991\n",
            "\n",
            "EPOCH 40/200\n",
            "\n",
            "Iteration: 39. Loss: 0.3561484217643738. Validation Loss: 0.26082518696784973. Time(mins) 0.12996354103088378\n",
            "\n",
            "EPOCH 41/200\n",
            "\n",
            "Iteration: 40. Loss: 0.27143631378809613. Validation Loss: 0.2511293888092041. Time(mins) 0.13181394338607788\n",
            "\n",
            "EPOCH 42/200\n",
            "\n",
            "Iteration: 41. Loss: 0.3048552970091502. Validation Loss: 0.270356019337972. Time(mins) 0.13365158637364705\n",
            "\n",
            "EPOCH 43/200\n",
            "\n",
            "Iteration: 42. Loss: 0.24524069825808206. Validation Loss: 0.2942380706469218. Time(mins) 0.13548359473546345\n",
            "\n",
            "EPOCH 44/200\n",
            "\n",
            "Iteration: 43. Loss: 0.25851667920748395. Validation Loss: 0.28582169612248737. Time(mins) 0.1372886300086975\n",
            "\n",
            "EPOCH 45/200\n",
            "\n",
            "Iteration: 44. Loss: 0.2836803396542867. Validation Loss: 0.2529108226299286. Time(mins) 0.1391613483428955\n",
            "\n",
            "EPOCH 46/200\n",
            "\n",
            "Iteration: 45. Loss: 0.26415706674257916. Validation Loss: 0.21923062205314636. Time(mins) 0.14110291004180908\n",
            "\n",
            "EPOCH 47/200\n",
            "\n",
            "Iteration: 46. Loss: 0.28512277205785114. Validation Loss: 0.22083763281504312. Time(mins) 0.1429694612820943\n",
            "\n",
            "EPOCH 48/200\n",
            "\n",
            "Iteration: 47. Loss: 0.23684813578923544. Validation Loss: 0.21069700519243875. Time(mins) 0.14487246672312418\n",
            "\n",
            "EPOCH 49/200\n",
            "\n",
            "Iteration: 48. Loss: 0.22831977407137552. Validation Loss: 0.20262812077999115. Time(mins) 0.1467964728673299\n",
            "\n",
            "EPOCH 50/200\n",
            "\n",
            "Iteration: 49. Loss: 0.229644904534022. Validation Loss: 0.1927647590637207. Time(mins) 0.1486456553141276\n",
            "\n",
            "EPOCH 51/200\n",
            "\n",
            "Iteration: 50. Loss: 0.20628861089547476. Validation Loss: 0.1959747870763143. Time(mins) 0.15053908824920653\n",
            "\n",
            "EPOCH 52/200\n",
            "\n",
            "Iteration: 51. Loss: 0.2048689971367518. Validation Loss: 0.19845708211263022. Time(mins) 0.15242559909820558\n",
            "\n",
            "EPOCH 53/200\n",
            "\n",
            "Iteration: 52. Loss: 0.19650365908940634. Validation Loss: 0.1973208487033844. Time(mins) 0.1543471614519755\n",
            "\n",
            "EPOCH 54/200\n",
            "\n",
            "Iteration: 53. Loss: 0.1931519756714503. Validation Loss: 0.19117664297421774. Time(mins) 0.15624706347783407\n",
            "\n",
            "EPOCH 55/200\n",
            "\n",
            "Iteration: 54. Loss: 0.1971452832221985. Validation Loss: 0.19521967569986978. Time(mins) 0.1582553744316101\n",
            "\n",
            "EPOCH 56/200\n",
            "\n",
            "Iteration: 55. Loss: 0.19701760510603586. Validation Loss: 0.1918757955233256. Time(mins) 0.1600915551185608\n",
            "\n",
            "EPOCH 57/200\n",
            "\n",
            "Iteration: 56. Loss: 0.1889680176973343. Validation Loss: 0.18669016162554422. Time(mins) 0.16200836896896362\n",
            "\n",
            "EPOCH 58/200\n",
            "\n",
            "Iteration: 57. Loss: 0.19761298100153604. Validation Loss: 0.1993466317653656. Time(mins) 0.16384406089782716\n",
            "\n",
            "EPOCH 59/200\n",
            "\n",
            "Iteration: 58. Loss: 0.18884917596975961. Validation Loss: 0.2224057118097941. Time(mins) 0.16572166283925374\n",
            "\n",
            "EPOCH 60/200\n",
            "\n",
            "Iteration: 59. Loss: 0.22457054754098257. Validation Loss: 0.21200155218442282. Time(mins) 0.16757037242253622\n",
            "\n",
            "EPOCH 61/200\n",
            "\n",
            "Iteration: 60. Loss: 0.20097267627716064. Validation Loss: 0.18369919061660767. Time(mins) 0.16939854224522907\n",
            "\n",
            "EPOCH 62/200\n",
            "\n",
            "Iteration: 61. Loss: 0.18986249963442484. Validation Loss: 0.17929232120513916. Time(mins) 0.17125855684280394\n",
            "\n",
            "EPOCH 63/200\n",
            "\n",
            "Iteration: 62. Loss: 0.19230096538861594. Validation Loss: 0.21704837679862976. Time(mins) 0.17324874798456827\n",
            "\n",
            "EPOCH 64/200\n",
            "\n",
            "Iteration: 63. Loss: 0.21388081709543863. Validation Loss: 0.21710101763407388. Time(mins) 0.17531145413716634\n",
            "\n",
            "EPOCH 65/200\n",
            "\n",
            "Iteration: 64. Loss: 0.19211630523204803. Validation Loss: 0.19916308919588724. Time(mins) 0.17719579935073854\n",
            "\n",
            "EPOCH 66/200\n",
            "\n",
            "Iteration: 65. Loss: 0.18863273660341898. Validation Loss: 0.18766281008720398. Time(mins) 0.17906626065572104\n",
            "\n",
            "EPOCH 67/200\n",
            "\n",
            "Iteration: 66. Loss: 0.1890328973531723. Validation Loss: 0.17657882471879324. Time(mins) 0.18092743555704752\n",
            "\n",
            "EPOCH 68/200\n",
            "\n",
            "Iteration: 67. Loss: 0.18622306485970816. Validation Loss: 0.17684154709180197. Time(mins) 0.1827958067258199\n",
            "\n",
            "EPOCH 69/200\n",
            "\n",
            "Iteration: 68. Loss: 0.1832750936349233. Validation Loss: 0.17593597372372946. Time(mins) 0.18470757007598876\n",
            "\n",
            "EPOCH 70/200\n",
            "\n",
            "Iteration: 69. Loss: 0.17886556684970856. Validation Loss: 0.1880092223485311. Time(mins) 0.18655418157577514\n",
            "\n",
            "EPOCH 71/200\n",
            "\n",
            "Iteration: 70. Loss: 0.1830753137667974. Validation Loss: 0.1779213547706604. Time(mins) 0.18850128650665282\n",
            "\n",
            "EPOCH 72/200\n",
            "\n",
            "Iteration: 71. Loss: 0.175222376982371. Validation Loss: 0.17584306498368582. Time(mins) 0.1903321623802185\n",
            "\n",
            "EPOCH 73/200\n",
            "\n",
            "Iteration: 72. Loss: 0.16799246271451315. Validation Loss: 0.1702253222465515. Time(mins) 0.19228119055430096\n",
            "\n",
            "EPOCH 74/200\n",
            "\n",
            "Iteration: 73. Loss: 0.18558867772420248. Validation Loss: 0.1790278653303782. Time(mins) 0.19416157007217408\n",
            "\n",
            "EPOCH 75/200\n",
            "\n",
            "Iteration: 74. Loss: 0.19364948570728302. Validation Loss: 0.17618289589881897. Time(mins) 0.19608856836954752\n",
            "\n",
            "EPOCH 76/200\n",
            "\n",
            "Iteration: 75. Loss: 0.1793893277645111. Validation Loss: 0.18366011480490366. Time(mins) 0.1980167508125305\n",
            "\n",
            "EPOCH 77/200\n",
            "\n",
            "Iteration: 76. Loss: 0.18455625573794046. Validation Loss: 0.18803943693637848. Time(mins) 0.19994241396586102\n",
            "\n",
            "EPOCH 78/200\n",
            "\n",
            "Iteration: 77. Loss: 0.18128774066766104. Validation Loss: 0.17085886498292288. Time(mins) 0.2018381992975871\n",
            "\n",
            "EPOCH 79/200\n",
            "\n",
            "Iteration: 78. Loss: 0.17529735962549844. Validation Loss: 0.17019998033841452. Time(mins) 0.20368559360504152\n",
            "\n",
            "EPOCH 80/200\n",
            "\n",
            "Iteration: 79. Loss: 0.18688427408536276. Validation Loss: 0.18099417289098105. Time(mins) 0.20564911365509034\n",
            "\n",
            "EPOCH 81/200\n",
            "\n",
            "Iteration: 80. Loss: 0.17190825939178467. Validation Loss: 0.1904144138097763. Time(mins) 0.20751419067382812\n",
            "\n",
            "EPOCH 82/200\n",
            "\n",
            "Iteration: 81. Loss: 0.2135025163491567. Validation Loss: 0.17621898651123047. Time(mins) 0.20949836572011313\n",
            "\n",
            "EPOCH 83/200\n",
            "\n",
            "Iteration: 82. Loss: 0.21278283496697745. Validation Loss: 0.23061206936836243. Time(mins) 0.21137629747390746\n",
            "\n",
            "EPOCH 84/200\n",
            "\n",
            "Iteration: 83. Loss: 0.20158313711484274. Validation Loss: 0.2740207513173421. Time(mins) 0.21322006781895955\n",
            "\n",
            "EPOCH 85/200\n",
            "\n",
            "Iteration: 84. Loss: 0.2834622512261073. Validation Loss: 0.22976959745089212. Time(mins) 0.21518797874450685\n",
            "\n",
            "EPOCH 86/200\n",
            "\n",
            "Iteration: 85. Loss: 0.27429497241973877. Validation Loss: 0.1913681278626124. Time(mins) 0.2170682986577352\n",
            "\n",
            "EPOCH 87/200\n",
            "\n",
            "Iteration: 86. Loss: 0.24242907265822092. Validation Loss: 0.17460981011390686. Time(mins) 0.2189508358637492\n",
            "\n",
            "EPOCH 88/200\n",
            "\n",
            "Iteration: 87. Loss: 0.22718961040178934. Validation Loss: 0.30499152342478436. Time(mins) 0.22081449031829833\n",
            "\n",
            "EPOCH 89/200\n",
            "\n",
            "Iteration: 88. Loss: 0.24027826388676962. Validation Loss: 0.3242087165514628. Time(mins) 0.2228543003400167\n",
            "\n",
            "EPOCH 90/200\n",
            "\n",
            "Iteration: 89. Loss: 0.25135985016822815. Validation Loss: 0.24386713902155557. Time(mins) 0.22474684715270996\n",
            "\n",
            "EPOCH 91/200\n",
            "\n",
            "Iteration: 90. Loss: 0.20695509513219199. Validation Loss: 0.23730196555455527. Time(mins) 0.22683186928431193\n",
            "\n",
            "EPOCH 92/200\n",
            "\n",
            "Iteration: 91. Loss: 0.21136383215586343. Validation Loss: 0.21892470121383667. Time(mins) 0.2287083625793457\n",
            "\n",
            "EPOCH 93/200\n",
            "\n",
            "Iteration: 92. Loss: 0.18845482170581818. Validation Loss: 0.27488463123639423. Time(mins) 0.23057058652242024\n",
            "\n",
            "EPOCH 94/200\n",
            "\n",
            "Iteration: 93. Loss: 0.26044701039791107. Validation Loss: 0.2609572509924571. Time(mins) 0.23245278199513753\n",
            "\n",
            "EPOCH 95/200\n",
            "\n",
            "Iteration: 94. Loss: 0.24569940567016602. Validation Loss: 0.16932546099027. Time(mins) 0.23429850737253824\n",
            "\n",
            "EPOCH 96/200\n",
            "\n",
            "Iteration: 95. Loss: 0.20361765722433725. Validation Loss: 0.20608724157015482. Time(mins) 0.23616765737533568\n",
            "\n",
            "EPOCH 97/200\n",
            "\n",
            "Iteration: 96. Loss: 0.2020825892686844. Validation Loss: 0.1656957467397054. Time(mins) 0.23798412084579468\n",
            "\n",
            "EPOCH 98/200\n",
            "\n",
            "Iteration: 97. Loss: 0.18658041954040527. Validation Loss: 0.17119000852108002. Time(mins) 0.24015145301818847\n",
            "\n",
            "EPOCH 99/200\n",
            "\n",
            "Iteration: 98. Loss: 0.185053159793218. Validation Loss: 0.16805533071359. Time(mins) 0.24195897976557415\n",
            "\n",
            "EPOCH 100/200\n",
            "\n",
            "Iteration: 99. Loss: 0.17760169506072998. Validation Loss: 0.16461226344108582. Time(mins) 0.2439407229423523\n",
            "\n",
            "EPOCH 101/200\n",
            "\n",
            "Iteration: 100. Loss: 0.17498216529687247. Validation Loss: 0.16854695975780487. Time(mins) 0.24598857561747234\n",
            "\n",
            "EPOCH 102/200\n",
            "\n",
            "Iteration: 101. Loss: 0.1748970995346705. Validation Loss: 0.17962843676408133. Time(mins) 0.24790234565734864\n",
            "\n",
            "EPOCH 103/200\n",
            "\n",
            "Iteration: 102. Loss: 0.17942648629347482. Validation Loss: 0.1595031519730886. Time(mins) 0.2497408866882324\n",
            "\n",
            "EPOCH 104/200\n",
            "\n",
            "Iteration: 103. Loss: 0.1588542660077413. Validation Loss: 0.16900286575158438. Time(mins) 0.2517421245574951\n",
            "\n",
            "EPOCH 105/200\n",
            "\n",
            "Iteration: 104. Loss: 0.1692235767841339. Validation Loss: 0.1666331042846044. Time(mins) 0.25362874269485475\n",
            "\n",
            "EPOCH 106/200\n",
            "\n",
            "Iteration: 105. Loss: 0.16691376268863678. Validation Loss: 0.17088932792345682. Time(mins) 0.25554309686024984\n",
            "\n",
            "EPOCH 107/200\n",
            "\n",
            "Iteration: 106. Loss: 0.16838303208351135. Validation Loss: 0.16206234196821848. Time(mins) 0.25745852788289386\n",
            "\n",
            "EPOCH 108/200\n",
            "\n",
            "Iteration: 107. Loss: 0.16332884629567465. Validation Loss: 0.16623914738496146. Time(mins) 0.26045089165369667\n",
            "\n",
            "EPOCH 109/200\n",
            "\n",
            "Iteration: 108. Loss: 0.16382639110088348. Validation Loss: 0.16507244110107422. Time(mins) 0.263945472240448\n",
            "\n",
            "EPOCH 110/200\n",
            "\n",
            "Iteration: 109. Loss: 0.17073394358158112. Validation Loss: 0.1696186363697052. Time(mins) 0.2657735625902812\n",
            "\n",
            "EPOCH 111/200\n",
            "\n",
            "Iteration: 110. Loss: 0.16512149572372437. Validation Loss: 0.1612777809302012. Time(mins) 0.2676245133082072\n",
            "\n",
            "EPOCH 112/200\n",
            "\n",
            "Iteration: 111. Loss: 0.16072172919909158. Validation Loss: 0.1678240845600764. Time(mins) 0.26951655944188435\n",
            "\n",
            "EPOCH 113/200\n",
            "\n",
            "Iteration: 112. Loss: 0.16087915500005087. Validation Loss: 0.1634246160586675. Time(mins) 0.27134711345036827\n",
            "\n",
            "EPOCH 114/200\n",
            "\n",
            "Iteration: 113. Loss: 0.15843236446380615. Validation Loss: 0.1617115537325541. Time(mins) 0.27328258752822876\n",
            "\n",
            "EPOCH 115/200\n",
            "\n",
            "Iteration: 114. Loss: 0.1637948751449585. Validation Loss: 0.16433560848236084. Time(mins) 0.2751238306363424\n",
            "\n",
            "EPOCH 116/200\n",
            "\n",
            "Iteration: 115. Loss: 0.16350246965885162. Validation Loss: 0.16211020449797311. Time(mins) 0.2770607034365336\n",
            "\n",
            "EPOCH 117/200\n",
            "\n",
            "Iteration: 116. Loss: 0.15170805156230927. Validation Loss: 0.15926052133242288. Time(mins) 0.27905813852945965\n",
            "\n",
            "EPOCH 118/200\n",
            "\n",
            "Iteration: 117. Loss: 0.16988301277160645. Validation Loss: 0.16402445236841837. Time(mins) 0.2809303760528564\n",
            "\n",
            "EPOCH 119/200\n",
            "\n",
            "Iteration: 118. Loss: 0.1626112461090088. Validation Loss: 0.164306178689003. Time(mins) 0.28284992774327594\n",
            "\n",
            "EPOCH 120/200\n",
            "\n",
            "Iteration: 119. Loss: 0.16135596732298532. Validation Loss: 0.1549887458483378. Time(mins) 0.28472214539845786\n",
            "\n",
            "EPOCH 121/200\n",
            "\n",
            "Iteration: 120. Loss: 0.15798808634281158. Validation Loss: 0.1656958262125651. Time(mins) 0.2866071621576945\n",
            "\n",
            "EPOCH 122/200\n",
            "\n",
            "Iteration: 121. Loss: 0.16628185907999674. Validation Loss: 0.16879781087239584. Time(mins) 0.28851147095362345\n",
            "\n",
            "EPOCH 123/200\n",
            "\n",
            "Iteration: 122. Loss: 0.15946176648139954. Validation Loss: 0.15740645925203958. Time(mins) 0.29044833183288576\n",
            "\n",
            "EPOCH 124/200\n",
            "\n",
            "Iteration: 123. Loss: 0.16461777687072754. Validation Loss: 0.1729985475540161. Time(mins) 0.2923028310139974\n",
            "\n",
            "EPOCH 125/200\n",
            "\n",
            "Iteration: 124. Loss: 0.16697039703528085. Validation Loss: 0.16418423255284628. Time(mins) 0.2942529320716858\n",
            "\n",
            "EPOCH 126/200\n",
            "\n",
            "Iteration: 125. Loss: 0.1598072350025177. Validation Loss: 0.16241320967674255. Time(mins) 0.2961631814638774\n",
            "\n",
            "EPOCH 127/200\n",
            "\n",
            "Iteration: 126. Loss: 0.15620779494444528. Validation Loss: 0.15940802792708078. Time(mins) 0.2980076551437378\n",
            "\n",
            "EPOCH 128/200\n",
            "\n",
            "Iteration: 127. Loss: 0.1572461078564326. Validation Loss: 0.1579519361257553. Time(mins) 0.2998556176821391\n",
            "\n",
            "EPOCH 129/200\n",
            "\n",
            "Iteration: 128. Loss: 0.155521089831988. Validation Loss: 0.14908716082572937. Time(mins) 0.30171501636505127\n",
            "\n",
            "EPOCH 130/200\n",
            "\n",
            "Iteration: 129. Loss: 0.1524331271648407. Validation Loss: 0.1545375237862269. Time(mins) 0.30363651116689044\n",
            "\n",
            "EPOCH 131/200\n",
            "\n",
            "Iteration: 130. Loss: 0.15493861337502798. Validation Loss: 0.15418336788813272. Time(mins) 0.3056180477142334\n",
            "\n",
            "EPOCH 132/200\n",
            "\n",
            "Iteration: 131. Loss: 0.15541228652000427. Validation Loss: 0.15333986282348633. Time(mins) 0.3075079361597697\n",
            "\n",
            "EPOCH 133/200\n",
            "\n",
            "Iteration: 132. Loss: 0.1509238282839457. Validation Loss: 0.1539409557978312. Time(mins) 0.3093576510747274\n",
            "\n",
            "EPOCH 134/200\n",
            "\n",
            "Iteration: 133. Loss: 0.15466362734635672. Validation Loss: 0.16319780548413595. Time(mins) 0.3114960034688314\n",
            "\n",
            "EPOCH 135/200\n",
            "\n",
            "Iteration: 134. Loss: 0.15694594383239746. Validation Loss: 0.16418092946211496. Time(mins) 0.31342410246531166\n",
            "\n",
            "EPOCH 136/200\n",
            "\n",
            "Iteration: 135. Loss: 0.1624857783317566. Validation Loss: 0.15901872515678406. Time(mins) 0.31535001993179324\n",
            "\n",
            "EPOCH 137/200\n",
            "\n",
            "Iteration: 136. Loss: 0.16140987475713095. Validation Loss: 0.1640839378039042. Time(mins) 0.3172173817952474\n",
            "\n",
            "EPOCH 138/200\n",
            "\n",
            "Iteration: 137. Loss: 0.15377162396907806. Validation Loss: 0.14661607146263123. Time(mins) 0.3190715789794922\n",
            "\n",
            "EPOCH 139/200\n",
            "\n",
            "Iteration: 138. Loss: 0.15532594422499338. Validation Loss: 0.16024751961231232. Time(mins) 0.32100435098012287\n",
            "\n",
            "EPOCH 140/200\n",
            "\n",
            "Iteration: 139. Loss: 0.15577764809131622. Validation Loss: 0.1540857901175817. Time(mins) 0.32285643815994264\n",
            "\n",
            "EPOCH 141/200\n",
            "\n",
            "Iteration: 140. Loss: 0.15297706425189972. Validation Loss: 0.1556603709856669. Time(mins) 0.3247150858243307\n",
            "\n",
            "EPOCH 142/200\n",
            "\n",
            "Iteration: 141. Loss: 0.1507472594579061. Validation Loss: 0.1506859411795934. Time(mins) 0.3266088843345642\n",
            "\n",
            "EPOCH 143/200\n",
            "\n",
            "Iteration: 142. Loss: 0.14684860905011496. Validation Loss: 0.1482756237188975. Time(mins) 0.32855445543924966\n",
            "\n",
            "EPOCH 144/200\n",
            "\n",
            "Iteration: 143. Loss: 0.15010327100753784. Validation Loss: 0.16004178921381632. Time(mins) 0.3304165244102478\n",
            "\n",
            "EPOCH 145/200\n",
            "\n",
            "Iteration: 144. Loss: 0.15063117941220602. Validation Loss: 0.15306825439135233. Time(mins) 0.3323343634605408\n",
            "\n",
            "EPOCH 146/200\n",
            "\n",
            "Iteration: 145. Loss: 0.1670749137798945. Validation Loss: 0.1661386489868164. Time(mins) 0.3341862797737122\n",
            "\n",
            "EPOCH 147/200\n",
            "\n",
            "Iteration: 146. Loss: 0.17917650938034058. Validation Loss: 0.15657898783683777. Time(mins) 0.3360241929690043\n",
            "\n",
            "EPOCH 148/200\n",
            "\n",
            "Iteration: 147. Loss: 0.15513512988885245. Validation Loss: 0.164533202846845. Time(mins) 0.3379811008771261\n",
            "\n",
            "EPOCH 149/200\n",
            "\n",
            "Iteration: 148. Loss: 0.15962647398312887. Validation Loss: 0.15186846256256104. Time(mins) 0.33986281553904213\n",
            "\n",
            "EPOCH 150/200\n",
            "\n",
            "Iteration: 149. Loss: 0.15503918131192526. Validation Loss: 0.14512855807940164. Time(mins) 0.34179619153340657\n",
            "\n",
            "EPOCH 151/200\n",
            "\n",
            "Iteration: 150. Loss: 0.14918105800946554. Validation Loss: 0.15931005279223123. Time(mins) 0.34366925557454425\n",
            "\n",
            "EPOCH 152/200\n",
            "\n",
            "Iteration: 151. Loss: 0.15904359022776285. Validation Loss: 0.15540570517381033. Time(mins) 0.3456521272659302\n",
            "\n",
            "EPOCH 153/200\n",
            "\n",
            "Iteration: 152. Loss: 0.14183119436105093. Validation Loss: 0.15069331725438437. Time(mins) 0.34757622083028156\n",
            "\n",
            "EPOCH 154/200\n",
            "\n",
            "Iteration: 153. Loss: 0.15053657690684. Validation Loss: 0.14545459548632303. Time(mins) 0.34940147399902344\n",
            "\n",
            "EPOCH 155/200\n",
            "\n",
            "Iteration: 154. Loss: 0.14567962288856506. Validation Loss: 0.14794587592283884. Time(mins) 0.3512895027796427\n",
            "\n",
            "EPOCH 156/200\n",
            "\n",
            "Iteration: 155. Loss: 0.140249436100324. Validation Loss: 0.14275472859541574. Time(mins) 0.3531326373418172\n",
            "\n",
            "EPOCH 157/200\n",
            "\n",
            "Iteration: 156. Loss: 0.14457039535045624. Validation Loss: 0.14382178584734598. Time(mins) 0.3550518194834391\n",
            "\n",
            "EPOCH 158/200\n",
            "\n",
            "Iteration: 157. Loss: 0.1566232293844223. Validation Loss: 0.14462324976921082. Time(mins) 0.3570910612742106\n",
            "\n",
            "EPOCH 159/200\n",
            "\n",
            "Iteration: 158. Loss: 0.15203680594762167. Validation Loss: 0.14706053833166757. Time(mins) 0.3589730421702067\n",
            "\n",
            "EPOCH 160/200\n",
            "\n",
            "Iteration: 159. Loss: 0.15177824099858603. Validation Loss: 0.15282641351222992. Time(mins) 0.3608420968055725\n",
            "\n",
            "EPOCH 161/200\n",
            "\n",
            "Iteration: 160. Loss: 0.14956851800282797. Validation Loss: 0.1459799955288569. Time(mins) 0.36276514927546183\n",
            "\n",
            "EPOCH 162/200\n",
            "\n",
            "Iteration: 161. Loss: 0.14566364387671152. Validation Loss: 0.1429512103398641. Time(mins) 0.36464534600575765\n",
            "\n",
            "EPOCH 163/200\n",
            "\n",
            "Iteration: 162. Loss: 0.14128935833772024. Validation Loss: 0.14253203570842743. Time(mins) 0.3665402849515279\n",
            "\n",
            "EPOCH 164/200\n",
            "\n",
            "Iteration: 163. Loss: 0.14183820287386575. Validation Loss: 0.13846173882484436. Time(mins) 0.3683854619661967\n",
            "\n",
            "EPOCH 165/200\n",
            "\n",
            "Iteration: 164. Loss: 0.1434460977713267. Validation Loss: 0.1451303462187449. Time(mins) 0.3702470898628235\n",
            "\n",
            "EPOCH 166/200\n",
            "\n",
            "Iteration: 165. Loss: 0.14452789227167764. Validation Loss: 0.13788917164007822. Time(mins) 0.37220064401626585\n",
            "\n",
            "EPOCH 167/200\n",
            "\n",
            "Iteration: 166. Loss: 0.1417077879110972. Validation Loss: 0.14303231736024222. Time(mins) 0.37403496106465656\n",
            "\n",
            "EPOCH 168/200\n",
            "\n",
            "Iteration: 167. Loss: 0.1369860221942266. Validation Loss: 0.13971481223901114. Time(mins) 0.3758562644322713\n",
            "\n",
            "EPOCH 169/200\n",
            "\n",
            "Iteration: 168. Loss: 0.1375254144271215. Validation Loss: 0.13408401111761728. Time(mins) 0.37770063877105714\n",
            "\n",
            "EPOCH 170/200\n",
            "\n",
            "Iteration: 169. Loss: 0.135429581006368. Validation Loss: 0.13505926728248596. Time(mins) 0.3797217011451721\n",
            "\n",
            "EPOCH 171/200\n",
            "\n",
            "Iteration: 170. Loss: 0.14221755663553873. Validation Loss: 0.1409032146135966. Time(mins) 0.38156912724177044\n",
            "\n",
            "EPOCH 172/200\n",
            "\n",
            "Iteration: 171. Loss: 0.1392950862646103. Validation Loss: 0.14177788297335306. Time(mins) 0.38351258436838787\n",
            "\n",
            "EPOCH 173/200\n",
            "\n",
            "Iteration: 172. Loss: 0.13608897725741068. Validation Loss: 0.14068458477656046. Time(mins) 0.38540482918421426\n",
            "\n",
            "EPOCH 174/200\n",
            "\n",
            "Iteration: 173. Loss: 0.14699730277061462. Validation Loss: 0.13208281000455221. Time(mins) 0.3873414317766825\n",
            "\n",
            "EPOCH 175/200\n",
            "\n",
            "Iteration: 174. Loss: 0.14543257157007852. Validation Loss: 0.15475923816363016. Time(mins) 0.3891880949338277\n",
            "\n",
            "EPOCH 176/200\n",
            "\n",
            "Iteration: 175. Loss: 0.14331826070944467. Validation Loss: 0.131707231203715. Time(mins) 0.391127089659373\n",
            "\n",
            "EPOCH 177/200\n",
            "\n",
            "Iteration: 176. Loss: 0.13950830698013306. Validation Loss: 0.144137774904569. Time(mins) 0.3929479400316874\n",
            "\n",
            "EPOCH 178/200\n",
            "\n",
            "Iteration: 177. Loss: 0.15181164940198263. Validation Loss: 0.1492579480012258. Time(mins) 0.39477062225341797\n",
            "\n",
            "EPOCH 179/200\n",
            "\n",
            "Iteration: 178. Loss: 0.1445920616388321. Validation Loss: 0.13862463335196176. Time(mins) 0.3967744787534078\n",
            "\n",
            "EPOCH 180/200\n",
            "\n",
            "Iteration: 179. Loss: 0.13972841699918112. Validation Loss: 0.13464937607447305. Time(mins) 0.39858742157618204\n",
            "\n",
            "EPOCH 181/200\n",
            "\n",
            "Iteration: 180. Loss: 0.13973010579744974. Validation Loss: 0.1456684172153473. Time(mins) 0.4004409114519755\n",
            "\n",
            "EPOCH 182/200\n",
            "\n",
            "Iteration: 181. Loss: 0.13959218064943948. Validation Loss: 0.13698901236057281. Time(mins) 0.40236726999282835\n",
            "\n",
            "EPOCH 183/200\n",
            "\n",
            "Iteration: 182. Loss: 0.1259652922550837. Validation Loss: 0.13288593043883642. Time(mins) 0.4043065150578817\n",
            "\n",
            "EPOCH 184/200\n",
            "\n",
            "Iteration: 183. Loss: 0.13755031923453012. Validation Loss: 0.1414344608783722. Time(mins) 0.4061898986498515\n",
            "\n",
            "EPOCH 185/200\n",
            "\n",
            "Iteration: 184. Loss: 0.1370839625597. Validation Loss: 0.1373178114493688. Time(mins) 0.4081421653429667\n",
            "\n",
            "EPOCH 186/200\n",
            "\n",
            "Iteration: 185. Loss: 0.13585775097211203. Validation Loss: 0.1339312493801117. Time(mins) 0.41036097606023153\n",
            "\n",
            "EPOCH 187/200\n",
            "\n",
            "Iteration: 186. Loss: 0.13664786020914713. Validation Loss: 0.13311713933944702. Time(mins) 0.4122636159261068\n",
            "\n",
            "EPOCH 188/200\n",
            "\n",
            "Iteration: 187. Loss: 0.13869377473990122. Validation Loss: 0.1449207216501236. Time(mins) 0.4144520401954651\n",
            "\n",
            "EPOCH 189/200\n",
            "\n",
            "Iteration: 188. Loss: 0.13772104183832803. Validation Loss: 0.13357400397459665. Time(mins) 0.41629756689071656\n",
            "\n",
            "EPOCH 190/200\n",
            "\n",
            "Iteration: 189. Loss: 0.13505070408185324. Validation Loss: 0.13982057571411133. Time(mins) 0.41825867891311647\n",
            "\n",
            "EPOCH 191/200\n",
            "\n",
            "Iteration: 190. Loss: 0.13513062397638956. Validation Loss: 0.13410953680674234. Time(mins) 0.4201654156049093\n",
            "\n",
            "EPOCH 192/200\n",
            "\n",
            "Iteration: 191. Loss: 0.13311422864596048. Validation Loss: 0.13121176759401956. Time(mins) 0.42211307684580485\n",
            "\n",
            "EPOCH 193/200\n",
            "\n",
            "Iteration: 192. Loss: 0.12782029807567596. Validation Loss: 0.1324133574962616. Time(mins) 0.4239789644877116\n",
            "\n",
            "EPOCH 194/200\n",
            "\n",
            "Iteration: 193. Loss: 0.12846156458059946. Validation Loss: 0.13634970287481943. Time(mins) 0.4259539365768433\n",
            "\n",
            "EPOCH 195/200\n",
            "\n",
            "Iteration: 194. Loss: 0.12593521177768707. Validation Loss: 0.13142173985640207. Time(mins) 0.4278223951657613\n",
            "\n",
            "EPOCH 196/200\n",
            "\n",
            "Iteration: 195. Loss: 0.13387309263149896. Validation Loss: 0.13531370957692465. Time(mins) 0.4296354254086812\n",
            "\n",
            "EPOCH 197/200\n",
            "\n",
            "Iteration: 196. Loss: 0.13136605421702066. Validation Loss: 0.13144137461980185. Time(mins) 0.431729789574941\n",
            "\n",
            "EPOCH 198/200\n",
            "\n",
            "Iteration: 197. Loss: 0.12771107256412506. Validation Loss: 0.12115311125914256. Time(mins) 0.4335810979207357\n",
            "\n",
            "EPOCH 199/200\n",
            "\n",
            "Iteration: 198. Loss: 0.1274856080611547. Validation Loss: 0.12546627720197043. Time(mins) 0.43544403711954754\n",
            "\n",
            "EPOCH 200/200\n",
            "\n",
            "Iteration: 199. Loss: 0.13109012444814047. Validation Loss: 0.13491653402646384. Time(mins) 0.43729453881581626\n",
            "Model and optimizer saved at epoch : 199\n"
          ]
        }
      ]
    },
    {
      "cell_type": "code",
      "source": [
        "# Testing different combinations for segmentation\n",
        "# number of iterations, learning rate, batch size.\n",
        "import os\n",
        "\n",
        "iters = [1000, 2000, 4000, 6000, 8000]\n",
        "lr = [0.01, 0.05]\n",
        "batch = [1,2,3]\n",
        "\n",
        "for i in iters:\n",
        "  for l in lr:\n",
        "    for b in batch:\n",
        "      os.system(\"python train_Unet.py --train_folder /content/drive/MyDrive/Thesis/validationData --val_folder /content/drive/MyDrive/Thesis/validationData --model_checkpoints model_checkpoints_niter_{0}_lr_{1}_batch_{2} --optimizer_checkpoints model_optimizers_niter_{3}_lr_{4}_batch_{5} --experiment_name Experiment_niter_{9}_lr_{10}_batch_{11} --n_epochs {12} --l_rate {13} --batch_size {14}\".format(i,l,b,i,l,b,i,l,b,i,l,b))"
      ],
      "metadata": {
        "id": "vqJLTQ-vR6to"
      },
      "execution_count": null,
      "outputs": []
    },
    {
      "cell_type": "markdown",
      "source": [
        "## Segment Images With Saved Model"
      ],
      "metadata": {
        "id": "L5xz7c_M26pC"
      }
    },
    {
      "cell_type": "code",
      "source": [
        "%cd MedSegmentation/"
      ],
      "metadata": {
        "id": "QiefW071_jH9",
        "colab": {
          "base_uri": "https://localhost:8080/"
        },
        "outputId": "e8be5d52-7932-4e3c-abf8-132d1792d395"
      },
      "execution_count": null,
      "outputs": [
        {
          "output_type": "stream",
          "name": "stdout",
          "text": [
            "[Errno 2] No such file or directory: 'MedSegmentation/'\n",
            "/content/Adversarial-Representation-Learning-for-Medical-Imaging/MedSegmentation\n"
          ]
        }
      ]
    },
    {
      "cell_type": "code",
      "metadata": {
        "id": "oj4uAF46lqtZ",
        "colab": {
          "base_uri": "https://localhost:8080/"
        },
        "outputId": "5d96bccd-93d8-4d09-d3ef-d3319bf3983b"
      },
      "source": [
        "! python api.py --model_dir /content/Adversarial-Representation-Learning-for-Medical-Imaging/MedSegmentation/model_checkpoints --test_images /content/Adversarial-Representation-Learning-for-Medical-Imaging/images --no_eval"
      ],
      "execution_count": null,
      "outputs": [
        {
          "output_type": "stream",
          "name": "stdout",
          "text": [
            "CUDA is available. Training on GPU\n"
          ]
        }
      ]
    },
    {
      "cell_type": "markdown",
      "metadata": {
        "id": "USI9wG8G0RnH"
      },
      "source": [
        "## Save Model"
      ]
    },
    {
      "cell_type": "code",
      "source": [
        "# Import files to download zips\n",
        "from google.colab import files"
      ],
      "metadata": {
        "id": "eArCH-4l3Pin"
      },
      "execution_count": null,
      "outputs": []
    },
    {
      "cell_type": "code",
      "source": [
        "# Zip the mlruns metrics to analyse\n",
        "!zip -r /content/current_model.zip .\n",
        "files.download(\"/content/current_model.zip\")"
      ],
      "metadata": {
        "id": "3gbQHAT3K_63"
      },
      "execution_count": null,
      "outputs": []
    },
    {
      "cell_type": "code",
      "metadata": {
        "id": "fTwOt56E04Du"
      },
      "source": [
        "# Zip the best model analysed based on the mlruns\n",
        "!zip -r /content/best_segmentation_model.zip /content/Adversarial-Representation-Learning-for-Medical-Imaging/MedSegmentation/model_checkpoints\n",
        "files.download(\"/content/best_segmentation_model.zip\")"
      ],
      "execution_count": null,
      "outputs": []
    },
    {
      "cell_type": "markdown",
      "metadata": {
        "id": "gOUMtetBhAph"
      },
      "source": [
        "## Utils"
      ]
    },
    {
      "cell_type": "code",
      "metadata": {
        "id": "vUtiqp0BpYZL"
      },
      "source": [
        "! rm -r /content/Adversarial-Representation-Learning-for-Medical-Imaging/MedSegmentation/runs"
      ],
      "execution_count": null,
      "outputs": []
    },
    {
      "cell_type": "code",
      "source": [
        "! rm -r /content/Adversarial-Representation-Learning-for-Medical-Imaging/MedSegmentation/results"
      ],
      "metadata": {
        "id": "RA96fFzFANQj"
      },
      "execution_count": null,
      "outputs": []
    },
    {
      "cell_type": "code",
      "source": [
        "! rm -r /content/Adversarial-Representation-Learning-for-Medical-Imaging/MedSegmentation/mlruns"
      ],
      "metadata": {
        "id": "7AxUPO8eJZOg"
      },
      "execution_count": null,
      "outputs": []
    },
    {
      "cell_type": "code",
      "source": [
        "! rm -r /content/Adversarial-Representation-Learning-for-Medical-Imaging/MedSegmentation/model_checkpoints"
      ],
      "metadata": {
        "id": "CEUy1ziaJZDU"
      },
      "execution_count": null,
      "outputs": []
    },
    {
      "cell_type": "code",
      "source": [
        "! rm -r /content/Adversarial-Representation-Learning-for-Medical-Imaging/MedSegmentation/model_optimizers"
      ],
      "metadata": {
        "id": "OyQs4ij2JY3W"
      },
      "execution_count": null,
      "outputs": []
    },
    {
      "cell_type": "markdown",
      "source": [
        "## Experiments"
      ],
      "metadata": {
        "id": "0PZ7DpaG-Xa3"
      }
    },
    {
      "cell_type": "code",
      "source": [
        "from keras import backend as K\n",
        "import os\n",
        "import cv2\n",
        "from torch.autograd import Variable\n",
        "import torch\n",
        "\n",
        "def dice_coeff(y_true, y_pred, smooth=1):\n",
        "    \"\"\"\n",
        "    Calculates the dice coefficient for the images\n",
        "    @param y_true: The ground truth mask\n",
        "    @param y_pred: The predicted mask\n",
        "    @param smooth:\n",
        "    @return: The Dice Coefficient value\n",
        "    \"\"\"\n",
        "\n",
        "    intersection = K.sum(y_true * y_pred)\n",
        "    union = K.sum(y_true) + K.sum(y_pred)\n",
        "    dice = K.mean((2. * intersection + smooth) / (union + smooth))\n",
        "    return K.get_value(dice)\n",
        "\n",
        "\n",
        "def jaccard_index(y_true, y_pred, smooth=1):\n",
        "    \"\"\"\n",
        "    Performs jaccard index using jaccard score from scikit learn\n",
        "    @param smooth:\n",
        "    @param y_true: The true ground truth value\n",
        "    @param y_pred: The predicted value\n",
        "    @return: The Jaccard score between the two images\n",
        "    \"\"\"\n",
        "\n",
        "    intersection = K.sum(K.abs(y_true * y_pred))\n",
        "    union = K.sum(y_true) + K.sum(y_pred) - intersection\n",
        "    iou = K.mean((intersection + smooth) / (union + smooth))\n",
        "    return K.get_value(iou)\n",
        "\n",
        "def bce_metric(y_true, y_pred):\n",
        "  loss = torch.nn.BCELoss()\n",
        "  return loss(y_pred, y_true)"
      ],
      "metadata": {
        "id": "-Id-6w0NBPTH"
      },
      "execution_count": null,
      "outputs": []
    },
    {
      "cell_type": "code",
      "source": [
        "# Average metric results\n",
        "dice = 0\n",
        "jacc = 0\n",
        "pred_folder = '/content/Adversarial-Representation-Learning-for-Medical-Imaging/MedSegmentation/results'\n",
        "or_folder = '/content/drive/MyDrive/Thesis/seg_masks'\n",
        "for i in os.listdir(or_folder):\n",
        "  t = cv2.imread(os.path.join(or_folder, i), 0)\n",
        "  p = cv2.imread(os.path.join(pred_folder, i), 0)\n",
        "\n",
        "  t = t.reshape((t.shape[0], t.shape[1], 1)).transpose((2, 0, 1)).astype(float)/255\n",
        "  p = p.reshape((p.shape[0], p.shape[1], 1)).transpose((2, 0, 1)).astype(float)/255\n",
        "\n",
        "  dice += dice_coeff(t, p)\n",
        "  jacc += jaccard_index(t, p)\n",
        "\n",
        "print(\"Dice Coefficient:\", dice/len(os.listdir(or_folder)))\n",
        "print(\"Jaccard Index:\", jacc/len(os.listdir(or_folder)))"
      ],
      "metadata": {
        "id": "-55UABXt-YOA",
        "colab": {
          "base_uri": "https://localhost:8080/"
        },
        "outputId": "1c2d6af5-418a-4446-aa60-7d535a9cd44c"
      },
      "execution_count": null,
      "outputs": [
        {
          "output_type": "stream",
          "name": "stdout",
          "text": [
            "Dice Coefficient: 0.03548681480820949\n",
            "Jaccard Index: 0.018242735536328245\n"
          ]
        }
      ]
    },
    {
      "cell_type": "code",
      "source": [
        "p = cv2.imread('/content/Adversarial-Representation-Learning-for-Medical-Imaging/MedSegmentation/results/1_mask.png', 0)\n",
        "t = cv2.imread('/content/drive/MyDrive/Thesis/trainingData/1/1_1_mask.png', 0)\n",
        "\n",
        "print(p.shape)\n",
        "print(t.shape)"
      ],
      "metadata": {
        "colab": {
          "base_uri": "https://localhost:8080/"
        },
        "id": "3ns70aU1SWbv",
        "outputId": "7abbc760-a6cd-4663-962c-723b3c7dfee9"
      },
      "execution_count": null,
      "outputs": [
        {
          "output_type": "stream",
          "name": "stdout",
          "text": [
            "(2457, 1996)\n",
            "(2457, 1996)\n"
          ]
        }
      ]
    },
    {
      "cell_type": "code",
      "source": [
        "p = torch.tensor(p, dtype=torch.float)/255\n",
        "t = torch.tensor(t, dtype=torch.float)/255"
      ],
      "metadata": {
        "id": "hfq966VqS5d0"
      },
      "execution_count": null,
      "outputs": []
    },
    {
      "cell_type": "code",
      "source": [
        "bce_metric(t,p)"
      ],
      "metadata": {
        "colab": {
          "base_uri": "https://localhost:8080/"
        },
        "id": "gQWoLBNHS9i_",
        "outputId": "8af6bbff-c56a-4ccb-d0d9-3bbb083176c5"
      },
      "execution_count": null,
      "outputs": [
        {
          "output_type": "execute_result",
          "data": {
            "text/plain": [
              "tensor(0.3023)"
            ]
          },
          "metadata": {},
          "execution_count": 21
        }
      ]
    },
    {
      "cell_type": "code",
      "source": [
        "dice_coeff(t,p)"
      ],
      "metadata": {
        "colab": {
          "base_uri": "https://localhost:8080/"
        },
        "id": "h9lUO7Q6TVHh",
        "outputId": "729d191a-538f-461e-e289-3a0eb46d1ccf"
      },
      "execution_count": null,
      "outputs": [
        {
          "output_type": "execute_result",
          "data": {
            "text/plain": [
              "0.032773282"
            ]
          },
          "metadata": {},
          "execution_count": 22
        }
      ]
    },
    {
      "cell_type": "code",
      "source": [
        "import cv2"
      ],
      "metadata": {
        "id": "kCp65eydVklx"
      },
      "execution_count": null,
      "outputs": []
    },
    {
      "cell_type": "code",
      "source": [
        "a = cv2.imread('/content/Adversarial-Representation-Learning-for-Medical-Imaging/data/1/1.png')"
      ],
      "metadata": {
        "id": "-9DomiV8z63F"
      },
      "execution_count": null,
      "outputs": []
    },
    {
      "cell_type": "code",
      "source": [
        "a"
      ],
      "metadata": {
        "id": "Y9SNo3Etz_FN"
      },
      "execution_count": null,
      "outputs": []
    },
    {
      "cell_type": "code",
      "source": [
        "! python --version"
      ],
      "metadata": {
        "id": "V9SUtDSe1K5a",
        "outputId": "f9f623fe-c597-4e78-8383-a53385ed70a6",
        "colab": {
          "base_uri": "https://localhost:8080/"
        }
      },
      "execution_count": null,
      "outputs": [
        {
          "output_type": "stream",
          "name": "stdout",
          "text": [
            "Python 3.7.12\n"
          ]
        }
      ]
    },
    {
      "cell_type": "code",
      "source": [
        ""
      ],
      "metadata": {
        "id": "5C3jzjZo1ND-"
      },
      "execution_count": null,
      "outputs": []
    }
  ]
}